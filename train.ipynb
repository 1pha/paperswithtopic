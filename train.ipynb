{
 "cells": [
  {
   "cell_type": "markdown",
   "id": "9ddecef3",
   "metadata": {},
   "source": [
    "# Train"
   ]
  },
  {
   "cell_type": "code",
   "execution_count": 2,
   "id": "37623820",
   "metadata": {
    "ExecuteTime": {
     "end_time": "2021-06-16T10:23:15.126227Z",
     "start_time": "2021-06-16T10:23:11.735570Z"
    }
   },
   "outputs": [],
   "source": [
    "import wandb\n",
    "from paperswithtopic.config import load_config\n",
    "from paperswithtopic.run import run"
   ]
  },
  {
   "cell_type": "code",
   "execution_count": null,
   "id": "c73a92ef",
   "metadata": {
    "ExecuteTime": {
     "end_time": "2021-06-16T02:02:52.126225Z",
     "start_time": "2021-06-16T02:02:52.111185Z"
    }
   },
   "outputs": [],
   "source": [
    "cfg = load_config()\n",
    "cfg.use_saved = True\n",
    "cfg.pre_embed = False\n",
    "cfg.use_bert_embed = False\n",
    "\n",
    "cfg.model_name = 'bertforclassification'"
   ]
  },
  {
   "cell_type": "code",
   "execution_count": 2,
   "id": "9bc322c4",
   "metadata": {
    "ExecuteTime": {
     "end_time": "2021-06-16T02:02:52.126225Z",
     "start_time": "2021-06-16T02:02:52.111185Z"
    }
   },
   "outputs": [],
   "source": [
    "wandb.login()\n",
    "wandb.init(project='paperswithtopic', name='bertforclassification')"
   ]
  },
  {
   "cell_type": "code",
   "execution_count": null,
   "id": "29b9fadc",
   "metadata": {
    "ExecuteTime": {
     "end_time": "2021-06-15T12:41:16.827319Z",
     "start_time": "2021-06-15T12:41:09.533866Z"
    }
   },
   "outputs": [],
   "source": [
    "run(cfg)"
   ]
  },
  {
   "cell_type": "markdown",
   "id": "d6a463ab",
   "metadata": {},
   "source": [
    "# Hyperparameter grid search with wandb.sweep"
   ]
  },
  {
   "cell_type": "code",
   "execution_count": null,
   "id": "1f544a5f",
   "metadata": {
    "ExecuteTime": {
     "end_time": "2021-06-16T02:14:53.960855Z",
     "start_time": "2021-06-16T02:14:44.478034Z"
    }
   },
   "outputs": [],
   "source": [
    "sweep_config = {\n",
    "    'name': 'bertforclassification_re',\n",
    "    'method': 'grid',\n",
    "    'metric': {\n",
    "        'name': 'valid_auc',\n",
    "        'goal': 'maximize',\n",
    "    },\n",
    "    'parameters': {\n",
    "        'hidden_dim': {\n",
    "            'values': [128, 256, 512]\n",
    "        },\n",
    "        'n_layers': {\n",
    "            'values': [3, 4]\n",
    "        },\n",
    "        'n_heads': {\n",
    "            'values': [8, 16, 32]\n",
    "        }\n",
    "    }\n",
    "}\n",
    "sweep_id = wandb.sweep(sweep_config, project='paperswithtopic')"
   ]
  },
  {
   "cell_type": "code",
   "execution_count": null,
   "id": "400851c2",
   "metadata": {},
   "outputs": [],
   "source": [
    "def run_sweep():\n",
    "    \n",
    "    with wandb.init():\n",
    "        \n",
    "        cfg = load_config()\n",
    "        \n",
    "        cfg.use_saved = True\n",
    "        cfg.pre_embed = False\n",
    "        cfg.use_bert_embed = False        \n",
    "        cfg.model_name = 'bert'\n",
    "        cfg.learning_rate = 0.0001\n",
    "        \n",
    "        _cfg = wandb.config\n",
    "        __cfg = dict(); __cfg.update(_cfg); cfg.update(__cfg)\n",
    "        \n",
    "        name = f'SWEEP_LR{cfg.learning_rate}_DIM{cfg.hidden_dim}'\n",
    "        \n",
    "        wandb.run.name = name\n",
    "        wandb.config.update(cfg)\n",
    "        \n",
    "        run(cfg)\n",
    "        \n",
    "        clear_output()"
   ]
  },
  {
   "cell_type": "code",
   "execution_count": null,
   "id": "0ca10843",
   "metadata": {},
   "outputs": [],
   "source": [
    "wandb.agent(sweep_id, function=run_sweep)"
   ]
  }
 ],
 "metadata": {
  "kernelspec": {
   "display_name": "Python 3",
   "language": "python",
   "name": "python3"
  },
  "language_info": {
   "codemirror_mode": {
    "name": "ipython",
    "version": 3
   },
   "file_extension": ".py",
   "mimetype": "text/x-python",
   "name": "python",
   "nbconvert_exporter": "python",
   "pygments_lexer": "ipython3",
   "version": "3.9.4"
  },
  "toc": {
   "base_numbering": 1,
   "nav_menu": {},
   "number_sections": false,
   "sideBar": true,
   "skip_h1_title": false,
   "title_cell": "Table of Contents",
   "title_sidebar": "Contents",
   "toc_cell": false,
   "toc_position": {
    "height": "calc(100% - 180px)",
    "left": "10px",
    "top": "150px",
    "width": "189px"
   },
   "toc_section_display": true,
   "toc_window_display": false
  }
 },
 "nbformat": 4,
 "nbformat_minor": 5
}
