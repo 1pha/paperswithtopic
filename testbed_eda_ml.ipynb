{
 "cells": [
  {
   "cell_type": "markdown",
   "id": "4f200228",
   "metadata": {},
   "source": [
    "# 0. Import"
   ]
  },
  {
   "cell_type": "code",
   "execution_count": 1,
   "id": "f4f882c7",
   "metadata": {
    "ExecuteTime": {
     "end_time": "2021-05-31T12:30:23.778148Z",
     "start_time": "2021-05-31T12:30:23.236638Z"
    }
   },
   "outputs": [],
   "source": [
    "import numpy as np\n",
    "\n",
    "import torch\n",
    "import torch.nn as nn"
   ]
  },
  {
   "cell_type": "code",
   "execution_count": 1,
   "id": "8bdbe273",
   "metadata": {
    "ExecuteTime": {
     "end_time": "2021-05-31T12:44:54.177586Z",
     "start_time": "2021-05-31T12:44:52.066074Z"
    }
   },
   "outputs": [
    {
     "name": "stderr",
     "output_type": "stream",
     "text": [
      "C:\\Users\\pha\\anaconda3\\envs\\xai501\\lib\\site-packages\\gensim\\similarities\\__init__.py:15: UserWarning: The gensim.similarities.levenshtein submodule is disabled, because the optional Levenshtein package <https://pypi.org/project/python-Levenshtein/> is unavailable. Install Levenhstein (e.g. `pip install python-Levenshtein`) to suppress this warning.\n",
      "  warnings.warn(msg)\n"
     ]
    }
   ],
   "source": [
    "from paperswithtopic.config import load_config\n",
    "from paperswithtopic.preprocess import Preprocess\n",
    "from paperswithtopic.dataloader import get_dataloader\n",
    "from paperswithtopic.model import BERTClassification\n",
    "from paperswithtopic.run import run"
   ]
  },
  {
   "cell_type": "code",
   "execution_count": 2,
   "id": "cbefcbad",
   "metadata": {
    "ExecuteTime": {
     "end_time": "2021-05-31T12:44:54.208587Z",
     "start_time": "2021-05-31T12:44:54.178587Z"
    }
   },
   "outputs": [],
   "source": [
    "cfg = load_config()\n",
    "cfg.use_saved = True"
   ]
  },
  {
   "cell_type": "code",
   "execution_count": 3,
   "id": "e336af2c",
   "metadata": {
    "ExecuteTime": {
     "end_time": "2021-05-31T12:46:08.466341Z",
     "start_time": "2021-05-31T12:44:54.209588Z"
    }
   },
   "outputs": [
    {
     "name": "stdout",
     "output_type": "stream",
     "text": [
      "[load_data] 0.2 sec \n",
      "NUM TRAIN 3998 | NUM VALID 1000\n",
      "TRAIN:: AUC 0.4934242787755647 | LOSS 83.18610382080078\n",
      "VALID:: AUC 0.5060342159407225 | LOSS 39.217105865478516\n",
      "TRAIN:: AUC 0.4971230366667291 | LOSS 39.784488677978516\n",
      "VALID:: AUC 0.5055511992397261 | LOSS 39.053157806396484\n"
     ]
    },
    {
     "ename": "AttributeError",
     "evalue": "'EasyDict' object has no attribute 'patience'",
     "output_type": "error",
     "traceback": [
      "\u001b[1;31m---------------------------------------------------------------------------\u001b[0m",
      "\u001b[1;31mAttributeError\u001b[0m                            Traceback (most recent call last)",
      "\u001b[1;32m<ipython-input-3-437ab281494a>\u001b[0m in \u001b[0;36m<module>\u001b[1;34m\u001b[0m\n\u001b[1;32m----> 1\u001b[1;33m \u001b[0mrun\u001b[0m\u001b[1;33m(\u001b[0m\u001b[0mcfg\u001b[0m\u001b[1;33m)\u001b[0m\u001b[1;33m\u001b[0m\u001b[1;33m\u001b[0m\u001b[0m\n\u001b[0m",
      "\u001b[1;32mG:\\My Drive\\projects\\paperswithcode_nlp\\paperswithtopic\\run.py\u001b[0m in \u001b[0;36mrun\u001b[1;34m(cfg)\u001b[0m\n\u001b[0;32m     56\u001b[0m         \u001b[1;32melse\u001b[0m\u001b[1;33m:\u001b[0m\u001b[1;33m\u001b[0m\u001b[1;33m\u001b[0m\u001b[0m\n\u001b[0;32m     57\u001b[0m             \u001b[0mearly_stopping_counter\u001b[0m \u001b[1;33m+=\u001b[0m \u001b[1;36m1\u001b[0m\u001b[1;33m\u001b[0m\u001b[1;33m\u001b[0m\u001b[0m\n\u001b[1;32m---> 58\u001b[1;33m             \u001b[1;32mif\u001b[0m \u001b[0mearly_stopping_counter\u001b[0m \u001b[1;33m>=\u001b[0m \u001b[0mcfg\u001b[0m\u001b[1;33m.\u001b[0m\u001b[0mpatience\u001b[0m\u001b[1;33m:\u001b[0m\u001b[1;33m\u001b[0m\u001b[1;33m\u001b[0m\u001b[0m\n\u001b[0m\u001b[0;32m     59\u001b[0m                 \u001b[0mprint\u001b[0m\u001b[1;33m(\u001b[0m\u001b[1;34mf'EarlyStopping counter: {early_stopping_counter} out of {cfg.patience}'\u001b[0m\u001b[1;33m)\u001b[0m\u001b[1;33m\u001b[0m\u001b[1;33m\u001b[0m\u001b[0m\n\u001b[0;32m     60\u001b[0m                 \u001b[1;32mbreak\u001b[0m\u001b[1;33m\u001b[0m\u001b[1;33m\u001b[0m\u001b[0m\n",
      "\u001b[1;31mAttributeError\u001b[0m: 'EasyDict' object has no attribute 'patience'"
     ]
    }
   ],
   "source": [
    "run(cfg)"
   ]
  },
  {
   "cell_type": "code",
   "execution_count": 13,
   "id": "081e625e",
   "metadata": {
    "ExecuteTime": {
     "end_time": "2021-05-31T11:26:33.972080Z",
     "start_time": "2021-05-31T11:26:33.911060Z"
    }
   },
   "outputs": [
    {
     "data": {
      "text/plain": [
       "tensor([[0.0618, 0.0610, 0.0602, 0.0636, 0.0618, 0.0647, 0.0567, 0.0646, 0.0588,\n",
       "         0.0680, 0.0588, 0.0590, 0.0652, 0.0680, 0.0612, 0.0666],\n",
       "        [0.0598, 0.0607, 0.0678, 0.0584, 0.0621, 0.0660, 0.0602, 0.0628, 0.0559,\n",
       "         0.0638, 0.0675, 0.0607, 0.0686, 0.0612, 0.0625, 0.0619],\n",
       "        [0.0560, 0.0664, 0.0555, 0.0689, 0.0610, 0.0630, 0.0614, 0.0670, 0.0613,\n",
       "         0.0616, 0.0632, 0.0658, 0.0639, 0.0589, 0.0649, 0.0613],\n",
       "        [0.0611, 0.0619, 0.0691, 0.0636, 0.0668, 0.0567, 0.0643, 0.0618, 0.0566,\n",
       "         0.0591, 0.0626, 0.0646, 0.0621, 0.0639, 0.0599, 0.0658],\n",
       "        [0.0608, 0.0618, 0.0604, 0.0639, 0.0633, 0.0680, 0.0562, 0.0602, 0.0645,\n",
       "         0.0739, 0.0634, 0.0614, 0.0618, 0.0566, 0.0628, 0.0609],\n",
       "        [0.0639, 0.0641, 0.0598, 0.0625, 0.0616, 0.0624, 0.0588, 0.0621, 0.0687,\n",
       "         0.0635, 0.0648, 0.0629, 0.0607, 0.0610, 0.0605, 0.0628],\n",
       "        [0.0661, 0.0620, 0.0636, 0.0613, 0.0597, 0.0665, 0.0672, 0.0628, 0.0624,\n",
       "         0.0601, 0.0583, 0.0546, 0.0616, 0.0635, 0.0674, 0.0628],\n",
       "        [0.0623, 0.0613, 0.0587, 0.0603, 0.0647, 0.0614, 0.0615, 0.0598, 0.0651,\n",
       "         0.0645, 0.0648, 0.0648, 0.0618, 0.0606, 0.0635, 0.0650],\n",
       "        [0.0723, 0.0614, 0.0658, 0.0574, 0.0610, 0.0635, 0.0722, 0.0637, 0.0653,\n",
       "         0.0592, 0.0577, 0.0617, 0.0599, 0.0573, 0.0594, 0.0620],\n",
       "        [0.0688, 0.0570, 0.0595, 0.0634, 0.0625, 0.0668, 0.0597, 0.0602, 0.0611,\n",
       "         0.0662, 0.0623, 0.0574, 0.0644, 0.0636, 0.0649, 0.0621],\n",
       "        [0.0676, 0.0645, 0.0625, 0.0578, 0.0645, 0.0625, 0.0653, 0.0639, 0.0608,\n",
       "         0.0609, 0.0591, 0.0603, 0.0580, 0.0653, 0.0626, 0.0645],\n",
       "        [0.0627, 0.0598, 0.0613, 0.0594, 0.0618, 0.0653, 0.0644, 0.0586, 0.0699,\n",
       "         0.0626, 0.0620, 0.0583, 0.0641, 0.0595, 0.0655, 0.0648],\n",
       "        [0.0655, 0.0576, 0.0605, 0.0660, 0.0572, 0.0641, 0.0645, 0.0617, 0.0698,\n",
       "         0.0675, 0.0610, 0.0598, 0.0567, 0.0627, 0.0619, 0.0634],\n",
       "        [0.0672, 0.0614, 0.0579, 0.0600, 0.0640, 0.0648, 0.0593, 0.0644, 0.0635,\n",
       "         0.0581, 0.0656, 0.0618, 0.0647, 0.0616, 0.0652, 0.0604],\n",
       "        [0.0667, 0.0584, 0.0648, 0.0619, 0.0589, 0.0622, 0.0657, 0.0610, 0.0651,\n",
       "         0.0700, 0.0625, 0.0617, 0.0587, 0.0615, 0.0604, 0.0605],\n",
       "        [0.0563, 0.0599, 0.0599, 0.0666, 0.0650, 0.0617, 0.0669, 0.0624, 0.0627,\n",
       "         0.0624, 0.0643, 0.0589, 0.0623, 0.0652, 0.0613, 0.0642]],\n",
       "       grad_fn=<SoftmaxBackward>)"
      ]
     },
     "execution_count": 13,
     "metadata": {},
     "output_type": "execute_result"
    }
   ],
   "source": [
    "model(paper)"
   ]
  },
  {
   "cell_type": "markdown",
   "id": "5fec66b6",
   "metadata": {},
   "source": [
    "## 0.1 Import"
   ]
  },
  {
   "cell_type": "code",
   "execution_count": 3,
   "id": "fc0b9b52",
   "metadata": {
    "ExecuteTime": {
     "end_time": "2021-05-30T12:37:48.512984Z",
     "start_time": "2021-05-30T12:37:46.769469Z"
    }
   },
   "outputs": [],
   "source": [
    "import yaml\n",
    "import numpy as np\n",
    "import pandas as pd\n",
    "from tqdm import tqdm\n",
    "from urllib import parse\n",
    "from datetime import datetime\n",
    "from typing import Dict, List, Optional\n",
    "from collections import Counter\n",
    "import seaborn as sns\n",
    "sns.set_theme(context='notebook', palette='Reds_r')\n",
    "\n",
    "import matplotlib.pyplot as plt\n",
    "\n",
    "from sklearn.model_selection import train_test_split\n",
    "import torch\n",
    "from torch.utils.data import Dataset, DataLoader"
   ]
  },
  {
   "cell_type": "markdown",
   "id": "39fb70a2",
   "metadata": {},
   "source": [
    "## 0.2 Load Data"
   ]
  },
  {
   "cell_type": "code",
   "execution_count": 4,
   "id": "9b243c3b",
   "metadata": {
    "ExecuteTime": {
     "end_time": "2021-05-30T12:37:48.682984Z",
     "start_time": "2021-05-30T12:37:48.513985Z"
    }
   },
   "outputs": [],
   "source": [
    "paper_df = pd.read_csv('paperswithtopic.csv', index_col=0)\n",
    "paper_df[paper_df >= 1] = 1\n",
    "paper_df = paper_df.astype({c: 'int8' for c in paper_df.columns})"
   ]
  },
  {
   "cell_type": "code",
   "execution_count": 5,
   "id": "7ce03b53",
   "metadata": {
    "ExecuteTime": {
     "end_time": "2021-05-30T12:37:48.698984Z",
     "start_time": "2021-05-30T12:37:48.683985Z"
    }
   },
   "outputs": [
    {
     "data": {
      "text/plain": [
       "(49980, 16)"
      ]
     },
     "execution_count": 5,
     "metadata": {},
     "output_type": "execute_result"
    }
   ],
   "source": [
    "paper_df.shape"
   ]
  },
  {
   "cell_type": "code",
   "execution_count": 6,
   "id": "00c8e5fd",
   "metadata": {
    "ExecuteTime": {
     "end_time": "2021-05-30T12:37:48.714984Z",
     "start_time": "2021-05-30T12:37:48.699986Z"
    }
   },
   "outputs": [
    {
     "data": {
      "text/html": [
       "<div>\n",
       "<style scoped>\n",
       "    .dataframe tbody tr th:only-of-type {\n",
       "        vertical-align: middle;\n",
       "    }\n",
       "\n",
       "    .dataframe tbody tr th {\n",
       "        vertical-align: top;\n",
       "    }\n",
       "\n",
       "    .dataframe thead th {\n",
       "        text-align: right;\n",
       "    }\n",
       "</style>\n",
       "<table border=\"1\" class=\"dataframe\">\n",
       "  <thead>\n",
       "    <tr style=\"text-align: right;\">\n",
       "      <th></th>\n",
       "      <th>adversarial</th>\n",
       "      <th>audio</th>\n",
       "      <th>computer-code</th>\n",
       "      <th>computer-vision</th>\n",
       "      <th>graphs</th>\n",
       "      <th>knowledge-base</th>\n",
       "      <th>medical</th>\n",
       "      <th>methodology</th>\n",
       "      <th>miscellaneous</th>\n",
       "      <th>music</th>\n",
       "      <th>natural-language-processing</th>\n",
       "      <th>playing-games</th>\n",
       "      <th>reasoning</th>\n",
       "      <th>robots</th>\n",
       "      <th>speech</th>\n",
       "      <th>time-series</th>\n",
       "    </tr>\n",
       "  </thead>\n",
       "  <tbody>\n",
       "    <tr>\n",
       "      <th>Mockingbird: Defending Against Deep-Learning-Based Website Fingerprinting Attacks with Adversarial Traces</th>\n",
       "      <td>1</td>\n",
       "      <td>0</td>\n",
       "      <td>0</td>\n",
       "      <td>0</td>\n",
       "      <td>0</td>\n",
       "      <td>0</td>\n",
       "      <td>0</td>\n",
       "      <td>0</td>\n",
       "      <td>0</td>\n",
       "      <td>0</td>\n",
       "      <td>0</td>\n",
       "      <td>0</td>\n",
       "      <td>0</td>\n",
       "      <td>0</td>\n",
       "      <td>0</td>\n",
       "      <td>0</td>\n",
       "    </tr>\n",
       "    <tr>\n",
       "      <th>Attacking Text Classifiers via Sentence Rewriting Sampler</th>\n",
       "      <td>1</td>\n",
       "      <td>0</td>\n",
       "      <td>0</td>\n",
       "      <td>0</td>\n",
       "      <td>0</td>\n",
       "      <td>0</td>\n",
       "      <td>0</td>\n",
       "      <td>0</td>\n",
       "      <td>0</td>\n",
       "      <td>0</td>\n",
       "      <td>1</td>\n",
       "      <td>0</td>\n",
       "      <td>0</td>\n",
       "      <td>0</td>\n",
       "      <td>0</td>\n",
       "      <td>0</td>\n",
       "    </tr>\n",
       "    <tr>\n",
       "      <th>Best Practices for Noise-Based Augmentation to Improve the Performance of Emotion Recognition \"In the Wild\"</th>\n",
       "      <td>1</td>\n",
       "      <td>0</td>\n",
       "      <td>0</td>\n",
       "      <td>0</td>\n",
       "      <td>0</td>\n",
       "      <td>0</td>\n",
       "      <td>0</td>\n",
       "      <td>1</td>\n",
       "      <td>0</td>\n",
       "      <td>0</td>\n",
       "      <td>0</td>\n",
       "      <td>0</td>\n",
       "      <td>0</td>\n",
       "      <td>0</td>\n",
       "      <td>1</td>\n",
       "      <td>0</td>\n",
       "    </tr>\n",
       "    <tr>\n",
       "      <th>Fashion-Guided Adversarial Attack on Person Segmentation</th>\n",
       "      <td>1</td>\n",
       "      <td>0</td>\n",
       "      <td>0</td>\n",
       "      <td>0</td>\n",
       "      <td>0</td>\n",
       "      <td>0</td>\n",
       "      <td>0</td>\n",
       "      <td>0</td>\n",
       "      <td>0</td>\n",
       "      <td>0</td>\n",
       "      <td>0</td>\n",
       "      <td>0</td>\n",
       "      <td>0</td>\n",
       "      <td>0</td>\n",
       "      <td>0</td>\n",
       "      <td>0</td>\n",
       "    </tr>\n",
       "    <tr>\n",
       "      <th>Adversarial Diffusion Attacks on Graph-based Traffic Prediction Models</th>\n",
       "      <td>1</td>\n",
       "      <td>0</td>\n",
       "      <td>0</td>\n",
       "      <td>0</td>\n",
       "      <td>0</td>\n",
       "      <td>0</td>\n",
       "      <td>0</td>\n",
       "      <td>0</td>\n",
       "      <td>0</td>\n",
       "      <td>0</td>\n",
       "      <td>0</td>\n",
       "      <td>0</td>\n",
       "      <td>0</td>\n",
       "      <td>0</td>\n",
       "      <td>0</td>\n",
       "      <td>1</td>\n",
       "    </tr>\n",
       "  </tbody>\n",
       "</table>\n",
       "</div>"
      ],
      "text/plain": [
       "                                                    adversarial  audio  \\\n",
       "Mockingbird: Defending Against Deep-Learning-Ba...            1      0   \n",
       "Attacking Text Classifiers via Sentence Rewriti...            1      0   \n",
       "Best Practices for Noise-Based Augmentation to ...            1      0   \n",
       "Fashion-Guided Adversarial Attack on Person Seg...            1      0   \n",
       "Adversarial Diffusion Attacks on Graph-based Tr...            1      0   \n",
       "\n",
       "                                                    computer-code  \\\n",
       "Mockingbird: Defending Against Deep-Learning-Ba...              0   \n",
       "Attacking Text Classifiers via Sentence Rewriti...              0   \n",
       "Best Practices for Noise-Based Augmentation to ...              0   \n",
       "Fashion-Guided Adversarial Attack on Person Seg...              0   \n",
       "Adversarial Diffusion Attacks on Graph-based Tr...              0   \n",
       "\n",
       "                                                    computer-vision  graphs  \\\n",
       "Mockingbird: Defending Against Deep-Learning-Ba...                0       0   \n",
       "Attacking Text Classifiers via Sentence Rewriti...                0       0   \n",
       "Best Practices for Noise-Based Augmentation to ...                0       0   \n",
       "Fashion-Guided Adversarial Attack on Person Seg...                0       0   \n",
       "Adversarial Diffusion Attacks on Graph-based Tr...                0       0   \n",
       "\n",
       "                                                    knowledge-base  medical  \\\n",
       "Mockingbird: Defending Against Deep-Learning-Ba...               0        0   \n",
       "Attacking Text Classifiers via Sentence Rewriti...               0        0   \n",
       "Best Practices for Noise-Based Augmentation to ...               0        0   \n",
       "Fashion-Guided Adversarial Attack on Person Seg...               0        0   \n",
       "Adversarial Diffusion Attacks on Graph-based Tr...               0        0   \n",
       "\n",
       "                                                    methodology  \\\n",
       "Mockingbird: Defending Against Deep-Learning-Ba...            0   \n",
       "Attacking Text Classifiers via Sentence Rewriti...            0   \n",
       "Best Practices for Noise-Based Augmentation to ...            1   \n",
       "Fashion-Guided Adversarial Attack on Person Seg...            0   \n",
       "Adversarial Diffusion Attacks on Graph-based Tr...            0   \n",
       "\n",
       "                                                    miscellaneous  music  \\\n",
       "Mockingbird: Defending Against Deep-Learning-Ba...              0      0   \n",
       "Attacking Text Classifiers via Sentence Rewriti...              0      0   \n",
       "Best Practices for Noise-Based Augmentation to ...              0      0   \n",
       "Fashion-Guided Adversarial Attack on Person Seg...              0      0   \n",
       "Adversarial Diffusion Attacks on Graph-based Tr...              0      0   \n",
       "\n",
       "                                                    natural-language-processing  \\\n",
       "Mockingbird: Defending Against Deep-Learning-Ba...                            0   \n",
       "Attacking Text Classifiers via Sentence Rewriti...                            1   \n",
       "Best Practices for Noise-Based Augmentation to ...                            0   \n",
       "Fashion-Guided Adversarial Attack on Person Seg...                            0   \n",
       "Adversarial Diffusion Attacks on Graph-based Tr...                            0   \n",
       "\n",
       "                                                    playing-games  reasoning  \\\n",
       "Mockingbird: Defending Against Deep-Learning-Ba...              0          0   \n",
       "Attacking Text Classifiers via Sentence Rewriti...              0          0   \n",
       "Best Practices for Noise-Based Augmentation to ...              0          0   \n",
       "Fashion-Guided Adversarial Attack on Person Seg...              0          0   \n",
       "Adversarial Diffusion Attacks on Graph-based Tr...              0          0   \n",
       "\n",
       "                                                    robots  speech  \\\n",
       "Mockingbird: Defending Against Deep-Learning-Ba...       0       0   \n",
       "Attacking Text Classifiers via Sentence Rewriti...       0       0   \n",
       "Best Practices for Noise-Based Augmentation to ...       0       1   \n",
       "Fashion-Guided Adversarial Attack on Person Seg...       0       0   \n",
       "Adversarial Diffusion Attacks on Graph-based Tr...       0       0   \n",
       "\n",
       "                                                    time-series  \n",
       "Mockingbird: Defending Against Deep-Learning-Ba...            0  \n",
       "Attacking Text Classifiers via Sentence Rewriti...            0  \n",
       "Best Practices for Noise-Based Augmentation to ...            0  \n",
       "Fashion-Guided Adversarial Attack on Person Seg...            0  \n",
       "Adversarial Diffusion Attacks on Graph-based Tr...            1  "
      ]
     },
     "execution_count": 6,
     "metadata": {},
     "output_type": "execute_result"
    }
   ],
   "source": [
    "paper_df.head()"
   ]
  },
  {
   "cell_type": "code",
   "execution_count": 7,
   "id": "2fcfb9c9",
   "metadata": {
    "ExecuteTime": {
     "end_time": "2021-05-30T12:37:48.746983Z",
     "start_time": "2021-05-30T12:37:48.715985Z"
    }
   },
   "outputs": [],
   "source": [
    "paper2idx = {p: i for p, i in enumerate(paper_df.index)}\n",
    "X_raw = list(map(str.lower, paper2idx.values()))"
   ]
  },
  {
   "cell_type": "markdown",
   "id": "7712d39d",
   "metadata": {},
   "source": [
    "using `re` module to find which letters are unique"
   ]
  },
  {
   "cell_type": "code",
   "execution_count": 8,
   "id": "4dea7315",
   "metadata": {
    "ExecuteTime": {
     "end_time": "2021-05-30T12:37:48.792985Z",
     "start_time": "2021-05-30T12:37:48.747984Z"
    }
   },
   "outputs": [],
   "source": [
    "from itertools import chain\n",
    "unique_letters = set(' '.join(chain(X_raw)))"
   ]
  },
  {
   "cell_type": "code",
   "execution_count": 9,
   "id": "f033ecb8",
   "metadata": {
    "ExecuteTime": {
     "end_time": "2021-05-30T12:37:48.807986Z",
     "start_time": "2021-05-30T12:37:48.793984Z"
    }
   },
   "outputs": [
    {
     "data": {
      "text/plain": [
       "415"
      ]
     },
     "execution_count": 9,
     "metadata": {},
     "output_type": "execute_result"
    }
   ],
   "source": [
    "len(unique_letters)"
   ]
  },
  {
   "cell_type": "markdown",
   "id": "1a23dca5",
   "metadata": {},
   "source": [
    "# 1. EDA"
   ]
  },
  {
   "cell_type": "markdown",
   "id": "5ff8debb",
   "metadata": {},
   "source": [
    "## 1.1 How Labels are distributed"
   ]
  },
  {
   "cell_type": "code",
   "execution_count": 21,
   "id": "3fe4c56e",
   "metadata": {
    "ExecuteTime": {
     "end_time": "2021-05-30T12:29:17.635986Z",
     "start_time": "2021-05-30T12:29:17.618987Z"
    }
   },
   "outputs": [],
   "source": [
    "num_areas = pd.Series(paper_df.sum(axis=1))"
   ]
  },
  {
   "cell_type": "code",
   "execution_count": 10,
   "id": "706e387b",
   "metadata": {
    "ExecuteTime": {
     "end_time": "2021-05-30T11:29:50.798533Z",
     "start_time": "2021-05-30T11:29:50.513535Z"
    }
   },
   "outputs": [
    {
     "data": {
      "text/plain": [
       "<AxesSubplot:title={'center':'Histogram of number of labels'}, xlabel='Number of Labels per paper', ylabel='Counts'>"
      ]
     },
     "execution_count": 10,
     "metadata": {},
     "output_type": "execute_result"
    },
    {
     "data": {
      "image/png": "[encoded data removed]",
      "text/plain": [
       "<Figure size 432x288 with 1 Axes>"
      ]
     },
     "metadata": {},
     "output_type": "display_data"
    }
   ],
   "source": [
    "fig, ax = plt.subplots()\n",
    "ax.set_title('Histogram of number of labels', fontdict={'size': 13})\n",
    "ax.set_xlabel('Number of Labels per paper')\n",
    "ax.set_ylabel('Counts')\n",
    "num_areas.hist(ax=ax, bins=7)"
   ]
  },
  {
   "cell_type": "code",
   "execution_count": 11,
   "id": "93fba8e7",
   "metadata": {
    "ExecuteTime": {
     "end_time": "2021-05-30T11:29:51.128045Z",
     "start_time": "2021-05-30T11:29:50.799534Z"
    }
   },
   "outputs": [
    {
     "data": {
      "text/plain": [
       "<AxesSubplot:title={'center':'Number of papers per Area'}>"
      ]
     },
     "execution_count": 11,
     "metadata": {},
     "output_type": "execute_result"
    },
    {
     "data": {
      "image/png": "[encoded data removed]",
      "text/plain": [
       "<Figure size 432x288 with 1 Axes>"
      ]
     },
     "metadata": {},
     "output_type": "display_data"
    }
   ],
   "source": [
    "area_dist = paper_df.sum(axis=0)\n",
    "fig, ax = plt.subplots()\n",
    "ax.set_title('Number of papers per Area', fontsize=13)\n",
    "area_dist.sort_values(ascending=False).plot(kind='bar', ax=ax)"
   ]
  },
  {
   "cell_type": "markdown",
   "id": "32681936",
   "metadata": {},
   "source": [
    "## 1.2 Preprocessing"
   ]
  },
  {
   "cell_type": "markdown",
   "id": "f50906ea",
   "metadata": {},
   "source": [
    "1. change `:` to ` :` with space in front.\n",
    "2. change `-` to just space"
   ]
  },
  {
   "cell_type": "code",
   "execution_count": 10,
   "id": "84e5f596",
   "metadata": {
    "ExecuteTime": {
     "end_time": "2021-05-30T12:37:52.517552Z",
     "start_time": "2021-05-30T12:37:52.490042Z"
    }
   },
   "outputs": [
    {
     "data": {
      "text/plain": [
       "['mockingbird: defending against deep-learning-based website fingerprinting attacks with adversarial traces',\n",
       " 'attacking text classifiers via sentence rewriting sampler',\n",
       " 'best practices for noise-based augmentation to improve the performance of emotion recognition \"in the wild\"',\n",
       " 'fashion-guided adversarial attack on person segmentation',\n",
       " 'adversarial diffusion attacks on graph-based traffic prediction models',\n",
       " 'mitigating adversarial attack for compute-in-memory accelerator utilizing on-chip finetune',\n",
       " 'adversarial attack in the context of self-driving',\n",
       " 'statistical inference for individual fairness',\n",
       " 'adversarial attacks on camera-lidar models for 3d car detection',\n",
       " 'anti-adversarially manipulated attributions for weakly and semi-supervised semantic segmentation',\n",
       " 'towards robust speech-to-text adversarial attack',\n",
       " 'generating unrestricted adversarial examples via three parameters',\n",
       " 'internal wasserstein distance for adversarial attack and defense',\n",
       " 'stochastic-hmds: adversarial resilient hardware malware detectors through voltage over-scaling',\n",
       " 'adversarial laser beam: effective physical-world attack to dnns in a blink',\n",
       " 'beta-crown: efficient bound propagation with per-neuron split constraints for complete and incomplete neural network verification',\n",
       " 'universal adversarial perturbations and image spam classifiers',\n",
       " 'understanding the robustness of skeleton-based action recognition under adversarial attack',\n",
       " 'basar:black-box attack on skeletal action recognition',\n",
       " 'stabilized medical image attacks',\n",
       " 'practical relative order attack in deep ranking',\n",
       " 'towards evaluating the robustness of deep diagnostic models by adversarial attack',\n",
       " 'a modified drake equation for assessing adversarial risk to machine learning models',\n",
       " 'spectraldefense: detecting adversarial attacks on cnns in the fourier domain',\n",
       " 'online adversarial attacks',\n",
       " 'a survey on universal adversarial attack',\n",
       " 'a brief survey on deep learning based data hiding, steganography and watermarking',\n",
       " 'evaluating the robustness of geometry-aware instance-reweighted adversarial training',\n",
       " 'surfree: a fast surrogate-free black-box attack',\n",
       " 'model-agnostic defense for lane detection against adversarial attack',\n",
       " 'enhancing real-world adversarial patches with 3d modeling techniques',\n",
       " 'graphfool: targeted label adversarial attack on graph embedding',\n",
       " 'on fast adversarial robustness adaptation in model-agnostic meta-learning',\n",
       " 'targeted attack against deep neural networks via flipping limited weight bits',\n",
       " 'fortify machine learning production systems: detect and classify adversarial attacks',\n",
       " 'certifiably robust variational autoencoders',\n",
       " 'cap-gan: towards adversarial robustness with cycle-consistent attentional purification',\n",
       " 'adversarial attack on network embeddings via supervised network poisoning',\n",
       " 'a distributed black-box adversarial attack based on multi-group particle swarm optimization',\n",
       " 'efficient and transferable adversarial examples from bayesian neural networks',\n",
       " 'adversarially robust deepfake media detection using fused convolutional neural network predictions',\n",
       " 'exploiting epistemic uncertainty of the deep learning models to generate adversarial samples',\n",
       " 'stereopagnosia: fooling stereo networks with adversarial perturbations',\n",
       " 'audio adversarial examples: attacks using vocal masks',\n",
       " 'robust adversarial attacks against dnn-based wireless communication systems',\n",
       " 'improving neural network robustness through neighborhood preserving layers',\n",
       " 'towards universal physical attacks on cascaded camera-lidar 3d object detection models',\n",
       " 'introducing and assessing the explainable ai (xai)method: sidu',\n",
       " 'investigating the significance of adversarial attacks and their relation to interpretability for radar-based human activity recognition systems',\n",
       " 'black-box adversarial attacks on monocular depth estimation using evolutionary multi-objective optimization',\n",
       " 'generating black-box adversarial examples in sparse domain',\n",
       " 'robust reinforcement learning on state observations with learned optimal adversary',\n",
       " 'pica: a pixel correlation-based attentional black-box adversarial attack',\n",
       " 'attention-guided black-box adversarial attacks with large-scale multiobjective evolutionary optimization',\n",
       " 'adversarial interaction attack: fooling ai to misinterpret human intentions',\n",
       " 'from sound representation to model robustness',\n",
       " 'heating up decision boundaries: isocapacitory saturation, adversarial scenarios and generalization bounds',\n",
       " 'direct adversarial training: a new approach for stabilizing the training process of gans',\n",
       " 'untargeted, targeted and universal adversarial attacks and defenses on time series',\n",
       " 'random transformation of image brightness for adversarial attack',\n",
       " 'robustness of on-device models: adversarial attack to deep learning models on android apps',\n",
       " 'exploring adversarial fake images on face manifold',\n",
       " 'adversarial attack attribution: discovering attributable signals in adversarial ml attacks',\n",
       " 'robust text captchas using adversarial examples',\n",
       " 'patch-wise++ perturbation for adversarial targeted attacks',\n",
       " 'sparse adversarial attack to object detection',\n",
       " 'using feature alignment can improve clean average precision and adversarial robustness in object detection',\n",
       " 'adjust-free adversarial example generation in speech recognition using evolutionary multi-objective optimization under black-box condition',\n",
       " 'blurring fools the network -- adversarial attacks by feature peak suppression and gaussian blurring',\n",
       " 'exploiting vulnerability of pooling in convolutional neural networks by strict layer-output manipulation for adversarial attacks',\n",
       " 'variational quantum cloning: improving practicality for quantum cryptanalysis',\n",
       " 'deep feature space trojan attack of neural networks by controlled detoxification',\n",
       " 'efficient training of robust decision trees against adversarial examples',\n",
       " 'a hierarchical feature constraint to camouflage medical adversarial attacks',\n",
       " 'exacerbating algorithmic bias through fairness attacks',\n",
       " 'query-free black-box adversarial attacks on graphs',\n",
       " 'disentangled information bottleneck',\n",
       " 'random projections for adversarial attack detection',\n",
       " 'geometric adversarial attacks and defenses on 3d point clouds',\n",
       " 'composite adversarial attacks',\n",
       " 'spaa: stealthy projector-based adversarial attacks on deep image classifiers',\n",
       " 'generating out of distribution adversarial attack using latent space poisoning',\n",
       " 'towards natural robustness against adversarial examples',\n",
       " 'fencebox: a platform for defeating adversarial examples with data augmentation techniques',\n",
       " 'channel effects on surrogate models of adversarial attacks against wireless signal classifiers',\n",
       " 'controversial stimuli: pitting neural networks against each other as models of human recognition',\n",
       " 'faceguard: a self-supervised defense against adversarial face images',\n",
       " 'a targeted universal attack on graph convolutional network',\n",
       " 'just one moment: inconspicuous one frame attack on deep action recognition',\n",
       " 'guided adversarial attack for evaluating and enhancing adversarial defenses',\n",
       " 'naturalae: natural and robust physical adversarial examples for object detectors',\n",
       " \"gotta catch 'em all: using honeypots to catch adversarial attacks on neural networks\",\n",
       " 'adversarial attack on facial recognition using visible light',\n",
       " 'augmented lagrangian adversarial attacks',\n",
       " \"detecting universal trigger's adversarial attack with honeypot\",\n",
       " 'multi-task adversarial attack',\n",
       " 'adversarial profiles: detecting out-distribution & adversarial samples in pre-trained cnns',\n",
       " 'foolhd: fooling speaker identification by highly imperceptible adversarial disturbances',\n",
       " 'dynamic backdoor attacks against federated learning',\n",
       " 'combining gans and autoencoders for efficient anomaly detection',\n",
       " 'adversarial attacks on deep graph matching',\n",
       " 'adversarial learning for robust deep clustering',\n",
       " 'perception improvement for free: exploring imperceptible black-box adversarial attacks on image classification',\n",
       " 'bridging the performance gap between fgsm and pgd adversarial training',\n",
       " 'targeted adversarial perturbations for monocular depth prediction',\n",
       " 'patch-wise attack for fooling deep neural network',\n",
       " 'defense-friendly images in adversarial attacks: dataset and metrics for perturbation difficulty',\n",
       " 'dynamically sampled nonlocal gradients for stronger adversarial attacks',\n",
       " 'deep-dup: an adversarial weight duplication attack framework to crush deep neural network in multi-tenant fpga',\n",
       " 'detecting word sense disambiguation biases in machine translation for model-agnostic adversarial attacks',\n",
       " 'perception matters: exploring imperceptible and transferable anti-forensics for gan-generated fake face imagery detection',\n",
       " 'can the state of relevant neurons in a deep neural networks serve as indicators for detecting adversarial attacks?',\n",
       " 'active sentence learning by adversarial uncertainty sampling in discrete space',\n",
       " 'object hider: adversarial patch attack against object detectors',\n",
       " 'simaug: learning robust representations from 3d simulation for pedestrian trajectory prediction in unseen cameras',\n",
       " 'greedyfool: distortion-aware sparse adversarial attack',\n",
       " 'learning black-box attackers with transferable priors and query feedback',\n",
       " 'maximum mean discrepancy is aware of adversarial attacks',\n",
       " 'defense-guided transferable adversarial attacks',\n",
       " 'an efficient adversarial attack for tree ensembles',\n",
       " 'rewriting meaningful sentences via conditional bert sampling and an application on fooling text classifiers',\n",
       " 'l-red: efficient post-training detection of imperceptible backdoor attacks without access to the training set',\n",
       " 'an adversarial attack against stacked capsule autoencoder',\n",
       " 'reverse engineering imperceptible backdoor attacks on deep neural networks for detection and training set cleansing',\n",
       " 'generalizing universal adversarial attacks beyond additive perturbations',\n",
       " 'a hamiltonian monte carlo method for probabilistic adversarial attack and learning',\n",
       " 'explain2attack: text adversarial attacks via cross-domain interpretability',\n",
       " 'towards resistant audio adversarial examples',\n",
       " 'visual attack and defense on text',\n",
       " 'towards understanding pixel vulnerability under adversarial attacks for images',\n",
       " 'efsg: evolutionary fooling sentences generator',\n",
       " 'adversarial attacks to machine learning-based smart healthcare systems',\n",
       " 't3: tree-autoencoder constrained adversarial text generation for targeted attack',\n",
       " 'adversarial patch attacks on monocular depth estimation networks',\n",
       " 'adversarial attacks on audio source separation',\n",
       " 'a deep genetic programming based methodology for art media classification robust to adversarial perturbations',\n",
       " 'corrattack: black-box adversarial attack with structured search',\n",
       " 'a study for universal adversarial attacks on texture recognition',\n",
       " 'adversarial attack and defense of structured prediction models',\n",
       " 'second-order nlp adversarial examples',\n",
       " 'bae: bert-based adversarial examples for text classification',\n",
       " 'stabilized medical attacks',\n",
       " 'learn2weight: weights transfer defense against similar-domain adversarial attacks',\n",
       " 'at-gan: an adversarial generative model for non-constrained adversarial examples',\n",
       " 'practical order attack in deep ranking',\n",
       " 'black-box adversarial attacks on graph neural networks as an influence maximization problem',\n",
       " 'note: an alternative proof of the vulnerability of $k$-nn classifiers in high intrinsic dimensionality regions',\n",
       " 'identifying informative latent variables learned by gin via mutual information',\n",
       " 'an adversarial attack via feature contributive regions',\n",
       " 'adversarial attacks against deep learning systems for icd-9 code assignment',\n",
       " 'watch out! motion is blurring the vision of your deep neural networks',\n",
       " 'adversarial examples in deep learning for multivariate time series regression',\n",
       " 'improving query efficiency of black-box adversarial attack',\n",
       " 'scalable adversarial attack on graph neural networks with alternating direction method of multipliers',\n",
       " 'openattack: an open-source textual adversarial attack toolkit',\n",
       " 'learning to attack: towards textual adversarial attacking in real-world situations',\n",
       " \"it's raining cats or dogs? adversarial rain attack on dnn perception\",\n",
       " 'adversarial exposure attack on diabetic retinopathy imagery',\n",
       " 'bias field poses a threat to dnn-based x-ray recognition',\n",
       " 'making images undiscoverable from co-saliency detection',\n",
       " 'semanticadv: generating adversarial examples via attribute-conditioned image editing',\n",
       " 'multav: multiplicative adversarial videos',\n",
       " 'label smoothing and adversarial robustness',\n",
       " 'contextualized perturbation for textual adversarial attack',\n",
       " 'decision-based universal adversarial attack',\n",
       " 'switching gradient directions for query-efficient black-box adversarial attacks',\n",
       " 'adversarial training with fast gradient projection method against synonym substitution based text attacks',\n",
       " 'input hessian regularization of neural networks',\n",
       " 'a black-box adversarial attack for poisoning clustering',\n",
       " 'advpc: transferable adversarial perturbations on 3d point clouds',\n",
       " 'sparse adversarial attack via perturbation factorization',\n",
       " 'adversarial attacks on deep learning models for fatty liver disease classification by modification of ultrasound image reconstruction method',\n",
       " 'subspace attack: exploiting promising subspaces for query-efficient black-box attacks',\n",
       " 'adversarial attack on large scale graph',\n",
       " 'adversarial eigen attack on black-box models',\n",
       " 'adversarially robust neural architectures',\n",
       " 'pasadena: perceptually aware and stealthy adversarial denoise attack',\n",
       " 'interpolation between cnns and resnets',\n",
       " 'bayesopt adversarial attack',\n",
       " 'sign bits are all you need for black-box attacks',\n",
       " 'enhancing transformation-based defenses against adversarial attacks with a distribution classifier',\n",
       " 'implicit euler skip connections: enhancing adversarial robustness via numerical stability',\n",
       " 'an adversarial attack defending system for securing in-vehicle networks',\n",
       " 'point adversarial self mining: a simple method for facial expression recognition in the wild',\n",
       " 'sigl: securing software installations through deep graph learning',\n",
       " 'near optimal adversarial attack on ucb bandits',\n",
       " 'accelerated zeroth-order and first-order momentum methods from mini to minimax optimization',\n",
       " 'adversarial attack and defense strategies for deep speaker recognition systems',\n",
       " 'improving adversarial robustness of deep neural networks by using semantic information',\n",
       " 'firebert: hardening bert-based classifiers against adversarial attack',\n",
       " 'attacking and defending machine learning applications of public cloud',\n",
       " 'stabilizing deep tomographic reconstruction networks',\n",
       " 'robust deep reinforcement learning through adversarial loss',\n",
       " 'hardware accelerator for adversarial attacks on deep learning neural networks',\n",
       " 'physical adversarial attack on vehicle detector in the carla simulator',\n",
       " 'deeppeep: exploiting design ramifications to decipher the architecture of compact dnns',\n",
       " 'adversarial robustness for machine learning cyber defenses using log data',\n",
       " 'derivation of information-theoretically optimal adversarial attacks with applications to robust machine learning',\n",
       " 'adversarial privacy-preserving filter',\n",
       " 'towards accuracy-fairness paradox: adversarial example-based data augmentation for visual debiasing',\n",
       " 'accelerated stochastic gradient-free and projection-free methods',\n",
       " 't-bfa: targeted bit-flip adversarial weight attack',\n",
       " 'textattack: a framework for adversarial attacks, data augmentation, and adversarial training in nlp',\n",
       " 'anomaly detection in unsupervised surveillance setting using ensemble of multimodal data with adversarial defense',\n",
       " 'ddr-id: dual deep reconstruction networks based image decomposition for anomaly detection',\n",
       " 'semantic equivalent adversarial data augmentation for visual question answering',\n",
       " 'adversarial immunization for improving certifiable robustness on graphs',\n",
       " 'exploiting vulnerabilities of deep neural networks for privacy protection',\n",
       " 'robust tracking against adversarial attacks',\n",
       " 'backdoor learning: a survey',\n",
       " 'advflow: inconspicuous black-box adversarial attacks using normalizing flows',\n",
       " 'miss the point: targeted adversarial attack on multiple landmark detection',\n",
       " 'generating adversarial inputs using a black-box differential technique',\n",
       " 'evaluation of adversarial training on different types of neural networks in deep learning-based idss',\n",
       " 'black-box adversarial example generation with normalizing flows',\n",
       " 'on data augmentation and adversarial risk: an empirical analysis',\n",
       " 'adversarial machine learning attacks and defense methods in the cyber security domain',\n",
       " 'query-free adversarial transfer via undertrained surrogates',\n",
       " 'deep learning defenses against adversarial examples for dynamic risk assessment',\n",
       " 'generating adversarial examples with an optimized quality',\n",
       " 'determining sequence of image processing technique (ipt) to detect adversarial attacks',\n",
       " 'rays: a ray searching method for hard-label adversarial attack',\n",
       " 'ogan: disrupting deepfakes with an adversarial attack that survives training',\n",
       " 'adversarial attacks for multi-view deep models',\n",
       " 'differentiable language model adversarial attacks on categorical sequence classifiers',\n",
       " 'classifier-independent lower-bounds for adversarial robustness',\n",
       " 'local competition and uncertainty for adversarial robustness in deep learning',\n",
       " 'dissecting deep networks into an ensemble of generative classifiers for robust predictions',\n",
       " 'adversarial self-supervised contrastive learning',\n",
       " 'boosting black-box attack with partially transferred conditional adversarial distribution',\n",
       " 'on the tightness of semidefinite relaxations for certifying robustness to adversarial examples',\n",
       " 'd-square-b: deep distribution bound for natural-looking adversarial attack',\n",
       " 'adversarial attack vulnerability of medical image analysis systems: unexplored factors',\n",
       " 'interpolation between residual and non-residual networks',\n",
       " 'global robustness verification networks',\n",
       " 'defending and harnessing the bit-flip based adversarial weight attack',\n",
       " 'robust superpixel-guided attentional adversarial attack',\n",
       " 'what machines see is not what they get: fooling scene text recognition models with adversarial text images',\n",
       " 'one-shot adversarial attacks on visual tracking with dual attention',\n",
       " 'modeling biological immunity to adversarial examples',\n",
       " 'polishing decision-based adversarial noise with a customized sampling',\n",
       " 'benchmarking adversarial robustness on image classification',\n",
       " 'pick-object-attack: type-specific adversarial attack for object detection',\n",
       " 'evaluations and methods for explanation through robustness analysis',\n",
       " 'effects of forward error correction on communications aware evasion attacks',\n",
       " 'generating semantically valid adversarial questions for tableqa',\n",
       " 'adversarial attack on hierarchical graph pooling neural networks',\n",
       " 'investigating vulnerability to adversarial examples on multimodal data fusion in deep learning',\n",
       " 'an adversarial approach for explaining the predictions of deep neural networks',\n",
       " 'robust ensemble model training via random layer sampling against adversarial attack',\n",
       " 'improve robustness of dnn for ecg signal classification:a noise-to-signal ratio perspective',\n",
       " 'on intrinsic dataset properties for adversarial machine learning',\n",
       " 'attacking recommender systems with augmented user profiles',\n",
       " 'universalization of any adversarial attack using very few test examples',\n",
       " 'defending your voice: adversarial attack on voice conversion',\n",
       " 'adversarial attacks and defenses in images, graphs and text: a review',\n",
       " 'adversarial attacks and defenses on graphs: a review, a tool and empirical studies',\n",
       " 'stealthy and efficient adversarial attacks against deep reinforcement learning',\n",
       " 'geometry-aware generation of adversarial point clouds',\n",
       " 'channel-aware adversarial attacks against deep learning-based wireless signal classifiers',\n",
       " 'class-aware domain adaptation for improving adversarial robustness',\n",
       " 'guarantees on learning depth-2 neural networks under a data-poisoning attack',\n",
       " 'perturbing across the feature hierarchy to improve standard and strict blackbox attack transferability',\n",
       " 'minority reports defense: defending against adversarial patches',\n",
       " 'adversarial defense via data dependent activation function and total variation minimization',\n",
       " 'taking care of the discretization problem: a comprehensive study of the discretization problem and a black-box adversarial attack in discrete integer domain',\n",
       " 'improved adversarial training via learned optimizer',\n",
       " 'enabling fast and universal audio adversarial attack using generative model',\n",
       " 'towards feature space adversarial attack',\n",
       " 'transferable perturbations of deep feature distributions',\n",
       " 'domain adaptive transfer attack (data)-based segmentation networks for building extraction from aerial images',\n",
       " 'adversarial attacks and defenses: an interpretation perspective',\n",
       " 'towards characterizing adversarial defects of deep learning software from the lens of uncertainty',\n",
       " 'bert-attack: adversarial attack against bert using bert',\n",
       " 'local competition and stochasticity for adversarial robustness in deep learning',\n",
       " 'iou attack: towards temporally coherent black-box adversarial attack for visual object tracking',\n",
       " 'robust reinforcement learning under model misspecification',\n",
       " 'adversarial attacks on deep learning based mmwave beam prediction in 5g and beyond',\n",
       " 'vulnerability of appearance-based gaze estimation',\n",
       " 'textflint: unified multilingual robustness evaluation toolkit for natural language processing',\n",
       " 'self adversarial attack as an augmentation method for immunohistochemical stainings',\n",
       " 'grey-box adversarial attack and defence for sentiment classification',\n",
       " 'boosting adversarial transferability through enhanced momentum',\n",
       " 'sok: a modularized approach to study the security of automatic speech recognition systems',\n",
       " 'lsdat: low-rank and sparse decomposition for decision-based adversarial attack',\n",
       " 'a bayes-optimal view on adversarial examples',\n",
       " 'dynamic knowledge graph-based dialogue generation with improved adversarial meta-learning',\n",
       " 'headless horseman: adversarial attacks on transfer learning models',\n",
       " 'adversarial attack on deep learning-based splice localization',\n",
       " 'towards transferable adversarial attack against deep face recognition',\n",
       " 'transferable, controllable, and inconspicuous adversarial attacks on person re-identification with deep mis-ranking',\n",
       " 'real-world adversarial attack on mtcnn face detection system',\n",
       " 'a thorough comparison study on adversarial attacks and defenses for common thorax disease classification in chest x-rays',\n",
       " 'adversarial imitation attack',\n",
       " 'challenging the adversarial robustness of dnns based on error-correcting output codes',\n",
       " 'cooling-shrinking attack: blinding the tracker with imperceptible noises',\n",
       " 'solving non-convex non-differentiable min-max games using proximal gradient method',\n",
       " 'motion-excited sampler: video adversarial attack with sparked prior',\n",
       " 'frequency-tuned universal adversarial attacks',\n",
       " 'inline detection of dga domains using side information',\n",
       " 'using an ensemble color space model to tackle adversarial examples',\n",
       " 'undersensitivity in neural reading comprehension',\n",
       " 'sad: saliency-based defenses against adversarial examples',\n",
       " 'no surprises: training robust lung nodule detection for low-dose ct scans by augmenting with adversarial attacks',\n",
       " 'gradient-based adversarial attacks on categorical sequence models via traversing an embedded world',\n",
       " 'real-time, universal, and robust adversarial attacks against speaker recognition systems',\n",
       " 'search space of adversarial perturbations against image filters',\n",
       " 'security of deep learning based lane keeping system under physical-world adversarial attack',\n",
       " 'double backpropagation for training autoencoders against adversarial attack',\n",
       " 'disrupting deepfakes: adversarial attacks against conditional image translation networks and facial manipulation systems',\n",
       " 'applying tensor decomposition to image for robustness against adversarial attack',\n",
       " 'adversarial ranking attack and defense',\n",
       " 'adversarial attack on deep product quantization network for image retrieval',\n",
       " 'temporal sparse adversarial attack on sequence-based gait recognition',\n",
       " 'towards query-efficient black-box adversary with zeroth-order natural gradient descent',\n",
       " 'robust stochastic bandit algorithms under probabilistic unbounded adversarial attack',\n",
       " 'stabilizing differentiable architecture search via perturbation-based regularization',\n",
       " 'adversarial data encryption',\n",
       " \"improving vaes' robustness to adversarial attack\",\n",
       " 'at-gan: an adversarial generator model for non-constrained adversarial examples',\n",
       " 'over-the-air adversarial attacks on deep learning based modulation classifier over wireless channels',\n",
       " 'robust decoy-enhanced saliency maps',\n",
       " 'enhancing transformation-based defenses using a distribution classifier',\n",
       " 'analyzing the noise robustness of deep neural networks',\n",
       " 'a little fog for a large turn',\n",
       " 'practical fast gradient sign attack against mammographic image classifier',\n",
       " 'massif: interactive interpretation of adversarial attacks on deep learning',\n",
       " 'adversarial attack on community detection by hiding individuals',\n",
       " 'universal adversarial attack on attention and the resulting dataset damagenet',\n",
       " 'generating semantic adversarial examples via feature manipulation',\n",
       " 'exploring adversarial attack in spiking neural networks with spike-compatible gradient',\n",
       " 'benchmarking adversarial robustness',\n",
       " 'fooling detection alone is not enough: adversarial attack against multiple object tracking',\n",
       " 'cag: a real-time low-cost enhanced-robustness high-transferability content-aware adversarial attack generator',\n",
       " 'on-manifold adversarial data augmentation improves uncertainty calibration',\n",
       " 'damagenet: a universal adversarial dataset',\n",
       " 'potential adversarial samples for white-box attacks',\n",
       " 'amora: black-box adversarial morphing attack',\n",
       " 'scratch that! an evolution-based adversarial attack against neural networks',\n",
       " 'region-wise attack: on efficient generation of robust physical adversarial examples',\n",
       " 'adversarial embedding: a robust and elusive steganography and watermarking technique',\n",
       " 'square attack: a query-efficient black-box adversarial attack via random search',\n",
       " 'time-aware gradient attack on dynamic network link prediction',\n",
       " 'towards security threats of deep learning systems: a survey',\n",
       " 'light-weight calibrator: a separable component for unsupervised domain adaptation',\n",
       " 'enhancing cross-task black-box transferability of adversarial examples with dispersion reduction',\n",
       " 'adversarial attack with pattern replacement',\n",
       " 'colorfool: semantic adversarial colorization',\n",
       " 'minimalistic attacks: how little it takes to fool a deep reinforcement learning policy',\n",
       " 'heuristic black-box adversarial attacks on video recognition models',\n",
       " 'patch augmentation: towards efficient decision boundaries for neural networks',\n",
       " 'suspicion-free adversarial attacks on clustering algorithms',\n",
       " 'smart: skeletal motion action recognition attack',\n",
       " 'black-box adversarial attack with transferable model-based embedding',\n",
       " 'a new ensemble adversarial attack powered by long-term gradient memories',\n",
       " 'few-features attack to fool machine learning models through mask-based gan',\n",
       " 'improving robustness of task oriented dialog systems',\n",
       " 'adversarial examples in modern machine learning: a review',\n",
       " 'white-box target attack for eeg-based bci regression problems',\n",
       " 'classification-by-components: probabilistic modeling of reasoning over a set of components',\n",
       " 'adversarial examples on graph data: deep insights into attack and defense',\n",
       " 'who is real bob? adversarial attacks on speaker recognition systems',\n",
       " 'adversarial music: real world audio adversary against wake-word detection system',\n",
       " 'the fever2.0 shared task',\n",
       " 'investigating resistance of deep learning-based ids against adversaries using min-max optimization',\n",
       " 'active subspace of neural networks: structural analysis and universal attacks',\n",
       " 'word-level textual adversarial attacking as combinatorial optimization',\n",
       " 'wasserstein smoothing: certified robustness against wasserstein adversarial attacks',\n",
       " 'learning to learn by zeroth-order oracle',\n",
       " 'spark: spatial-aware online incremental attack against visual tracking',\n",
       " 'improving sequence modeling ability of recurrent neural networks via sememes',\n",
       " 'lance: a comprehensive and lightweight cnn defense methodology against physical adversarial attacks on embedded multimedia applications',\n",
       " 'ode guided neural data augmentation techniques for time series data and its benefits on robustness',\n",
       " 'on robustness of neural ordinary differential equations',\n",
       " 'adversarial learning of deepfakes in accounting',\n",
       " 'learning deep forest with multi-scale local binary pattern features for face anti-spoofing',\n",
       " 'a principled approach for generating adversarial images under non-smooth dissimilarity metrics',\n",
       " 'yet another but more efficient black-box adversarial attack: tiling and evolution strategies',\n",
       " 'advspade: realistic unrestricted attacks for semantic segmentation',\n",
       " 'score-cam: score-weighted visual explanations for convolutional neural networks',\n",
       " 'perturbations are not enough: generating adversarial examples with spatial distortions',\n",
       " 'role of spatial context in adversarial robustness for object detection',\n",
       " 'an efficient and margin-approaching zero-confidence adversarial attack',\n",
       " 'deep k-nn defense against clean-label data poisoning attacks',\n",
       " 'the limitations of deep learning in adversarial settings',\n",
       " 'accelerating monte carlo bayesian inference via approximating predictive uncertainty over simplex',\n",
       " 'probabilistic modeling of deep features for out-of-distribution and adversarial detection',\n",
       " 'nesterov accelerated gradient and scale invariance for adversarial attacks',\n",
       " 'sign-opt: a query-efficient hard-label adversarial attack',\n",
       " 'copycat: practical adversarial attacks on visualization-based malware detection',\n",
       " 'propagated perturbation of adversarial attack for well-known cnns: empirical study and its explanation',\n",
       " 'absum: simple regularization method for reducing structural sensitivity of convolutional neural networks',\n",
       " 'adversarial attack on skeleton-based human action recognition',\n",
       " 'natural language adversarial attacks and defenses in word level',\n",
       " 'an empirical study towards characterizing deep learning development and deployment across different frameworks and platforms',\n",
       " 'an empirical investigation of randomized defenses against adversarial attacks',\n",
       " 'localized adversarial training for increased accuracy and robustness in image classification',\n",
       " 'bosh: an efficient meta algorithm for decision-based attacks',\n",
       " 'fda: feature disruptive attack',\n",
       " 'sta: adversarial attacks on siamese trackers',\n",
       " 'targeted mismatch adversarial attack: query with a flower to retrieve the tower',\n",
       " 'dopa: a comprehensive cnn detection methodology against physical adversarial attacks',\n",
       " 'advhat: real-world adversarial attack on arcface face id system',\n",
       " 'dapas : denoising autoencoder to prevent adversarial attack in semantic segmentation',\n",
       " 'investigating decision boundaries of trained neural networks',\n",
       " 'metaadvdet: towards robust detection of evolving adversarial attacks',\n",
       " 'the efficacy of shield under different threat models',\n",
       " 'exploring the robustness of nmt systems to nonsensical inputs',\n",
       " 'a restricted black-box adversarial framework towards attacking graph embedding models',\n",
       " 'adversarial self-defense for cycle-consistent gans',\n",
       " 'black-box adversarial ml attack on modulation classification',\n",
       " 'nonconvex zeroth-order stochastic admm methods with lower function query complexity',\n",
       " 'on the design of black-box adversarial examples by leveraging gradient-free optimization and operator splitting method',\n",
       " 'adversarial attack on sentiment classification',\n",
       " 'generating natural language adversarial examples through probability weighted word saliency',\n",
       " 'natural adversarial examples',\n",
       " 'affine disentangled gan for interpretable and robust av perception',\n",
       " 'adversarial attacks in sound event classification',\n",
       " 'minimally distorted adversarial examples with a fast adaptive boundary attack',\n",
       " 'comment on \"adv-bnn: improved adversarial defense through robust bayesian neural network\"',\n",
       " 'the attack generator: a systematic approach towards constructing adversarial attacks',\n",
       " 'mimic and fool: a task agnostic adversarial attack',\n",
       " 'towards a unified min-max framework for adversarial exploration and robustness',\n",
       " 'a computationally efficient method for defending adversarial deep learning attacks',\n",
       " 'efficient project gradient descent for ensemble adversarial attack',\n",
       " 'poba-ga: perturbation optimized black-box adversarial attacks via genetic algorithm',\n",
       " 'robustness for non-parametric classification: a generic attack and defense',\n",
       " 'robust decision trees against adversarial examples',\n",
       " 'provably robust deep learning via adversarially trained smoothed classifiers',\n",
       " 'decoupling direction and norm for efficient gradient-based l2 adversarial attacks and defenses',\n",
       " 'adversarial examples in deep learning: characterization and divergence',\n",
       " 'protection against cloning for deep learning',\n",
       " 'a frank-wolfe framework for efficient and effective adversarial attacks',\n",
       " 'adversarial images for variational autoencoders',\n",
       " 'structured adversarial attack: towards general implementation and better interpretability',\n",
       " 'improving the generalization of adversarial training with domain adaptation',\n",
       " 'resnets ensemble via the feynman-kac formalism to improve natural and robust accuracies',\n",
       " 'adagio: interactive experimentation with adversarial attack and defense for audio',\n",
       " 'adversarial examples for semantic segmentation and object detection',\n",
       " 'prior networks for detection of adversarial attacks',\n",
       " 'towards leveraging the information of gradients in optimization-based adversarial attack',\n",
       " 'local gradients smoothing: defense against localized adversarial attacks',\n",
       " 'boosting adversarial attacks with momentum',\n",
       " 'asp:a fast adversarial attack example generation framework based on adversarial saliency prediction',\n",
       " 'tactics of adversarial attack on deep reinforcement learning agents',\n",
       " 'intermediate level adversarial attack for enhanced transferability',\n",
       " 'hessian-aware zeroth-order optimization for black-box adversarial attack',\n",
       " 'second-order adversarial attack and certifiable robustness',\n",
       " 'idsgan: generative adversarial networks for attack generation against intrusion detection',\n",
       " 'is pgd-adversarial training necessary? alternative training via a soft-quantization network with noisy-natural samples only',\n",
       " 'learning visually-grounded semantics from contrastive adversarial samples',\n",
       " 'adversarial defense based on structure-to-signal autoencoders',\n",
       " 'ilfo: adversarial attack on adaptive neural networks',\n",
       " 'model extraction warning in mlaas paradigm',\n",
       " 'nattack: a strong and universal gaussian black-box adversarial attack',\n",
       " 'camou: learning physical vehicle camouflages to adversarially attack detectors in the wild',\n",
       " 'parametric noise injection: trainable randomness to improve deep neural network robustness against adversarial attack',\n",
       " 'defending against adversarial attack towards deep neural networks via collaborative multi-task training',\n",
       " 'distributionally adversarial attack',\n",
       " 'knowledge distillation with adversarial samples supporting decision boundary',\n",
       " 'the adversarial attack and detection under the fisher information metric',\n",
       " 'adversarial machine learning and speech emotion recognition: utilizing generative adversarial networks for robustness',\n",
       " 'injecting and removing malignant features in mammography with cyclegan: investigation of an automated adversarial attack using neural networks',\n",
       " 'adaptive adversarial attack on scene text recognition',\n",
       " 'fooling network interpretation in image classification',\n",
       " 'maximal jacobian-based saliency map attack',\n",
       " 'isolated and ensemble audio preprocessing methods for detecting adversarial examples against automatic speech recognition',\n",
       " 'with friends like these, who needs adversaries?',\n",
       " 'deepgauge: multi-granularity testing criteria for deep learning systems',\n",
       " 'harmonic adversarial attack method',\n",
       " 'biologically inspired protection of deep networks from adversarial attacks',\n",
       " 'a survey of safety and trustworthiness of deep neural networks: verification, testing, adversarial attack and defence, and interpretability',\n",
       " 'foolbox: a python toolbox to benchmark the robustness of machine learning models',\n",
       " 'finefool: fine object contour attack via attention',\n",
       " 'query-efficient black-box attack by active learning',\n",
       " 'adversarial attack on graph structured data',\n",
       " \"seeing isn't believing: practical adversarial attack against object detectors\",\n",
       " 'an admm-based universal framework for adversarial attacks on deep neural networks',\n",
       " 'shapeshifter: robust physical adversarial attack on faster r-cnn object detector',\n",
       " 'caad 2018: iterative ensemble adversarial attack',\n",
       " 'evaluating and understanding the robustness of adversarial logit pairing',\n",
       " 'deep variational information bottleneck',\n",
       " 'attacks on state-of-the-art face recognition using attentional adversarial attack generative network',\n",
       " 'security analysis and enhancement of model compressed deep learning systems under adversarial attacks',\n",
       " 'improved network robustness with adversary critic',\n",
       " 'fademl: understanding the impact of pre-processing noise filtering on adversarial machine learning',\n",
       " 'adversarial attacks for optical flow-based action recognition classifiers',\n",
       " 'learning transferable adversarial examples via ghost networks',\n",
       " 'attention, please! adversarial defense via attention rectification and preservation',\n",
       " 'an explainable adversarial robustness metric for deep learning neural networks',\n",
       " 'adversarial attack and defense on graph data: a survey',\n",
       " 'class-based prediction errors to detect hate speech with out-of-vocabulary words',\n",
       " 'sequential attacks on agents for long-term adversarial goals',\n",
       " '\"influence sketching\": finding influential samples in large-scale regressions',\n",
       " 'learning to defense by learning to attack',\n",
       " 'certified adversarial robustness with additive noise',\n",
       " 'deep-rbf networks revisited: robust classification with rejection',\n",
       " 'adef: an iterative algorithm to construct adversarial deformations',\n",
       " \"standard detectors aren't (currently) fooled by physical adversarial stop signs\",\n",
       " 'trust region based adversarial attack on neural networks',\n",
       " 'adversarial attacks on face detectors using neural net based constrained optimization',\n",
       " 'learn to pay attention',\n",
       " 'evaluation of momentum diverse input iterative fast gradient sign method (m-di2-fgsm) based attack method on mcs 2018 adversarial attacks on black box face recognition system',\n",
       " 'adversarial attack type i: cheat classifiers by significant changes',\n",
       " 'query-efficient black-box adversarial examples (superceded)',\n",
       " 'adversarial and clean data are not twins',\n",
       " 'provable defenses against adversarial examples via the convex outer adversarial polytope',\n",
       " 'resilient learning-based control for synchronization of passive multi-agent systems under attack',\n",
       " 'optimal transport classifier: defending against adversarial attacks by regularized deep embedding',\n",
       " 'vulnerability of deep learning',\n",
       " 'blind pre-processing: a robust defense method against adversarial examples',\n",
       " 'stochastic combinatorial ensembles for defending against adversarial examples',\n",
       " 'on detecting adversarial perturbations',\n",
       " 'a game-based approximate verification of deep neural networks with provable guarantees',\n",
       " 'strong black-box adversarial attacks on unsupervised machine learning models',\n",
       " 'optimal attack against autoregressive models by manipulating the environment',\n",
       " 'is ami (attacks meet interpretability) robust to adversarial examples?',\n",
       " 'examining adversarial learning against graph-based iot malware detection systems',\n",
       " 'there are no bit parts for sign bits in black-box attacks',\n",
       " 'adversarial attack and defense on point sets',\n",
       " 'attack type agnostic perceptual enhancement of adversarial images',\n",
       " 'attribution-driven causal analysis for detection of adversarial examples',\n",
       " 'adversarial out-domain examples for generative models',\n",
       " 'adversarial attacks on deep neural networks for time series classification',\n",
       " 'task-generalizable adversarial attack based on perceptual metric',\n",
       " 'adversarial metric attack and defense for person re-identification',\n",
       " 'the logbarrier adversarial attack: making effective use of decision boundary information',\n",
       " 'a formalization of robustness for deep neural networks',\n",
       " 'defending against whitebox adversarial attacks via randomized discretization',\n",
       " 'text processing like humans do: visually attacking and shielding nlp systems',\n",
       " 'scaling up the randomized gradient-free adversarial attack reveals overestimation of robustness using established attacks',\n",
       " 'adversarial attacks against deep saliency models',\n",
       " 'curls & whey: boosting black-box adversarial attacks',\n",
       " 'hopskipjumpattack: a query-efficient decision-based attack',\n",
       " 'sada: semantic adversarial diagnostic attacks for autonomous applications',\n",
       " 'black-box decision based adversarial attack with symmetric $α$-stable distribution',\n",
       " 'cycle-consistent adversarial gan: the integration of adversarial attack and defense',\n",
       " 'rob-gan: generator, discriminator, and adversarial attacker',\n",
       " 'defensive quantization: when efficiency meets robustness',\n",
       " 'blessing in disguise: designing robust turing test by employing algorithm unrobustness',\n",
       " 'minimizing perceived image quality loss through adversarial attack scoping',\n",
       " 'weight map layer for noise and adversarial attack robustness',\n",
       " 'nattack: learning the distributions of adversarial examples for an improved black-box attack on deep neural networks',\n",
       " 'charbot: a simple and effective method for evading dga classifiers',\n",
       " 'mitigating deep learning vulnerabilities from adversarial examples attack in the cybersecurity domain',\n",
       " 'exact adversarial attack to image captioning via structured output learning with latent variables',\n",
       " 'interpreting and evaluating neural network robustness',\n",
       " 'harnessing the vulnerability of latent layers in adversarially trained models',\n",
       " 'a critique of the deepsec platform for security analysis of deep learning models',\n",
       " 'shieldnets: defending against adversarial attacks using probabilistic adversarial robustness',\n",
       " 'feature space perturbations yield more transferable adversarial examples',\n",
       " 'thwarting finite difference adversarial attacks with output randomization',\n",
       " 'fooling detection alone is not enough: first adversarial attack against multiple object tracking',\n",
       " 'robust sparse regularization: simultaneously optimizing neural network robustness and compactness',\n",
       " 'bandlimiting neural networks against adversarial attacks',\n",
       " 'zeroth-order stochastic alternating direction method of multipliers for nonconvex nonsmooth optimization',\n",
       " 'reverse kl-divergence training of prior networks: improved uncertainty and adversarial robustness',\n",
       " 'real-time adversarial attacks',\n",
       " 'identifying classes susceptible to adversarial attacks',\n",
       " 'high frequency component helps explain the generalization of convolutional neural networks',\n",
       " 'functional adversarial attacks',\n",
       " 'architecture selection via the trade-off between accuracy and robustness',\n",
       " 'should adversarial attacks use pixel p-norm?',\n",
       " 'query-efficient meta attack to deep neural networks',\n",
       " 'deflecting adversarial attacks with pixel deflection',\n",
       " 'deepfool: a simple and accurate method to fool deep neural networks',\n",
       " 'defense against adversarial attacks using high-level representation guided denoiser',\n",
       " 'generating natural adversarial examples',\n",
       " 'adversarial-playground: a visualization suite showing how adversarial examples fool deep learning',\n",
       " 'zoo: zeroth order optimization based black-box attacks to deep neural networks without training substitute models',\n",
       " 'certified defenses against adversarial examples',\n",
       " 'delving into transferable adversarial examples and black-box attacks',\n",
       " 'generalizable data-free objective for crafting universal adversarial perturbations',\n",
       " 'efficient formal safety analysis of neural networks',\n",
       " 'safety verification of deep neural networks',\n",
       " 'technical report on the cleverhans v2.1.0 adversarial examples library',\n",
       " 'obfuscated gradients give a false sense of security: circumventing defenses to adversarial examples',\n",
       " 'advertorch v0.1: an adversarial robustness toolbox based on pytorch',\n",
       " 'on evaluating adversarial robustness',\n",
       " 'wasserstein adversarial examples via projected sinkhorn iterations',\n",
       " 'improving transferability of adversarial examples with input diversity',\n",
       " 'towards evaluating the robustness of neural networks',\n",
       " 'towards analyzing semantic robustness of deep neural networks',\n",
       " 'adversarial training for free!',\n",
       " 'scaleable input gradient regularization for adversarial robustness',\n",
       " 'theoretically principled trade-off between robustness and accuracy',\n",
       " 'fast certified robust training via better initialization and shorter warmup',\n",
       " 'libre: a practical bayesian approach to adversarial detection',\n",
       " 'improved autoregressive modeling with distribution smoothing',\n",
       " 'fast bayesian uncertainty estimation and reduction of batch normalized single image super-resolution network',\n",
       " 'learning defense transformers for counterattacking adversarial examples',\n",
       " 'improving global adversarial robustness generalization with adversarially trained gan',\n",
       " 'sandwich batch normalization',\n",
       " 'improving hierarchical adversarial robustness of deep neural networks',\n",
       " 'towards adversarial-resilient deep neural networks for false data injection attack detection in power grids',\n",
       " 'adversarial defense for automatic speaker verification by cascaded self-supervised learning models',\n",
       " 'towards adversarial robustness of bayesian neural network through hierarchical variational inference',\n",
       " 'robust android malware detection system against adversarial attacks using q-learning',\n",
       " 'a comprehensive evaluation framework for deep model robustness',\n",
       " 'a person re-identification data augmentation method with adversarial defense effect',\n",
       " 'the vulnerability of semantic segmentation networks to adversarial attacks in autonomous driving: enhancing extensive environment sensing',\n",
       " 'rails: a robust adversarial immune-inspired learning system',\n",
       " 'analyzing and improving generative adversarial training for generative modeling and out-of-distribution detection',\n",
       " 'from a fourier-domain perspective on adversarial examples to a wiener filter defense for semantic segmentation',\n",
       " 'boundary thickness and robustness in learning models',\n",
       " 'learnable boundary guided adversarial training',\n",
       " 'on the power of abstention and data-driven decision making for adversarial robustness',\n",
       " 'self-gradient networks',\n",
       " 'adversarial explanations for understanding image classification decisions and improved neural network robustness',\n",
       " 'certified defense to image transformations via randomized smoothing',\n",
       " 'wavetransform: crafting adversarial examples via input decomposition',\n",
       " 'attack agnostic adversarial defense via visual imperceptible bound',\n",
       " 'athena: a framework based on diverse weak defenses for building adversarial defense',\n",
       " 'general adversarial defense via pixel level and feature level distribution alignment',\n",
       " 'sad: saliency adversarial defense without adversarial training',\n",
       " 'layer-wise adversarial defense: an ode perspective',\n",
       " 'ensemble-based adversarial defense using diversified distance mapping',\n",
       " 'target training: tricking adversarial attacks to fail',\n",
       " 'exploiting safe spots in neural networks for preemptive robustness and out-of-distribution detection',\n",
       " 'perceptual adversarial robustness: generalizable defenses against unforeseen threat models',\n",
       " 'defending against black-box adversarial attacks with gradient-free trained sign activation neural networks',\n",
       " 'adversarial robustness of stabilized neuralodes might be from obfuscated gradients',\n",
       " 'graph adversarial networks: protecting information against adversarial attacks',\n",
       " 'adversarial robustness through local linearization',\n",
       " 'smooth adversarial training',\n",
       " 'manifold projection for adversarial defense on face recognition',\n",
       " 'open-set adversarial defense',\n",
       " 'benchmarking adversarial attacks and defenses for time-series data',\n",
       " 'likelihood landscapes: a unifying principle behind many adversarial defenses',\n",
       " 'cassandra: detecting trojaned networks from adversarial perturbations',\n",
       " 'stylized adversarial defense',\n",
       " 'multitask learning strengthens adversarial robustness',\n",
       " 'a unified framework for analyzing and detecting malicious examples of dnn models',\n",
       " 'defending against adversarial attacks on medical imaging ai system, classification or detection?',\n",
       " 'perceptual adversarial robustness: defense against unseen threat models',\n",
       " 'adversarial defense by latent style transformations',\n",
       " 'madnet: using a mad optimization for defending against adversarial attacks',\n",
       " 'tricking adversarial attacks to fail',\n",
       " 'adversarial image generation and training for deep neural networks',\n",
       " 'exploring the role of input and output layers of a deep neural network in adversarial defense',\n",
       " 'stochastic security: adversarial defense using long-run dynamics of energy-based models',\n",
       " 'revisiting role of autoencoders in adversarial settings',\n",
       " 'encryption inspired adversarial defense for visual classification',\n",
       " 'parot: a practical framework for robust deep neural network training',\n",
       " 'rain: a simple approach for robust and accurate image classification networks',\n",
       " 'patchattack: a black-box texture-based attack with reinforcement learning',\n",
       " 'generative adversarial trainer: defense to adversarial perturbations with gan',\n",
       " 'physically realizable adversarial examples for lidar object detection',\n",
       " 'toward adversarial robustness via semi-supervised robust training',\n",
       " 'learn2perturb: an end-to-end feature perturbation learning to improve adversarial robustness',\n",
       " 'smoothed inference for adversarially-trained models',\n",
       " 'enforcing linearity in dnn succours robustness and adversarial image generation',\n",
       " 'mimicgan: robust projection onto image manifolds with corruption mimicking',\n",
       " 'gated convolutional networks with hybrid connectivity for image classification',\n",
       " 'defensive few-shot adversarial learning',\n",
       " 'error correcting output codes improve probability estimation and adversarial robustness of deep neural networks',\n",
       " 'graphdefense: towards robust graph convolutional networks',\n",
       " 'adversarial defense via local flatness regularization',\n",
       " 'adversarial defense via learning to generate diverse attacks',\n",
       " 'a new defense against adversarial images: turning a weakness into a strength',\n",
       " 'adversarial examples for electrocardiograms',\n",
       " 'training robust deep neural networks via adversarial noise propagation',\n",
       " 'defending against adversarial attacks by suppressing the largest eigenvalue of fisher information matrix',\n",
       " 'white-box adversarial defense via self-supervised data estimation',\n",
       " 'towards model-agnostic adversarial defenses using adversarially trained autoencoders',\n",
       " 'testing robustness against unforeseen adversaries',\n",
       " 'adversarial defense by suppressing high-frequency components',\n",
       " 'improving adversarial robustness via guided complement entropy',\n",
       " 'brain mr image segmentation in small dataset with adversarial defense and task reorganization',\n",
       " 'defending against universal attacks through selective feature regeneration',\n",
       " 'improved adversarial robustness via logit regularization methods',\n",
       " 'characterizing adversarial subspaces using local intrinsic dimensionality',\n",
       " 'pixel redrawn for a robust adversarial defense',\n",
       " 'benchmarking neural network robustness to common corruptions and surface variations',\n",
       " 'defense against adversarial attacks with saak transform',\n",
       " 'ppd: permutation phase defense against adversarial examples in deep learning',\n",
       " 'featurized bidirectional gan: adversarial defense via adversarially learned semantic inference',\n",
       " 'adv-bnn: improved adversarial defense through robust bayesian neural network',\n",
       " 'efficient two-step adversarial defense for deep neural networks',\n",
       " 'adversarial defense of image classification using a variational auto-encoder',\n",
       " 'adversarial defense by stratified convolutional sparse coding',\n",
       " 'mimicgan: corruption-mimicking for blind image recovery & adversarial defense',\n",
       " 'mitigating adversarial effects through randomization',\n",
       " 'stochastic activation pruning for robust adversarial defense',\n",
       " 'customizing an adversarial example generator with class-conditional gans',\n",
       " 'image super-resolution as a defense against adversarial attacks',\n",
       " 'characterizing audio adversarial examples using temporal dependency',\n",
       " 'certified adversarial robustness via randomized smoothing',\n",
       " 'l 1-norm double backpropagation adversarial defense',\n",
       " 'benchmarking neural network robustness to common corruptions and perturbations',\n",
       " 'adversarial defense by restricting the hidden space of deep neural networks',\n",
       " 'aognets: compositional grammatical architectures for deep learning',\n",
       " 'adversarial defense through network profiling based path extraction',\n",
       " 'you only propagate once: accelerating adversarial training via maximal principle',\n",
       " 'adversarial defense framework for graph neural network',\n",
       " 'privacy risks of securing machine learning models against adversarial examples',\n",
       " 'countering adversarial images using input transformations',\n",
       " 'feature denoising for improving adversarial robustness',\n",
       " 'towards deep learning models resistant to adversarial attacks',\n",
       " 'a provable defense for deep residual networks',\n",
       " 'enhancing adversarial defense by k-winners-take-all',\n",
       " '\"tl;dr:\" out-of-context adversarial text summarization and hashtag recommendation',\n",
       " 'adversarial text-to-image synthesis: a review',\n",
       " 'persistent anti-muslim bias in large language models',\n",
       " 'generating natural language attacks in a hard label black box setting',\n",
       " 'from unsupervised machine translation to adversarial text generation',\n",
       " 'searching for a search method: benchmarking search algorithms for generating nlp adversarial examples',\n",
       " 'cat-gen: improving robustness in nlp models via controlled adversarial text generation',\n",
       " 'synthetic-to-real unsupervised domain adaptation for scene text detection in the wild',\n",
       " 'end-to-end adversarial text-to-speech',\n",
       " 'improving adversarial text generation by modeling the distant future',\n",
       " 'meta-cotgan: a meta cooperative training paradigm for improving adversarial text generation',\n",
       " 'generating natural language adversarial examples on a large scale with generative models',\n",
       " 'playing to learn better: repeated games for adversarial learning with multiple classifiers',\n",
       " 'fastwordbug: a fast method to generate adversarial text against nlp applications',\n",
       " 'identifying adversarial sentences by analyzing text complexity',\n",
       " 'universal adversarial perturbation for text classification',\n",
       " 'evaluating defensive distillation for defending text processing neural networks against adversarial examples',\n",
       " 'is bert really robust? a strong baseline for natural language attack on text classification and entailment',\n",
       " 'black-box generation of adversarial text sequences to evade deep learning classifiers',\n",
       " 'discrete adversarial attacks and submodular optimization with applications to text classification',\n",
       " 'textbugger: generating adversarial text against real-world applications',\n",
       " 'generative adversarial text to image synthesis',\n",
       " 'salsa-text : self attentive latent space based adversarial text generation',\n",
       " 'adversarial text generation without reinforcement learning',\n",
       " \"adversarial text generation via feature-mover's distance\",\n",
       " 'dancin seq2seq: fooling text classifiers with adversarial text example generation',\n",
       " 'towards crafting text adversarial samples',\n",
       " 'fooling ocr systems with adversarial text images',\n",
       " 'fedcom: a byzantine-robust local model aggregation rule using data commitment for federated learning',\n",
       " 'defending against adversarial denial-of-service attacks',\n",
       " 'gfl: a decentralized federated learning framework based on blockchain',\n",
       " 'be careful about poisoned word embeddings: exploring the vulnerability of the embedding layers in nlp models',\n",
       " 'the hammer and the nut: is bilevel optimization really needed to poison linear classifiers?',\n",
       " 'data-driven control and data-poisoning attacks in buildings: the kth live-in lab case study',\n",
       " 'preventing unauthorized use of proprietary data: poisoning for secure dataset release',\n",
       " 'dp-instahide: provably defusing poisoning and backdoor attacks with differentially private data augmentations',\n",
       " 'robust learning under clean-label attack',\n",
       " \"what doesn't kill you makes you robust(er): adversarial training against poisons and backdoors\",\n",
       " 'oriole: thwarting privacy against trustworthy deep learning models',\n",
       " 'data poisoning attacks and defenses to crowdsourcing systems',\n",
       " 'reinforcement learning for data poisoning on graph neural networks',\n",
       " 'a targeted attack on black-box neural machine translation with parallel data poisoning',\n",
       " 'secure-ucb: saving stochastic bandits from poisoning attacks via limited data verification',\n",
       " 'adversarial poisoning attacks and defense for general multi-class models based on synthetic reduced nearest neighbors',\n",
       " 'generating fake cyber threat intelligence using transformer-based models',\n",
       " 'property inference from poisoning',\n",
       " 'adversarial vulnerability of active transfer learning',\n",
       " 'data poisoning attacks to deep learning based recommender systems',\n",
       " 'active learning under malicious mislabeling and poisoning attacks',\n",
       " 'federated unlearning',\n",
       " 'dataset security for machine learning: data poisoning, backdoor attacks, and defenses',\n",
       " 'effective and efficient data poisoning in semi-supervised learning',\n",
       " 'data poisoning attacks to local differential privacy protocols',\n",
       " 'mitigating the impact of adversarial attacks in very deep networks',\n",
       " 'certified robustness of nearest neighbors against data poisoning attacks',\n",
       " 'how robust are randomized smoothing based defenses to data poisoning?',\n",
       " 'lethean attack: an online data poisoning technique',\n",
       " 'dimensionality reduction, regularization, and generalization in overparameterized regressions',\n",
       " 'strong data augmentation sanitizes poisoning and backdoor attacks without an accuracy tradeoff',\n",
       " 'bait and switch: online training data poisoning of autonomous driving systems',\n",
       " 'transparent interpretation with knockouts',\n",
       " 'you autocomplete me: poisoning vulnerabilities in neural code completion',\n",
       " 'concealed data poisoning attacks on nlp models',\n",
       " 'venomave: clean-label poisoning against speech recognition',\n",
       " 'sself: robust federated learning against stragglers and adversaries',\n",
       " 'just how toxic is data poisoning? a benchmark for backdoor and data poisoning attacks',\n",
       " 'a framework of randomized selection based certified defenses against data poisoning attacks',\n",
       " 'data poisoning attacks on regression learning and corresponding defenses',\n",
       " 'practical poisoning attacks on neural networks',\n",
       " \"witches' brew: industrial scale data poisoning via gradient matching\",\n",
       " 'detecting ai trojans using meta neural analysis',\n",
       " 'defending regression learners against poisoning attacks',\n",
       " 'defending distributed classifiers against data poisoning attacks',\n",
       " 'intrinsic certified robustness of bagging against data poisoning attacks',\n",
       " 'the price of tailoring the index to your data: poisoning attacks on learned index structures',\n",
       " 'dynamic federated learning model for identifying adversarial clients',\n",
       " 'mitigating backdoor attacks in lstm-based text classification systems by backdoor keyword identification',\n",
       " 'odyssey: creation, analysis and detection of trojan models',\n",
       " 'data poisoning attacks against federated learning systems',\n",
       " 'subpopulation data poisoning attacks',\n",
       " 'just how toxic is data poisoning? a unified benchmark for backdoor and data poisoning attacks',\n",
       " 'on adversarial bias and the robustness of fair machine learning',\n",
       " 'auditing differentially private machine learning: how private is private sgd?',\n",
       " 'robust variational autoencoder for tabular data with beta divergence',\n",
       " 'a distributed trust framework for privacy-preserving machine learning',\n",
       " 'attacking black-box recommendations via copying cross-domain user profiles',\n",
       " 'a study of neural training with iterative non-gradient methods',\n",
       " 'systematic evaluation of backdoor data poisoning attacks on image classifiers',\n",
       " 'data poisoning attacks on federated machine learning',\n",
       " 'practical data poisoning attack against next-item recommendation',\n",
       " 'metapoison: practical general-purpose clean-label data poisoning',\n",
       " 'regularization helps with mitigating poisoning attacks: distributionally-robust machine learning using the wasserstein distance',\n",
       " 'reaching data confidentiality and model accountability on the caltrain',\n",
       " 'shapley homology: topological analysis of sample influence for neural networks',\n",
       " 'data poisoning against differentially-private learners: attacks and defenses',\n",
       " 'data poisoning attacks on factorization-based collaborative filtering',\n",
       " 'using trusted data to train deep networks on labels corrupted by severe noise',\n",
       " 'local model poisoning attacks to byzantine-robust federated learning',\n",
       " 'on defending against label flipping attacks on malware detection systems',\n",
       " 'penalty method for inversion-free deep bilevel optimization',\n",
       " 'spectral signatures in backdoor attacks',\n",
       " 'backdoor embedding in convolutional neural network models via invisible perturbation',\n",
       " 'poison frogs! targeted clean-label poisoning attacks on neural networks',\n",
       " 'a mixture model based defense for data poisoning attacks against naive bayes spam filters',\n",
       " 'is feature selection secure against training data poisoning?',\n",
       " 'security of distributed machine learning: a game-theoretic approach to design secure dsvm',\n",
       " 'data poisoning attack against knowledge graph embedding',\n",
       " 'fr-train: a mutual information-based approach to fair and robust training',\n",
       " 'certified defenses for data poisoning attacks',\n",
       " 'humpty dumpty: controlling word meanings via corpus poisoning',\n",
       " 'radioactive data: tracing through training',\n",
       " 'towards poisoning of deep learning algorithms with back-gradient optimization',\n",
       " 'defending against backdoor attack on deep neural networks',\n",
       " 'is spiking secure? a comparative study on the security vulnerabilities of spiking and deep neural networks',\n",
       " 'data poisoning attacks against online learning',\n",
       " 'how to backdoor federated learning',\n",
       " 'stronger data poisoning attacks break data sanitization defenses',\n",
       " 'slsgd: secure and efficient distributed on-device machine learning',\n",
       " 'proving data-poisoning robustness in decision trees',\n",
       " 'a unified framework for data poisoning attack to graph-based semi-supervised learning',\n",
       " 'mixed strategy game model against data poisoning attacks',\n",
       " 'online data poisoning attack',\n",
       " 'explaining vulnerabilities to adversarial machine learning through visual analytics',\n",
       " 'label sanitization against label flipping poisoning attacks',\n",
       " 'an optimal control view of adversarial machine learning',\n",
       " 'trojdrl: trojan attacks on deep reinforcement learning agents',\n",
       " 'can machine learning model with static features be fooled: an adversarial machine learning approach',\n",
       " 'poisoning attacks with generative adversarial nets',\n",
       " 'on the effectiveness of mitigating data poisoning attacks with gradient shaping',\n",
       " 'robust federated training via collaborative machine teaching using trusted instances',\n",
       " 'targeted backdoor attacks on deep learning systems using data poisoning',\n",
       " 'revealing perceptible backdoors, without the training set, via the maximum achievable misclassification fraction statistic',\n",
       " 'detection of backdoors in trained classifiers without access to the training set',\n",
       " \"can't boil this frog: robustness of online-trained autoencoder-based anomaly detectors to adversarial poisoning attacks\",\n",
       " 'data poisoning attacks on stochastic bandits',\n",
       " \"wolf in sheep's clothing - the downscaling attack against deep learning applications\",\n",
       " 'trisec: training data-unaware imperceptible security attacks on deep neural networks',\n",
       " 'poishygiene: detecting and mitigating poisoning attacks in neural networks',\n",
       " 'data poisoning attacks on neighborhood-based recommender systems',\n",
       " 'detection of adversarial training examples in poisoning attacks through anomaly detection',\n",
       " 'data poisoning attacks in contextual bandits',\n",
       " 'data poisoning attack against unsupervised node embedding methods',\n",
       " 'an investigation of data poisoning defenses for online learning',\n",
       " 'deep probabilistic models to detect data poisoning attacks',\n",
       " 'influence function based data poisoning attacks to top-n recommender systems',\n",
       " 'certified robustness to label-flipping attacks via randomized smoothing',\n",
       " 'maximal adversarial perturbations for obfuscation: hiding certain attributes while preserving rest',\n",
       " 'spectrum data poisoning with adversarial deep learning',\n",
       " 'adversarial learning in statistical classification: a comprehensive review of defenses against attacks',\n",
       " 'regularisation can mitigate poisoning attacks: a novel analysis based on multiobjective bilevel optimisation',\n",
       " 'prime+probe 1, javascript 0: overcoming browser-based side-channel defenses',\n",
       " 'a real-time defense against website fingerprinting attacks',\n",
       " 'deep fingerprinting: undermining website fingerprinting defenses with deep learning',\n",
       " 'robust website fingerprinting through the cache occupancy channel',\n",
       " 'p-fp: extraction, classification, and prediction of website fingerprints with deep learning',\n",
       " 'tik-tok: the utility of packet timing in website fingerprinting attacks',\n",
       " 'membership inference attack susceptibility of clinical language models',\n",
       " 'membership inference attacks on knowledge graphs',\n",
       " 'over-the-air membership inference attacks as privacy threats for deep learning-based wireless signal classifiers',\n",
       " 'quality inference in federated learning with secure aggregation',\n",
       " 'membership inference attacks on machine learning: a survey',\n",
       " 'on the (in)feasibility of attribute inference attacks on machine learning models',\n",
       " 'on the privacy-utility trade-off in differentially private hierarchical text classification',\n",
       " 'quantifying identifiability to choose and audit $ε$ in differentially private deep learning',\n",
       " 'pricure: privacy-preserving collaborative inference in a multi-party setting',\n",
       " 'an analysis of protected health information leakage in deep-learning based de-identification algorithms',\n",
       " 'membership inference attack on graph neural networks',\n",
       " 'practical blind membership inference attack via differential comparisons',\n",
       " 'influencers and the giant component: the fundamental hardness in privacy protection for socially contagious attributes',\n",
       " 'evaluation of inference attack models for deep learning on medical data',\n",
       " 'feature inference attack on model predictions in vertical federated learning',\n",
       " 'exploring vulnerabilities of bert-based apis',\n",
       " \"an extension of fano's inequality for characterizing model susceptibility to membership inference attacks\",\n",
       " 'quantifying membership inference vulnerability via generalization gap and other model metrics',\n",
       " 'revisiting the threat space for vision-based keystroke inference attacks',\n",
       " 'sampling attacks: amplification of membership inference attacks by repeated queries',\n",
       " 'adversarial privacy preserving graph embedding against inference attack',\n",
       " 'mcmia: model compression against membership inference attack in deep neural networks',\n",
       " 'membership leakage in label-only exposures',\n",
       " 'ml privacy meter: aiding regulatory compliance by quantifying the privacy risks of machine learning',\n",
       " 'sharing models or coresets: a study based on membership inference attack',\n",
       " 'on the effectiveness of regularization against membership inference attacks',\n",
       " 'on the difficulty of membership inference attacks',\n",
       " 'revisiting membership inference under realistic assumptions',\n",
       " 'damia: leveraging domain adaptation as a defense against membership inference attacks',\n",
       " 'defending model inversion and membership inference attacks via prediction purification',\n",
       " 'when machine unlearning jeopardizes privacy',\n",
       " 'exploiting defenses against gan-based feature inference attacks in federated learning',\n",
       " 'systematic evaluation of privacy risks of machine learning models',\n",
       " 'data and model dependencies of membership inference attack',\n",
       " 'differentially private k-means clustering with guaranteed convergence',\n",
       " 'membership inference attacks against object detection models',\n",
       " 'assessing differentially private deep learning with membership inference',\n",
       " 'effects of differential privacy and data skewness on membership inference vulnerability',\n",
       " 'reducing audio membership inference attack accuracy to chance: 4 defenses',\n",
       " 'quantifying (hyper) parameter leakage in machine learning',\n",
       " 'riga: covert and robust white-box watermarking of deep neural networks',\n",
       " 'eavesdrop the composition proportion of training labels in federated learning',\n",
       " 'trade-offs and guarantees of adversarial representation learning for information obfuscation',\n",
       " 'memguard: defending against black-box membership inference attacks via adversarial examples',\n",
       " 'synthesis of realistic ecg using generative adversarial networks',\n",
       " 'defending against machine learning based inference attacks via adversarial examples: opportunities and challenges',\n",
       " 'gan-leaks: a taxonomy of membership inference attacks against generative models',\n",
       " 'reconstruction and membership inference attacks against generative models',\n",
       " 'membership privacy for machine learning models through knowledge transfer',\n",
       " 'differentially private data generative models',\n",
       " 'active deep learning attacks under strict rate limitations for online api calls',\n",
       " 'machine learning with membership privacy using adversarial regularization',\n",
       " 'membership inference attacks against machine learning models',\n",
       " 'ml-leaks: model and data independent membership inference attacks and defenses on machine learning models',\n",
       " 'understanding membership inferences on well-generalized learning models',\n",
       " 'generative adversarial networks for black-box api attacks with limited training data',\n",
       " 'quantifying the privacy risks of learning high-dimensional graphical models',\n",
       " 'disparate vulnerability: on the unfairness of privacy attacks against machine learning',\n",
       " 'technical report of the video event reconstruction and analysis (vera) system -- shooter localization, models, interface, and beyond',\n",
       " 'accdoa: activity-coupled cartesian direction of arrival representation for sound event localization and detection',\n",
       " 'soft-median choice: an automatic feature smoothing method for sound event detection',\n",
       " 'a global-local attention framework for weakly labelled audio tagging',\n",
       " 'forward-backward convolutional recurrent neural networks and tag-conditioned convolutional neural networks for weakly labeled semi-supervised sound event detection',\n",
       " 'sound event detection in domestic environments using dense recurrent neural network',\n",
       " 'improving sound event detection in domestic environments using sound separation',\n",
       " 'training sound event detection on a heterogeneous dataset',\n",
       " 'sound event detection in domestic environments withweakly labeled data and soundscape synthesis',\n",
       " 'desed-fl and urban-fl: federated learning datasets for sound event detection',\n",
       " 'deep convolutional and recurrent networks for polyphonic instrument classification from monophonic raw audio waveforms',\n",
       " 'sound event detection in urban audio with single and multi-rate pcen',\n",
       " 'towards duration robust weakly supervised sound event detection',\n",
       " 'sound event detection with binary neural networks on tightly power-constrained iot devices',\n",
       " 'denet: a deep architecture for audio surveillance applications',\n",
       " 'ubicoustics: plug-and-play acoustic activity recognition',\n",
       " 'power pooling: an adaptive pooling function for weakly labelled sound event detection',\n",
       " 'dcasenet: a joint pre-trained deep neural network for detecting and classifying acoustic scenes and events',\n",
       " 'seld-tcn: sound event localization & detection via temporal convolutional networks',\n",
       " 'multi-task learning for interpretable weakly labelled sound event detection',\n",
       " 'conditioned time-dilated convolutions for sound event detection',\n",
       " 'channel compression: rethinking information redundancy among channels in cnn architecture',\n",
       " 'learning sound events from webly labeled data',\n",
       " 'panns: large-scale pretrained audio neural networks for audio pattern recognition',\n",
       " 'memory controlled sequential self attention for sound recognition',\n",
       " 'incremental learning algorithm for sound event detection',\n",
       " 'a comparative study of western and chinese classical music based on soundscape models',\n",
       " 'active learning for sound event detection',\n",
       " 'sound event detection with depthwise separable and dilated convolutions',\n",
       " 'compact recurrent neural networks for acoustic event detection on low-energy low-complexity platforms',\n",
       " 'guided learning for weakly-labeled semi-supervised sound event detection',\n",
       " 'musical instrument playing technique detection based on fcn: using chinese bowed-stringed instrument as an example',\n",
       " 'weakly labeled sound event detection using tri-training and adversarial learning',\n",
       " 'guided learning convolution system for dcase 2019 task 4',\n",
       " 'sound event detection in multichannel audio using convolutional time-frequency-channel squeeze and excitation',\n",
       " 'language modelling for sound event detection with teacher forcing and scheduled sampling',\n",
       " 'learning sound event classifiers from web audio with noisy labels',\n",
       " 'framework for evaluation of sound event detection in web videos',\n",
       " 'sound event detection in multichannel audio using spatial and harmonic features',\n",
       " 'polyphonic sound event detection by using capsule neural network',\n",
       " 'multichannel sound event detection using 3d convolutional neural networks for learning inter-channel features',\n",
       " 'sound event detection using spatial features and convolutional recurrent neural network',\n",
       " 'adaptive pooling operators for weakly labeled sound event detection',\n",
       " 'end-to-end polyphonic sound event detection using convolutional recurrent neural networks with learned time-frequency representation input',\n",
       " 'empirical study of drone sound detection in real-life environment with deep neural networks',\n",
       " 'a closer look at weak label learning for audio events',\n",
       " 'convolutional recurrent neural networks for polyphonic sound event detection',\n",
       " 'recurrent neural networks for polyphonic sound event detection in real life recordings',\n",
       " 'quaternion convolutional neural networks for detection and localization of 3d sound events',\n",
       " 'sound event detection in synthetic audio: analysis of the dcase 2016 task results',\n",
       " 'the nigens general sound events database',\n",
       " 'robust sound event detection in bioacoustic sensor networks',\n",
       " 'specialized decision surface and disentangled feature for weakly-supervised polyphonic sound event detection',\n",
       " 'attentive max feature map for acoustic scene classification with joint learning considering the abstraction of classes',\n",
       " 'an analysis of state-of-the-art activation functions for supervised deep neural network',\n",
       " 'specaugment++: a hidden space data augmentation method for acoustic scene classification',\n",
       " 'environmental sound analysis with mixup based multitask learning and cross-task fusion',\n",
       " 'low-complexity models for acoustic scene classification based on receptive field regularization and frequency damping',\n",
       " 'a two-stage approach to device-robust acoustic scene classification',\n",
       " 'deep learning based open set acoustic scene classification',\n",
       " 'an acoustic segment model based segment unit selection approach to acoustic scene classification with partial utterances',\n",
       " 'relational teacher student learning with neural label embedding for device adaptation in acoustic scene classification',\n",
       " 'dd-cnn: depthwise disout convolutional neural network for low-complexity acoustic scene classification',\n",
       " 'device-robust acoustic scene classification based on two-stage categorization and data augmentation',\n",
       " 'capturing scattered discriminative information using a deep architecture in acoustic scene classification',\n",
       " 'learning speech representations from raw audio by joint audiovisual self-supervision',\n",
       " 'a transformer-based audio captioning model with keyword estimation',\n",
       " 'environmental sound classification with parallel temporal-spectral attention',\n",
       " 'unsupervised domain adaptation for acoustic scene classification using band-wise statistics matching',\n",
       " 'acoustic scene classification with squeeze-excitation residual networks',\n",
       " 'acoustic scene classification using bilinear pooling on time-liked and frequency-liked convolution neural network',\n",
       " 'neural architecture search on acoustic scene classification',\n",
       " 'emotion and theme recognition in music with frequency-aware rf-regularized cnns',\n",
       " 'characterizing dynamically varying acoustic scenes from egocentric audio recordings in workplace setting',\n",
       " 'cross-task pre-training for on-device acoustic scene classification',\n",
       " 'acoustic scene classification based on a large-margin factorized cnn',\n",
       " 'acoustic scene analysis with multi-head attention networks',\n",
       " 'exploiting parallel audio recordings to enforce device invariance in cnn-based acoustic scene classification',\n",
       " 'receptive-field-regularized cnn variants for acoustic scene classification',\n",
       " 'integrating the data augmentation scheme with various classifiers for acoustic scene modeling',\n",
       " 'the receptive field as a regularizer in deep convolutional neural networks for acoustic scene classification',\n",
       " 'cnn depth analysis with different channel inputs for acoustic scene classification',\n",
       " 'acoustic scene classification: a competition review',\n",
       " 'label tree embeddings for acoustic scene classification',\n",
       " 'classifying variable-length audio files with all-convolutional networks and masked global pooling',\n",
       " ...]"
      ]
     },
     "execution_count": 10,
     "metadata": {},
     "output_type": "execute_result"
    }
   ],
   "source": [
    "X_raw"
   ]
  },
  {
   "cell_type": "code",
   "execution_count": 11,
   "id": "dc60f488",
   "metadata": {
    "ExecuteTime": {
     "end_time": "2021-05-30T12:37:55.508747Z",
     "start_time": "2021-05-30T12:37:55.474880Z"
    }
   },
   "outputs": [],
   "source": [
    "for idx, paper in enumerate(X_raw):\n",
    "    \n",
    "    paper = paper.replace(':', ' :')\n",
    "    paper = paper.replace('-', ' ')\n",
    "    X_raw[idx] = paper"
   ]
  },
  {
   "cell_type": "markdown",
   "id": "db1e50c5",
   "metadata": {
    "ExecuteTime": {
     "end_time": "2021-04-28T07:20:33.056889Z",
     "start_time": "2021-04-28T07:20:33.042384Z"
    }
   },
   "source": [
    "use ascii code only from 032 ~ 126"
   ]
  },
  {
   "cell_type": "code",
   "execution_count": 110,
   "id": "5760cdd3",
   "metadata": {
    "ExecuteTime": {
     "end_time": "2021-05-30T13:11:42.296194Z",
     "start_time": "2021-05-30T13:11:42.288684Z"
    }
   },
   "outputs": [],
   "source": [
    "_pad = '<pad>'\n",
    "_unk = '<unk>'\n",
    "\n",
    "ascii_list = list(range(48, 58)) + list(range(65, 91)) + list(range(97, 123))\n",
    "letter_mapper = {\n",
    "    chr(_ascii): i+2 for i, _ascii in enumerate(ascii_list)\n",
    "}\n",
    "letter_mapper[_pad] = 0\n",
    "letter_mapper[_unk] = 1\n",
    "\n",
    "word_mapper = dict()"
   ]
  },
  {
   "cell_type": "code",
   "execution_count": 111,
   "id": "9edff4a5",
   "metadata": {
    "ExecuteTime": {
     "end_time": "2021-05-30T13:11:42.513711Z",
     "start_time": "2021-05-30T13:11:42.504710Z"
    },
    "scrolled": true
   },
   "outputs": [
    {
     "data": {
      "text/plain": [
       "{'0': 2,\n",
       " '1': 3,\n",
       " '2': 4,\n",
       " '3': 5,\n",
       " '4': 6,\n",
       " '5': 7,\n",
       " '6': 8,\n",
       " '7': 9,\n",
       " '8': 10,\n",
       " '9': 11,\n",
       " 'A': 12,\n",
       " 'B': 13,\n",
       " 'C': 14,\n",
       " 'D': 15,\n",
       " 'E': 16,\n",
       " 'F': 17,\n",
       " 'G': 18,\n",
       " 'H': 19,\n",
       " 'I': 20,\n",
       " 'J': 21,\n",
       " 'K': 22,\n",
       " 'L': 23,\n",
       " 'M': 24,\n",
       " 'N': 25,\n",
       " 'O': 26,\n",
       " 'P': 27,\n",
       " 'Q': 28,\n",
       " 'R': 29,\n",
       " 'S': 30,\n",
       " 'T': 31,\n",
       " 'U': 32,\n",
       " 'V': 33,\n",
       " 'W': 34,\n",
       " 'X': 35,\n",
       " 'Y': 36,\n",
       " 'Z': 37,\n",
       " 'a': 38,\n",
       " 'b': 39,\n",
       " 'c': 40,\n",
       " 'd': 41,\n",
       " 'e': 42,\n",
       " 'f': 43,\n",
       " 'g': 44,\n",
       " 'h': 45,\n",
       " 'i': 46,\n",
       " 'j': 47,\n",
       " 'k': 48,\n",
       " 'l': 49,\n",
       " 'm': 50,\n",
       " 'n': 51,\n",
       " 'o': 52,\n",
       " 'p': 53,\n",
       " 'q': 54,\n",
       " 'r': 55,\n",
       " 's': 56,\n",
       " 't': 57,\n",
       " 'u': 58,\n",
       " 'v': 59,\n",
       " 'w': 60,\n",
       " 'x': 61,\n",
       " 'y': 62,\n",
       " 'z': 63,\n",
       " '<pad>': 0,\n",
       " '<unk>': 1}"
      ]
     },
     "execution_count": 111,
     "metadata": {},
     "output_type": "execute_result"
    }
   ],
   "source": [
    "letter_mapper"
   ]
  },
  {
   "cell_type": "code",
   "execution_count": 113,
   "id": "4ea92bd9",
   "metadata": {
    "ExecuteTime": {
     "end_time": "2021-05-30T13:17:52.862475Z",
     "start_time": "2021-05-30T13:17:51.688394Z"
    }
   },
   "outputs": [],
   "source": [
    "letter_counter = {k: 0 for k in letter_mapper.keys()}\n",
    "unk_letterset = set()\n",
    "for p in X_raw:\n",
    "    \n",
    "    for letter in p:\n",
    "        \n",
    "        try:\n",
    "            if letter_counter.get(letter) >= 0:\n",
    "                letter_counter[letter] += 1\n",
    "            \n",
    "        except:\n",
    "            letter_counter[_unk] += 1\n",
    "            unk_letterset.add(letter)"
   ]
  },
  {
   "cell_type": "code",
   "execution_count": 114,
   "id": "23bf09e5",
   "metadata": {
    "ExecuteTime": {
     "end_time": "2021-05-30T13:17:52.878476Z",
     "start_time": "2021-05-30T13:17:52.863476Z"
    }
   },
   "outputs": [
    {
     "data": {
      "text/plain": [
       "378"
      ]
     },
     "execution_count": 114,
     "metadata": {},
     "output_type": "execute_result"
    }
   ],
   "source": [
    "len(unk_letterset)"
   ]
  },
  {
   "cell_type": "markdown",
   "id": "0fbdabe5",
   "metadata": {},
   "source": [
    "and use ♪ for unknown tokens"
   ]
  },
  {
   "cell_type": "code",
   "execution_count": 115,
   "id": "87ef1e97",
   "metadata": {
    "ExecuteTime": {
     "end_time": "2021-05-30T13:17:52.894476Z",
     "start_time": "2021-05-30T13:17:52.879477Z"
    }
   },
   "outputs": [],
   "source": [
    "is_valid = lambda l: l in letter_mapper.keys()\n",
    "def encode(paper, idx):\n",
    "\n",
    "    for word in list(filter(lambda x: x, paper.split(' '))):\n",
    "        \n",
    "        if word in word_mapper.values():\n",
    "            pass\n",
    "        \n",
    "        elif all(filter(is_valid, word)):\n",
    "            word_mapper[idx] = word\n",
    "            idx += 1\n",
    "            \n",
    "    return idx"
   ]
  },
  {
   "cell_type": "code",
   "execution_count": 116,
   "id": "af08cd64",
   "metadata": {
    "ExecuteTime": {
     "end_time": "2021-05-30T13:18:09.939012Z",
     "start_time": "2021-05-30T13:17:52.895477Z"
    }
   },
   "outputs": [],
   "source": [
    "idx = 2\n",
    "word_mapper = {0: '<pad>', 1: '<unk>'}\n",
    "for paper in X_raw:\n",
    "    idx = encode(paper, idx)"
   ]
  },
  {
   "cell_type": "code",
   "execution_count": 117,
   "id": "c9a388c6",
   "metadata": {
    "ExecuteTime": {
     "end_time": "2021-05-30T13:18:09.956008Z",
     "start_time": "2021-05-30T13:18:09.941008Z"
    }
   },
   "outputs": [],
   "source": [
    "def remove(sentence):\n",
    "    \n",
    "    for _unk in unk_letterset:\n",
    "        sentence = sentence.replace(_unk, '')\n",
    "    return sentence"
   ]
  },
  {
   "cell_type": "code",
   "execution_count": 118,
   "id": "0101dfc0",
   "metadata": {
    "ExecuteTime": {
     "end_time": "2021-05-30T13:18:11.436577Z",
     "start_time": "2021-05-30T13:18:09.959010Z"
    }
   },
   "outputs": [],
   "source": [
    "X_filter = list(map(remove, X_raw))"
   ]
  },
  {
   "cell_type": "markdown",
   "id": "e5baccc7",
   "metadata": {},
   "source": [
    "## 1.3 Frequency of words"
   ]
  },
  {
   "cell_type": "code",
   "execution_count": 19,
   "id": "ae2dbf64",
   "metadata": {
    "ExecuteTime": {
     "end_time": "2021-05-30T11:30:30.294891Z",
     "start_time": "2021-05-30T11:30:30.126823Z"
    }
   },
   "outputs": [],
   "source": [
    "from collections import Counter\n",
    "frequency = Counter(chain(*(map(lambda x: x.split(' '), X_raw))))\n",
    "frequency_df = pd.Series(frequency)"
   ]
  },
  {
   "cell_type": "code",
   "execution_count": 20,
   "id": "50de3d5e",
   "metadata": {
    "ExecuteTime": {
     "end_time": "2021-05-30T11:30:30.516946Z",
     "start_time": "2021-05-30T11:30:30.295894Z"
    }
   },
   "outputs": [
    {
     "data": {
      "text/plain": [
       "<AxesSubplot:title={'center':'Word Frequency Histogram, more than 1,000'}, xlabel='# of words'>"
      ]
     },
     "execution_count": 20,
     "metadata": {},
     "output_type": "execute_result"
    },
    {
     "data": {
      "image/png": "[encoded data removed]",
      "text/plain": [
       "<Figure size 432x288 with 1 Axes>"
      ]
     },
     "metadata": {},
     "output_type": "display_data"
    }
   ],
   "source": [
    "fig, ax = plt.subplots()\n",
    "ax.set_title('Word Frequency Histogram, more than 1,000', fontsize=13)\n",
    "ax.set_xlabel('# of words')\n",
    "frequency_df[frequency_df > 1000].hist()"
   ]
  },
  {
   "cell_type": "code",
   "execution_count": 21,
   "id": "70ed512d",
   "metadata": {
    "ExecuteTime": {
     "end_time": "2021-05-30T11:30:30.532409Z",
     "start_time": "2021-05-30T11:30:30.518898Z"
    },
    "scrolled": true
   },
   "outputs": [
    {
     "data": {
      "text/plain": [
       "for               20794\n",
       ":                 12765\n",
       "learning          12035\n",
       "and               11174\n",
       "of                10183\n",
       "a                  8686\n",
       "with               7951\n",
       "in                 7908\n",
       "based              5223\n",
       "to                 5052\n",
       "the                5045\n",
       "neural             4867\n",
       "using              4755\n",
       "deep               4740\n",
       "networks           4114\n",
       "on                 3901\n",
       "detection          3260\n",
       "data               3188\n",
       "multi              3012\n",
       "network            2847\n",
       "graph              2824\n",
       "model              2664\n",
       "from               2529\n",
       "models             2251\n",
       "classification     2247\n",
       "language           2201\n",
       "via                2062\n",
       "recognition        2057\n",
       "time               2001\n",
       "an                 1916\n",
       "speech             1915\n",
       "prediction         1658\n",
       "machine            1646\n",
       "adversarial        1570\n",
       "estimation         1522\n",
       "text               1509\n",
       "reinforcement      1506\n",
       "knowledge          1482\n",
       "analysis           1452\n",
       "by                 1438\n",
       "                   1433\n",
       "approach           1427\n",
       "convolutional      1417\n",
       "end                1375\n",
       "semantic           1318\n",
       "image              1307\n",
       "task               1299\n",
       "word               1289\n",
       "embeddings         1215\n",
       "supervised         1199\n",
       "series             1149\n",
       "shot               1148\n",
       "domain             1121\n",
       "efficient          1110\n",
       "information        1082\n",
       "pose               1068\n",
       "training           1060\n",
       "human              1058\n",
       "visual             1041\n",
       "embedding          1020\n",
       "dtype: int64"
      ]
     },
     "execution_count": 21,
     "metadata": {},
     "output_type": "execute_result"
    }
   ],
   "source": [
    "frequency_df[frequency_df > 1000].sort_values(ascending=False)"
   ]
  },
  {
   "cell_type": "markdown",
   "id": "a03219c0",
   "metadata": {},
   "source": [
    "## 1.4 Length of Papers"
   ]
  },
  {
   "cell_type": "code",
   "execution_count": 23,
   "id": "127174d3",
   "metadata": {
    "ExecuteTime": {
     "end_time": "2021-05-30T09:35:09.966346Z",
     "start_time": "2021-05-30T09:35:09.877346Z"
    }
   },
   "outputs": [],
   "source": [
    "len_frequency = list(map(\n",
    "    lambda x: len(list(filter(lambda _: _, x.split(' ')))),\n",
    "    X_raw\n",
    "))\n",
    "len_frequency = dict(sorted(Counter(len_frequency).items(), key=(lambda x: x[0])))"
   ]
  },
  {
   "cell_type": "code",
   "execution_count": 24,
   "id": "23ec1003",
   "metadata": {
    "ExecuteTime": {
     "end_time": "2021-05-30T09:35:09.970349Z",
     "start_time": "2021-05-30T09:35:09.967347Z"
    }
   },
   "outputs": [],
   "source": [
    "len_frequency = pd.Series(len_frequency)"
   ]
  },
  {
   "cell_type": "code",
   "execution_count": 25,
   "id": "05e9705e",
   "metadata": {
    "ExecuteTime": {
     "end_time": "2021-05-30T09:35:10.565406Z",
     "start_time": "2021-05-30T09:35:09.972348Z"
    }
   },
   "outputs": [
    {
     "data": {
      "text/plain": [
       "<AxesSubplot:title={'center':'Paper length histogram'}, xlabel='Paper Length', ylabel='Counts'>"
      ]
     },
     "execution_count": 25,
     "metadata": {},
     "output_type": "execute_result"
    },
    {
     "data": {
      "image/png": "[encoded data removed]",
      "text/plain": [
       "<Figure size 720x540.72 with 1 Axes>"
      ]
     },
     "metadata": {},
     "output_type": "display_data"
    }
   ],
   "source": [
    "fig, ax = plt.subplots(figsize=(10, 7.51))\n",
    "ax.set_title('Paper length histogram', fontsize=15)\n",
    "ax.set_xlabel('Paper Length')\n",
    "ax.set_ylabel('Counts')\n",
    "len_frequency.plot(kind='bar', ax=ax, rot=0)"
   ]
  },
  {
   "cell_type": "markdown",
   "id": "e967112f",
   "metadata": {},
   "source": [
    "# 2. Pre-Embeddings"
   ]
  },
  {
   "cell_type": "markdown",
   "id": "901d3b79",
   "metadata": {},
   "source": [
    "## 1. FastText"
   ]
  },
  {
   "cell_type": "code",
   "execution_count": 18,
   "id": "3ad3d0ea",
   "metadata": {
    "ExecuteTime": {
     "end_time": "2021-05-30T12:38:19.990612Z",
     "start_time": "2021-05-30T12:38:19.976613Z"
    }
   },
   "outputs": [],
   "source": [
    "from gensim.models import FastText"
   ]
  },
  {
   "cell_type": "code",
   "execution_count": 81,
   "id": "6f486cac",
   "metadata": {
    "ExecuteTime": {
     "end_time": "2021-05-30T13:06:13.957133Z",
     "start_time": "2021-05-30T13:06:13.779776Z"
    }
   },
   "outputs": [],
   "source": [
    "X_filter_FT = list(map(str.split, X_filter))"
   ]
  },
  {
   "cell_type": "code",
   "execution_count": 94,
   "id": "acc827c7",
   "metadata": {
    "ExecuteTime": {
     "end_time": "2021-05-30T13:08:07.250713Z",
     "start_time": "2021-05-30T13:07:54.724267Z"
    }
   },
   "outputs": [],
   "source": [
    "model = FastText(sentences=X_filter_FT, window=50,vector_size=128)"
   ]
  },
  {
   "cell_type": "code",
   "execution_count": 95,
   "id": "e8bc664d",
   "metadata": {
    "ExecuteTime": {
     "end_time": "2021-05-30T13:08:07.266714Z",
     "start_time": "2021-05-30T13:08:07.252715Z"
    }
   },
   "outputs": [
    {
     "data": {
      "text/plain": [
       "(5447, 128)"
      ]
     },
     "execution_count": 95,
     "metadata": {},
     "output_type": "execute_result"
    }
   ],
   "source": [
    "model.wv.vectors.shape"
   ]
  },
  {
   "cell_type": "code",
   "execution_count": 103,
   "id": "11984e80",
   "metadata": {
    "ExecuteTime": {
     "end_time": "2021-05-30T13:08:30.430570Z",
     "start_time": "2021-05-30T13:08:30.419572Z"
    }
   },
   "outputs": [
    {
     "data": {
      "text/plain": [
       "[('networked', 0.9070553779602051),\n",
       " ('network', 0.9069962501525879),\n",
       " ('net', 0.8973541259765625),\n",
       " ('ney', 0.8950368165969849),\n",
       " ('networks,', 0.8825586438179016),\n",
       " ('networks?', 0.8813206553459167),\n",
       " ('architecture,', 0.8756234049797058),\n",
       " ('networks', 0.8662667870521545),\n",
       " ('architecture', 0.8642458319664001),\n",
       " ('networking', 0.8487641215324402)]"
      ]
     },
     "execution_count": 103,
     "metadata": {},
     "output_type": "execute_result"
    }
   ],
   "source": [
    "model.wv.most_similar('neural network', topn=10)"
   ]
  },
  {
   "cell_type": "code",
   "execution_count": null,
   "id": "83534097",
   "metadata": {},
   "outputs": [],
   "source": [
    "model.wv.vectors"
   ]
  },
  {
   "cell_type": "markdown",
   "id": "01291755",
   "metadata": {},
   "source": [
    "## 2. word2vec\n"
   ]
  },
  {
   "cell_type": "markdown",
   "id": "87459115",
   "metadata": {},
   "source": [
    "## 3. Sentencepiece to break down"
   ]
  },
  {
   "cell_type": "code",
   "execution_count": null,
   "id": "8bfbe408",
   "metadata": {
    "ExecuteTime": {
     "start_time": "2021-05-30T11:30:51.857Z"
    }
   },
   "outputs": [],
   "source": [
    "import sentencepiece as spm\n",
    "\n",
    "spm.SentencePieceTrainer.train(\n",
    "    f\"--input=X_tokenized.npy --model_prefix=paper --vocab_size={len(word_mapper) + 2}\" +\n",
    "    \" --model_type=bpe \" +\n",
    "    \" --max_sentence_length=50\" + \n",
    "#     \" --pad_id=0 --pad_piece=<pad>\" +\n",
    "#     \" --unk_id=1 --unk_piece=<unk>\" +\n",
    "    \" --hard_vocab_limit=false\" +\n",
    "    \" --user_defined_symbols=<mask>\"\n",
    ")"
   ]
  },
  {
   "cell_type": "markdown",
   "id": "2e1d776a",
   "metadata": {},
   "source": [
    "# 2. Machine Learning - Naive Bayes"
   ]
  },
  {
   "cell_type": "code",
   "execution_count": 48,
   "id": "834d94ec",
   "metadata": {
    "ExecuteTime": {
     "end_time": "2021-05-30T12:56:16.143396Z",
     "start_time": "2021-05-30T12:56:16.132400Z"
    }
   },
   "outputs": [],
   "source": [
    "word2idx = {v: k for k, v in word_mapper.items()}"
   ]
  },
  {
   "cell_type": "code",
   "execution_count": 49,
   "id": "8c7e7239",
   "metadata": {
    "ExecuteTime": {
     "end_time": "2021-05-30T12:56:16.362398Z",
     "start_time": "2021-05-30T12:56:16.357400Z"
    }
   },
   "outputs": [],
   "source": [
    "MAX_LEN = 45\n",
    "def tokenize(paper):\n",
    "    \n",
    "    global MAX_LEN\n",
    "    words = list(filter(lambda x: x, paper.split(' ')))\n",
    "    tokens = [0 for _ in range(MAX_LEN)]\n",
    "    for idx in range(min(len(words), MAX_LEN)):\n",
    "        tokens[idx] = word2idx[words[idx]]\n",
    "        \n",
    "    return tokens"
   ]
  },
  {
   "cell_type": "code",
   "execution_count": 50,
   "id": "c76402ab",
   "metadata": {
    "ExecuteTime": {
     "end_time": "2021-05-30T12:56:16.978457Z",
     "start_time": "2021-05-30T12:56:16.524951Z"
    }
   },
   "outputs": [],
   "source": [
    "X_tokenized = [tokenize(paper) for paper in X_raw]"
   ]
  },
  {
   "cell_type": "code",
   "execution_count": 60,
   "id": "12137d88",
   "metadata": {
    "ExecuteTime": {
     "end_time": "2021-05-30T09:59:54.495421Z",
     "start_time": "2021-05-30T09:59:54.334997Z"
    }
   },
   "outputs": [],
   "source": [
    "X_tokenized = np.array(X_tokenized)"
   ]
  },
  {
   "cell_type": "code",
   "execution_count": 61,
   "id": "d7ec1634",
   "metadata": {
    "ExecuteTime": {
     "end_time": "2021-05-30T09:59:54.555416Z",
     "start_time": "2021-05-30T09:59:54.550415Z"
    }
   },
   "outputs": [
    {
     "data": {
      "text/plain": [
       "array([[   2,    3,    4, ...,    0,    0,    0],\n",
       "       [  15,   16,   17, ...,    0,    0,    0],\n",
       "       [  22,   23,   24, ...,    0,    0,    0],\n",
       "       ...,\n",
       "       [ 697,    6,    7, ...,    0,    0,    0],\n",
       "       [ 218,  316,  848, ...,    0,    0,    0],\n",
       "       [ 173, 7150, 4300, ...,    0,    0,    0]])"
      ]
     },
     "execution_count": 61,
     "metadata": {},
     "output_type": "execute_result"
    }
   ],
   "source": [
    "X_tokenized"
   ]
  },
  {
   "cell_type": "code",
   "execution_count": 32,
   "id": "c080350b",
   "metadata": {
    "ExecuteTime": {
     "end_time": "2021-05-30T09:35:11.769516Z",
     "start_time": "2021-05-30T09:35:11.749514Z"
    }
   },
   "outputs": [],
   "source": [
    "# using binary relevance\n",
    "from skmultilearn.problem_transform import BinaryRelevance\n",
    "from sklearn.naive_bayes import GaussianNB, MultinomialNB\n",
    "\n",
    "# initialize binary relevance multi-label classifier\n",
    "# with a gaussian naive bayes base classifier\n",
    "classifier = BinaryRelevance(GaussianNB())"
   ]
  },
  {
   "cell_type": "code",
   "execution_count": 33,
   "id": "0a0b5cdd",
   "metadata": {
    "ExecuteTime": {
     "end_time": "2021-05-30T09:35:11.777513Z",
     "start_time": "2021-05-30T09:35:11.772514Z"
    }
   },
   "outputs": [
    {
     "data": {
      "text/plain": [
       "array([1, 1, 1, ..., 0, 0, 0], dtype=int8)"
      ]
     },
     "execution_count": 33,
     "metadata": {},
     "output_type": "execute_result"
    }
   ],
   "source": [
    "paper_df['adversarial'].values"
   ]
  },
  {
   "cell_type": "code",
   "execution_count": 34,
   "id": "c9c5bdbe",
   "metadata": {
    "ExecuteTime": {
     "end_time": "2021-05-30T09:35:12.400028Z",
     "start_time": "2021-05-30T09:35:11.778513Z"
    }
   },
   "outputs": [
    {
     "ename": "NameError",
     "evalue": "name 'accuracy_score' is not defined",
     "output_type": "error",
     "traceback": [
      "\u001b[1;31m---------------------------------------------------------------------------\u001b[0m",
      "\u001b[1;31mNameError\u001b[0m                                 Traceback (most recent call last)",
      "\u001b[1;32m<ipython-input-34-caad18b1f5d5>\u001b[0m in \u001b[0;36m<module>\u001b[1;34m\u001b[0m\n\u001b[0;32m      4\u001b[0m     \u001b[0mclf\u001b[0m\u001b[1;33m.\u001b[0m\u001b[0mfit\u001b[0m\u001b[1;33m(\u001b[0m\u001b[0mX_tokenized\u001b[0m\u001b[1;33m,\u001b[0m \u001b[0mpaper_df\u001b[0m\u001b[1;33m[\u001b[0m\u001b[0marea\u001b[0m\u001b[1;33m]\u001b[0m\u001b[1;33m.\u001b[0m\u001b[0mvalues\u001b[0m\u001b[1;33m)\u001b[0m\u001b[1;33m\u001b[0m\u001b[1;33m\u001b[0m\u001b[0m\n\u001b[0;32m      5\u001b[0m     \u001b[0mpred\u001b[0m \u001b[1;33m=\u001b[0m \u001b[0mclf\u001b[0m\u001b[1;33m.\u001b[0m\u001b[0mpredict\u001b[0m\u001b[1;33m(\u001b[0m\u001b[0mX_tokenized\u001b[0m\u001b[1;33m)\u001b[0m\u001b[1;33m\u001b[0m\u001b[1;33m\u001b[0m\u001b[0m\n\u001b[1;32m----> 6\u001b[1;33m     \u001b[0macc\u001b[0m \u001b[1;33m=\u001b[0m \u001b[0maccuracy_score\u001b[0m\u001b[1;33m(\u001b[0m\u001b[0mpaper_df\u001b[0m\u001b[1;33m[\u001b[0m\u001b[0marea\u001b[0m\u001b[1;33m]\u001b[0m\u001b[1;33m.\u001b[0m\u001b[0mvalues\u001b[0m\u001b[1;33m,\u001b[0m \u001b[0mpred\u001b[0m\u001b[1;33m)\u001b[0m\u001b[1;33m\u001b[0m\u001b[1;33m\u001b[0m\u001b[0m\n\u001b[0m\u001b[0;32m      7\u001b[0m     \u001b[0mnb_dict\u001b[0m\u001b[1;33m[\u001b[0m\u001b[0marea\u001b[0m\u001b[1;33m]\u001b[0m \u001b[1;33m=\u001b[0m \u001b[0macc\u001b[0m \u001b[1;33m*\u001b[0m \u001b[1;36m100\u001b[0m\u001b[1;33m\u001b[0m\u001b[1;33m\u001b[0m\u001b[0m\n",
      "\u001b[1;31mNameError\u001b[0m: name 'accuracy_score' is not defined"
     ]
    }
   ],
   "source": [
    "nb_dict = dict()\n",
    "for area in paper_df.columns:\n",
    "    clf = GaussianNB()\n",
    "    clf.fit(X_tokenized, paper_df[area].values)\n",
    "    pred = clf.predict(X_tokenized)\n",
    "    acc = accuracy_score(paper_df[area].values, pred)\n",
    "    nb_dict[area] = acc * 100"
   ]
  },
  {
   "cell_type": "code",
   "execution_count": null,
   "id": "ba591771",
   "metadata": {
    "ExecuteTime": {
     "end_time": "2021-05-30T09:35:12.401027Z",
     "start_time": "2021-05-30T09:34:46.393Z"
    }
   },
   "outputs": [],
   "source": [
    "nb_dict"
   ]
  },
  {
   "cell_type": "code",
   "execution_count": null,
   "id": "7ff25d2a",
   "metadata": {
    "ExecuteTime": {
     "end_time": "2021-05-30T09:35:12.403030Z",
     "start_time": "2021-05-30T09:34:46.395Z"
    }
   },
   "outputs": [],
   "source": [
    "chance_lv_dict = (paper_df.sum(axis=0) / paper_df.shape[0]) * 100"
   ]
  },
  {
   "cell_type": "code",
   "execution_count": null,
   "id": "dc89f706",
   "metadata": {
    "ExecuteTime": {
     "end_time": "2021-05-30T09:35:12.404029Z",
     "start_time": "2021-05-30T09:34:46.397Z"
    }
   },
   "outputs": [],
   "source": [
    "nb_compare = pd.DataFrame([nb_dict, chance_lv_dict],\n",
    "             index=['Naive Bayes Accuracy', 'Chance Level']).T"
   ]
  },
  {
   "cell_type": "code",
   "execution_count": null,
   "id": "46d838f3",
   "metadata": {
    "ExecuteTime": {
     "end_time": "2021-05-30T09:35:12.406028Z",
     "start_time": "2021-05-30T09:34:46.399Z"
    }
   },
   "outputs": [],
   "source": [
    "fig, ax = plt.subplots(figsize=(4.9, 6))\n",
    "ax.set_title('Comparison between Chance level and Naive Bayes (%)', fontsize=13)\n",
    "sns.heatmap(nb_compare, annot=True, fmt=\"f\", linewidth=.5, ax=ax)"
   ]
  },
  {
   "cell_type": "code",
   "execution_count": null,
   "id": "e26aaa6a",
   "metadata": {
    "ExecuteTime": {
     "end_time": "2021-05-30T09:35:12.407030Z",
     "start_time": "2021-05-30T09:34:46.401Z"
    }
   },
   "outputs": [],
   "source": [
    "fig, ax = plt.subplots(figsize=(1, 6))\n",
    "sns.heatmap(pd.DataFrame(paper_df.sum(axis=0)), cbar=False, linewidth=.5,\n",
    "            xticklabels=['# papers'],\n",
    "            yticklabels=False, annot=True, fmt=\"d\", ax=ax)"
   ]
  },
  {
   "cell_type": "code",
   "execution_count": null,
   "id": "1342c43f",
   "metadata": {
    "ExecuteTime": {
     "end_time": "2021-05-30T09:35:12.408029Z",
     "start_time": "2021-05-30T09:34:46.402Z"
    }
   },
   "outputs": [],
   "source": [
    "_nb_dict = pd.DataFrame({k: [v, 'Naive Bayes'] for k, v in nb_dict.items()},\n",
    "                       index=['Accuracy', 'kind']).T\n",
    "_lv_dict = pd.DataFrame({k: [v, 'Chance Level'] for k, v in chance_lv_dict.items()},\n",
    "                       index=['Accuracy', 'kind']).T"
   ]
  },
  {
   "cell_type": "code",
   "execution_count": null,
   "id": "20147c6e",
   "metadata": {
    "ExecuteTime": {
     "end_time": "2021-05-30T09:35:12.409029Z",
     "start_time": "2021-05-30T09:34:46.405Z"
    }
   },
   "outputs": [],
   "source": [
    "_nb_compare = pd.concat([_nb_dict, _lv_dict])"
   ]
  },
  {
   "cell_type": "code",
   "execution_count": null,
   "id": "c992e759",
   "metadata": {
    "ExecuteTime": {
     "end_time": "2021-05-30T09:35:12.410027Z",
     "start_time": "2021-05-30T09:34:46.408Z"
    }
   },
   "outputs": [],
   "source": [
    "fig, ax = plt.subplots(figsize=(10, 7.15))\n",
    "ax.set_title('Comparison between Chance level and Naive Bayes (%)?')\n",
    "ax.set_xticklabels(labels=_nb_compare.index, rotation=60)\n",
    "sns.barplot(x=_nb_compare.index, y='Accuracy', hue='kind', data=_nb_compare, ax=ax)"
   ]
  }
 ],
 "metadata": {
  "kernelspec": {
   "display_name": "Python 3",
   "language": "python",
   "name": "python3"
  },
  "language_info": {
   "codemirror_mode": {
    "name": "ipython",
    "version": 3
   },
   "file_extension": ".py",
   "mimetype": "text/x-python",
   "name": "python",
   "nbconvert_exporter": "python",
   "pygments_lexer": "ipython3",
   "version": "3.9.4"
  },
  "toc": {
   "base_numbering": 1,
   "nav_menu": {},
   "number_sections": false,
   "sideBar": true,
   "skip_h1_title": false,
   "title_cell": "Table of Contents",
   "title_sidebar": "Contents",
   "toc_cell": false,
   "toc_position": {
    "height": "calc(100% - 180px)",
    "left": "10px",
    "top": "150px",
    "width": "189px"
   },
   "toc_section_display": true,
   "toc_window_display": false
  }
 },
 "nbformat": 4,
 "nbformat_minor": 5
}
