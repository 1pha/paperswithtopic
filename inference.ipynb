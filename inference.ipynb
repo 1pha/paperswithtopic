{
 "cells": [
  {
   "cell_type": "code",
   "execution_count": 1,
   "id": "b203e19c",
   "metadata": {
    "ExecuteTime": {
     "end_time": "2021-06-05T08:39:10.093249Z",
     "start_time": "2021-06-05T08:39:06.604974Z"
    }
   },
   "outputs": [
    {
     "name": "stderr",
     "output_type": "stream",
     "text": [
      "C:\\Users\\pha\\anaconda3\\envs\\xai501\\lib\\site-packages\\gensim\\similarities\\__init__.py:15: UserWarning: The gensim.similarities.levenshtein submodule is disabled, because the optional Levenshtein package <https://pypi.org/project/python-Levenshtein/> is unavailable. Install Levenhstein (e.g. `pip install python-Levenshtein`) to suppress this warning.\n",
      "  warnings.warn(msg)\n"
     ]
    }
   ],
   "source": [
    "from paperswithtopic.config import load_config\n",
    "from paperswithtopic.preprocess import Preprocess\n",
    "from paperswithtopic.dataloader import get_dataloader\n",
    "from paperswithtopic.run import run, setup\n",
    "from paperswithtopic.misc import seed_everything, get_today\n",
    "\n",
    "from IPython.display import clear_output"
   ]
  },
  {
   "cell_type": "code",
   "execution_count": 2,
   "id": "d57fd7f6",
   "metadata": {
    "ExecuteTime": {
     "end_time": "2021-06-05T08:39:10.139717Z",
     "start_time": "2021-06-05T08:39:10.101206Z"
    }
   },
   "outputs": [],
   "source": [
    "cfg = load_config()\n",
    "cfg.use_saved = True\n",
    "cfg.pre_embed = False\n",
    "cfg.use_bert_embed = False"
   ]
  },
  {
   "cell_type": "code",
   "execution_count": 3,
   "id": "207a6d10",
   "metadata": {
    "ExecuteTime": {
     "end_time": "2021-06-05T08:39:10.155710Z",
     "start_time": "2021-06-05T08:39:10.140711Z"
    }
   },
   "outputs": [],
   "source": [
    "cfg.PTH_DIR = os.path.join(cfg.PTH_DIR, f'{get_today()}_{cfg.model_name}/')"
   ]
  },
  {
   "cell_type": "code",
   "execution_count": 4,
   "id": "9d9d542a",
   "metadata": {
    "ExecuteTime": {
     "end_time": "2021-06-05T08:39:10.217710Z",
     "start_time": "2021-06-05T08:39:10.191716Z"
    }
   },
   "outputs": [
    {
     "data": {
      "text/plain": [
       "'./models//20210605-1739_bertclassification'"
      ]
     },
     "execution_count": 4,
     "metadata": {},
     "output_type": "execute_result"
    }
   ],
   "source": [
    "cfg.PTH_DIR"
   ]
  },
  {
   "cell_type": "code",
   "execution_count": 3,
   "id": "ba241a3b",
   "metadata": {
    "ExecuteTime": {
     "end_time": "2021-06-05T08:23:12.305653Z",
     "start_time": "2021-06-05T08:23:12.290654Z"
    }
   },
   "outputs": [],
   "source": [
    "preprocess = Preprocess(cfg=cfg)"
   ]
  },
  {
   "cell_type": "code",
   "execution_count": 5,
   "id": "2942e9f9",
   "metadata": {
    "ExecuteTime": {
     "end_time": "2021-06-05T08:24:05.725464Z",
     "start_time": "2021-06-05T08:23:45.706278Z"
    }
   },
   "outputs": [
    {
     "name": "stdout",
     "output_type": "stream",
     "text": [
      "[load_data] 0.1 sec \n",
      "There are 49980 papers.\n",
      "[retrieve_raw_papers] 0.0 sec \n",
      "[remove_unknown] 0.3 sec \n",
      "[build_idx2word] 19.2 sec \n",
      "[tokenize_papers] 0.3 sec \n",
      "[pp_pipeline] 20.0 sec \n"
     ]
    }
   ],
   "source": [
    "X, y = preprocess.pp_pipeline()\n",
    "idx2word = preprocess.idx2word"
   ]
  },
  {
   "cell_type": "code",
   "execution_count": 13,
   "id": "63e90e38",
   "metadata": {
    "ExecuteTime": {
     "end_time": "2021-06-05T08:25:03.388583Z",
     "start_time": "2021-06-05T08:25:03.370546Z"
    }
   },
   "outputs": [],
   "source": [
    "sample_paper = 'Adversarial attacks for computer vision'"
   ]
  },
  {
   "cell_type": "code",
   "execution_count": 5,
   "id": "f2eedbb3",
   "metadata": {
    "ExecuteTime": {
     "end_time": "2021-06-05T08:55:20.591973Z",
     "start_time": "2021-06-05T08:55:20.588607Z"
    }
   },
   "outputs": [],
   "source": [
    "from glob import glob"
   ]
  },
  {
   "cell_type": "code",
   "execution_count": null,
   "id": "426fa45c",
   "metadata": {},
   "outputs": [],
   "source": []
  },
  {
   "cell_type": "code",
   "execution_count": null,
   "id": "a2116aa2",
   "metadata": {},
   "outputs": [],
   "source": [
    "LOAD_DIR = "
   ]
  }
 ],
 "metadata": {
  "kernelspec": {
   "display_name": "Python 3",
   "language": "python",
   "name": "python3"
  },
  "language_info": {
   "codemirror_mode": {
    "name": "ipython",
    "version": 3
   },
   "file_extension": ".py",
   "mimetype": "text/x-python",
   "name": "python",
   "nbconvert_exporter": "python",
   "pygments_lexer": "ipython3",
   "version": "3.9.4"
  },
  "toc": {
   "base_numbering": 1,
   "nav_menu": {},
   "number_sections": true,
   "sideBar": true,
   "skip_h1_title": false,
   "title_cell": "Table of Contents",
   "title_sidebar": "Contents",
   "toc_cell": false,
   "toc_position": {},
   "toc_section_display": true,
   "toc_window_display": false
  }
 },
 "nbformat": 4,
 "nbformat_minor": 5
}
