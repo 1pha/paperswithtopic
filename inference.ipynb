{
 "cells": [
  {
   "cell_type": "code",
   "execution_count": 1,
   "id": "642a87ee",
   "metadata": {
    "ExecuteTime": {
     "end_time": "2021-06-05T08:39:10.093249Z",
     "start_time": "2021-06-05T08:39:06.604974Z"
    }
   },
   "outputs": [
    {
     "name": "stderr",
     "output_type": "stream",
     "text": [
      "C:\\Users\\pha\\anaconda3\\envs\\xai501\\lib\\site-packages\\gensim\\similarities\\__init__.py:15: UserWarning: The gensim.similarities.levenshtein submodule is disabled, because the optional Levenshtein package <https://pypi.org/project/python-Levenshtein/> is unavailable. Install Levenhstein (e.g. `pip install python-Levenshtein`) to suppress this warning.\n",
      "  warnings.warn(msg)\n"
     ]
    }
   ],
   "source": [
    "from paperswithtopic.config import load_config\n",
    "from paperswithtopic.preprocess import Preprocess\n",
    "from paperswithtopic.dataloader import get_dataloader\n",
    "from paperswithtopic.run import run, setup\n",
    "from paperswithtopic.misc import seed_everything, get_today\n",
    "\n",
    "from IPython.display import clear_output"
   ]
  },
  {
   "cell_type": "code",
   "execution_count": 7,
   "id": "33087c53",
   "metadata": {
    "ExecuteTime": {
     "end_time": "2021-06-05T09:15:35.693257Z",
     "start_time": "2021-06-05T09:15:35.672775Z"
    }
   },
   "outputs": [],
   "source": [
    "cfg = load_config()\n",
    "cfg.use_saved = False\n",
    "cfg.pre_embed = True\n",
    "cfg.use_bert_embed = False"
   ]
  },
  {
   "cell_type": "code",
   "execution_count": 3,
   "id": "b6b766b0",
   "metadata": {
    "ExecuteTime": {
     "end_time": "2021-06-05T08:39:10.155710Z",
     "start_time": "2021-06-05T08:39:10.140711Z"
    }
   },
   "outputs": [],
   "source": [
    "cfg.PTH_DIR = os.path.join(cfg.PTH_DIR, f'{get_today()}_{cfg.model_name}/')"
   ]
  },
  {
   "cell_type": "code",
   "execution_count": 4,
   "id": "f4a55eed",
   "metadata": {
    "ExecuteTime": {
     "end_time": "2021-06-05T08:39:10.217710Z",
     "start_time": "2021-06-05T08:39:10.191716Z"
    }
   },
   "outputs": [
    {
     "data": {
      "text/plain": [
       "'./models//20210605-1739_bertclassification'"
      ]
     },
     "execution_count": 4,
     "metadata": {},
     "output_type": "execute_result"
    }
   ],
   "source": [
    "cfg.PTH_DIR"
   ]
  },
  {
   "cell_type": "code",
   "execution_count": 8,
   "id": "0811317d",
   "metadata": {
    "ExecuteTime": {
     "end_time": "2021-06-05T09:15:37.100279Z",
     "start_time": "2021-06-05T09:15:37.087307Z"
    }
   },
   "outputs": [],
   "source": [
    "preprocess = Preprocess(cfg=cfg)"
   ]
  },
  {
   "cell_type": "code",
   "execution_count": 9,
   "id": "e2b92b81",
   "metadata": {
    "ExecuteTime": {
     "end_time": "2021-06-05T09:16:18.352216Z",
     "start_time": "2021-06-05T09:15:37.464826Z"
    }
   },
   "outputs": [
    {
     "name": "stdout",
     "output_type": "stream",
     "text": [
      "[load_data] 0.2 sec \n",
      "There are 49980 papers.\n",
      "[retrieve_raw_papers] 0.0 sec \n",
      "[remove_unknown] 0.3 sec \n",
      "[build_idx2word] 18.4 sec \n",
      "[tokenize_papers] 0.3 sec \n",
      "[train_fasttext] 9.0 sec \n",
      "[embed_paper] 12.7 sec \n",
      "[pp_pipeline] 40.9 sec \n"
     ]
    }
   ],
   "source": [
    "X, y = preprocess.pp_pipeline()\n",
    "idx2word = preprocess.idx2word"
   ]
  },
  {
   "cell_type": "code",
   "execution_count": 10,
   "id": "00f8ea61",
   "metadata": {
    "ExecuteTime": {
     "end_time": "2021-06-05T09:16:22.747716Z",
     "start_time": "2021-06-05T09:16:22.728716Z"
    }
   },
   "outputs": [
    {
     "data": {
      "text/plain": [
       "(49980, 64, 128)"
      ]
     },
     "execution_count": 10,
     "metadata": {},
     "output_type": "execute_result"
    }
   ],
   "source": [
    "X.shape"
   ]
  },
  {
   "cell_type": "code",
   "execution_count": 13,
   "id": "8c68759c",
   "metadata": {
    "ExecuteTime": {
     "end_time": "2021-06-05T08:25:03.388583Z",
     "start_time": "2021-06-05T08:25:03.370546Z"
    }
   },
   "outputs": [],
   "source": [
    "sample_paper = 'Adversarial attacks for computer vision'"
   ]
  },
  {
   "cell_type": "code",
   "execution_count": null,
   "id": "de5bd087",
   "metadata": {},
   "outputs": [],
   "source": []
  },
  {
   "cell_type": "code",
   "execution_count": null,
   "id": "b30c82d8",
   "metadata": {},
   "outputs": [],
   "source": [
    "LOAD_DIR = "
   ]
  }
 ],
 "metadata": {
  "kernelspec": {
   "display_name": "Python 3",
   "language": "python",
   "name": "python3"
  },
  "language_info": {
   "codemirror_mode": {
    "name": "ipython",
    "version": 3
   },
   "file_extension": ".py",
   "mimetype": "text/x-python",
   "name": "python",
   "nbconvert_exporter": "python",
   "pygments_lexer": "ipython3",
   "version": "3.9.4"
  },
  "toc": {
   "base_numbering": 1,
   "nav_menu": {},
   "number_sections": true,
   "sideBar": true,
   "skip_h1_title": false,
   "title_cell": "Table of Contents",
   "title_sidebar": "Contents",
   "toc_cell": false,
   "toc_position": {},
   "toc_section_display": true,
   "toc_window_display": false
  }
 },
 "nbformat": 4,
 "nbformat_minor": 5
}
