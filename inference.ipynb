{
 "cells": [
  {
   "cell_type": "code",
   "execution_count": 11,
   "id": "7fe73260",
   "metadata": {
    "ExecuteTime": {
     "end_time": "2021-06-05T11:43:16.711527Z",
     "start_time": "2021-06-05T11:43:16.699453Z"
    }
   },
   "outputs": [],
   "source": [
    "from paperswithtopic.config import load_config\n",
    "from paperswithtopic.inference import inference, revert2class\n",
    "\n",
    "from IPython.display import clear_output"
   ]
  },
  {
   "cell_type": "code",
   "execution_count": 2,
   "id": "7c8bac80",
   "metadata": {
    "ExecuteTime": {
     "end_time": "2021-06-05T11:42:04.050036Z",
     "start_time": "2021-06-05T11:42:04.021035Z"
    }
   },
   "outputs": [],
   "source": [
    "cfg = load_config()\n",
    "cfg.use_saved = False\n",
    "cfg.pre_embed = False\n",
    "cfg.use_bert_embed = False"
   ]
  },
  {
   "cell_type": "code",
   "execution_count": 31,
   "id": "805e717f",
   "metadata": {
    "ExecuteTime": {
     "end_time": "2021-06-05T11:47:51.584805Z",
     "start_time": "2021-06-05T11:47:51.569636Z"
    }
   },
   "outputs": [],
   "source": [
    "papers = [\n",
    " 'perch 2.0 : fast and accurate gpu-based perception via search for object pose estimation',\n",
    " 'unsupervised cross-modal alignment for multi-person 3d pose estimation',\n",
    " 'appearance consensus driven self-supervised human mesh recovery',\n",
    " 'plg-in: pluggable geometric consistency loss with wasserstein distance in monocular depth estimation',\n",
    " 'caspr: learning canonical spatiotemporal point cloud representations',\n",
    " 'imagenet performance correlates with pose estimation robustness and generalization on out-of-domain data',\n",
    " 'physics-based dexterous manipulations with estimated hand poses and residual reinforcement learning',\n",
    " 'parts-based articulated object localization in clutter using belief propagation',\n",
    " '1-point ransac-based method for ground object pose estimation',\n",
    " 'real-time sign language detection using human pose estimation',\n",
    " 'safe and effective picking paths in clutter given discrete distributions of object poses',\n",
    " 'dggan: depth-image guided generative adversarial networks for disentangling rgb and depth images in 3d hand pose estimation',\n",
    " 'temporal-aware self-supervised learning for 3d hand pose and mesh estimation in videos',\n",
    " 'mvhm: a large-scale multi-view hand mesh benchmark for accurate 3d hand pose estimation',\n",
    " 'efficient human pose estimation with depthwise separable convolution and person centroid guided joint grouping',\n",
    " 'unoc: understanding occlusion for embodied presence in virtual reality',\n",
    " 'multi-person full body pose estimation',\n",
    " 'pam:point-wise attention module for 6d object pose estimation',\n",
    " 'hand-based person identification using global and part-aware deep feature representation learning',\n",
    " 'automatic social distance estimation from images: performance evaluation, test benchmark, and algorithm'\n",
    "]"
   ]
  },
  {
   "cell_type": "code",
   "execution_count": 32,
   "id": "4c6f9e9e",
   "metadata": {
    "ExecuteTime": {
     "end_time": "2021-06-05T11:47:56.542593Z",
     "start_time": "2021-06-05T11:47:56.537593Z"
    }
   },
   "outputs": [
    {
     "data": {
      "text/plain": [
       "array([[0, 0, 0, 1, 0, 0, 0, 0, 0, 0, 0, 0, 1, 0, 0],\n",
       "       [0, 0, 0, 1, 0, 0, 0, 0, 0, 0, 0, 0, 0, 0, 0],\n",
       "       [0, 0, 0, 1, 0, 0, 0, 0, 0, 0, 0, 0, 0, 0, 0],\n",
       "       [0, 0, 0, 1, 0, 0, 0, 0, 0, 0, 0, 0, 0, 0, 0],\n",
       "       [0, 0, 0, 1, 0, 0, 0, 0, 0, 0, 0, 0, 0, 0, 0],\n",
       "       [0, 0, 0, 1, 0, 0, 0, 0, 0, 0, 0, 0, 0, 0, 0],\n",
       "       [0, 0, 0, 1, 0, 0, 0, 0, 0, 0, 0, 0, 0, 0, 0],\n",
       "       [0, 0, 0, 1, 0, 0, 0, 0, 0, 0, 0, 0, 0, 0, 0],\n",
       "       [0, 0, 0, 1, 0, 0, 0, 0, 0, 0, 0, 0, 0, 0, 0],\n",
       "       [0, 0, 0, 1, 0, 0, 0, 0, 0, 0, 0, 0, 0, 0, 0],\n",
       "       [0, 0, 0, 1, 0, 0, 0, 0, 0, 0, 0, 0, 0, 0, 0],\n",
       "       [0, 0, 0, 1, 0, 0, 0, 0, 0, 0, 0, 0, 0, 0, 0],\n",
       "       [0, 0, 0, 1, 0, 0, 0, 0, 0, 0, 0, 0, 0, 0, 0],\n",
       "       [0, 0, 0, 1, 0, 0, 0, 0, 0, 0, 0, 0, 0, 0, 0],\n",
       "       [0, 0, 0, 1, 0, 0, 0, 0, 0, 0, 0, 0, 0, 0, 0],\n",
       "       [0, 0, 0, 1, 0, 0, 0, 0, 0, 0, 0, 0, 0, 0, 0],\n",
       "       [0, 0, 0, 1, 0, 0, 0, 0, 0, 0, 0, 0, 0, 0, 0],\n",
       "       [0, 0, 0, 1, 0, 0, 0, 0, 0, 0, 0, 0, 0, 0, 0],\n",
       "       [0, 0, 0, 1, 0, 0, 0, 0, 0, 0, 0, 0, 0, 0, 0],\n",
       "       [0, 0, 0, 1, 0, 0, 0, 0, 0, 0, 0, 0, 0, 0, 0]], dtype=int8)"
      ]
     },
     "execution_count": 32,
     "metadata": {},
     "output_type": "execute_result"
    }
   ],
   "source": [
    "y[5000:5020]"
   ]
  },
  {
   "cell_type": "code",
   "execution_count": 30,
   "id": "70bc901b",
   "metadata": {
    "ExecuteTime": {
     "end_time": "2021-06-05T11:47:39.955337Z",
     "start_time": "2021-06-05T11:47:39.938415Z"
    }
   },
   "outputs": [
    {
     "data": {
      "text/plain": [
       "['perch 2.0 : fast and accurate gpu-based perception via search for object pose estimation',\n",
       " 'unsupervised cross-modal alignment for multi-person 3d pose estimation',\n",
       " 'appearance consensus driven self-supervised human mesh recovery',\n",
       " 'plg-in: pluggable geometric consistency loss with wasserstein distance in monocular depth estimation',\n",
       " 'caspr: learning canonical spatiotemporal point cloud representations',\n",
       " 'imagenet performance correlates with pose estimation robustness and generalization on out-of-domain data',\n",
       " 'physics-based dexterous manipulations with estimated hand poses and residual reinforcement learning',\n",
       " 'parts-based articulated object localization in clutter using belief propagation',\n",
       " '1-point ransac-based method for ground object pose estimation',\n",
       " 'real-time sign language detection using human pose estimation',\n",
       " 'safe and effective picking paths in clutter given discrete distributions of object poses',\n",
       " 'dggan: depth-image guided generative adversarial networks for disentangling rgb and depth images in 3d hand pose estimation',\n",
       " 'temporal-aware self-supervised learning for 3d hand pose and mesh estimation in videos',\n",
       " 'mvhm: a large-scale multi-view hand mesh benchmark for accurate 3d hand pose estimation',\n",
       " 'efficient human pose estimation with depthwise separable convolution and person centroid guided joint grouping',\n",
       " 'unoc: understanding occlusion for embodied presence in virtual reality',\n",
       " 'multi-person full body pose estimation',\n",
       " 'pam:point-wise attention module for 6d object pose estimation',\n",
       " 'hand-based person identification using global and part-aware deep feature representation learning',\n",
       " 'automatic social distance estimation from images: performance evaluation, test benchmark, and algorithm']"
      ]
     },
     "execution_count": 30,
     "metadata": {},
     "output_type": "execute_result"
    }
   ],
   "source": [
    "preprocess.X_raw[5000:5020]"
   ]
  },
  {
   "cell_type": "code",
   "execution_count": 23,
   "id": "3c8e6ef3",
   "metadata": {
    "ExecuteTime": {
     "end_time": "2021-06-05T11:46:49.616464Z",
     "start_time": "2021-06-05T11:46:49.611434Z"
    }
   },
   "outputs": [
    {
     "data": {
      "text/plain": [
       "array([[1, 0, 0, ..., 0, 0, 0],\n",
       "       [1, 0, 0, ..., 0, 0, 0],\n",
       "       [1, 0, 0, ..., 0, 1, 0],\n",
       "       ...,\n",
       "       [0, 0, 0, ..., 0, 0, 1],\n",
       "       [0, 0, 0, ..., 0, 0, 1],\n",
       "       [0, 0, 0, ..., 0, 0, 1]], dtype=int8)"
      ]
     },
     "execution_count": 23,
     "metadata": {},
     "output_type": "execute_result"
    }
   ],
   "source": [
    "y"
   ]
  },
  {
   "cell_type": "code",
   "execution_count": 25,
   "id": "8ec056e5",
   "metadata": {
    "ExecuteTime": {
     "end_time": "2021-06-05T11:47:00.226093Z",
     "start_time": "2021-06-05T11:47:00.219579Z"
    }
   },
   "outputs": [],
   "source": [
    "cfg.model_name = 'albertclassification'\n",
    "model_path = './models/20210605-2023_albertclassification/albertclassification_EP8_VALAUC89.pth'"
   ]
  },
  {
   "cell_type": "code",
   "execution_count": 26,
   "id": "3a447be6",
   "metadata": {
    "ExecuteTime": {
     "end_time": "2021-06-05T11:47:00.428941Z",
     "start_time": "2021-06-05T11:47:00.418943Z"
    }
   },
   "outputs": [],
   "source": [
    "cfg.vocab_size = 30562"
   ]
  },
  {
   "cell_type": "code",
   "execution_count": 33,
   "id": "aff8880c",
   "metadata": {
    "ExecuteTime": {
     "end_time": "2021-06-05T11:48:06.960153Z",
     "start_time": "2021-06-05T11:48:03.691172Z"
    }
   },
   "outputs": [
    {
     "name": "stdout",
     "output_type": "stream",
     "text": [
      "Use cuda:0 as a device.\n",
      "Load Albertclassification as model.\n",
      "[remove_unknown] 0.0 sec \n",
      "[tokenize_papers] 0.0 sec \n",
      "[build_mask] 0.0 sec \n",
      "[build_mask] 0.0 sec \n",
      "[build_mask] 0.0 sec \n",
      "[build_mask] 0.0 sec \n",
      "[build_mask] 0.0 sec \n",
      "[build_mask] 0.0 sec \n",
      "[build_mask] 0.0 sec \n",
      "[build_mask] 0.0 sec \n",
      "[build_mask] 0.0 sec \n",
      "[build_mask] 0.0 sec \n",
      "[build_mask] 0.0 sec \n",
      "[build_mask] 0.0 sec \n",
      "[build_mask] 0.0 sec \n",
      "[build_mask] 0.0 sec \n",
      "[build_mask] 0.0 sec \n",
      "[build_mask] 0.0 sec \n",
      "[build_mask] 0.0 sec \n",
      "[build_mask] 0.0 sec \n",
      "[build_mask] 0.0 sec \n",
      "[build_mask] 0.0 sec \n",
      "[preprocess_infer] 2.8 sec \n",
      "[inference] 3.3 sec \n"
     ]
    },
    {
     "data": {
      "text/plain": [
       "array([[9.59664024e-03, 6.63050031e-03, 1.28576905e-03, 7.65483141e-01,\n",
       "        6.44951267e-03, 1.18603930e-03, 1.58683043e-02, 3.74572538e-02,\n",
       "        1.50513358e-03, 7.79866148e-03, 2.29225904e-02, 3.94904055e-02,\n",
       "        5.47515638e-02, 1.68817006e-02, 1.26928454e-02],\n",
       "       [2.84632610e-04, 2.49196636e-03, 1.67317851e-03, 2.74282992e-02,\n",
       "        9.68290493e-03, 1.50955829e-03, 1.80748701e-02, 1.15753328e-02,\n",
       "        7.86595454e-04, 4.19255719e-03, 1.63242093e-03, 3.38644274e-02,\n",
       "        1.37665058e-02, 1.96346752e-02, 8.53402078e-01],\n",
       "       [5.21988422e-03, 6.18660590e-03, 3.53821437e-03, 4.24811304e-01,\n",
       "        8.09906796e-03, 1.06242020e-03, 6.22010184e-03, 7.83722699e-02,\n",
       "        8.38335080e-04, 4.84088343e-03, 1.08027667e-01, 8.09116289e-02,\n",
       "        2.45801672e-01, 9.27977357e-03, 1.67902280e-02],\n",
       "       [1.18624186e-03, 1.48105994e-03, 5.99773775e-04, 8.74617100e-01,\n",
       "        1.01688621e-03, 6.65659099e-05, 6.82563172e-04, 1.07968291e-02,\n",
       "        1.23711026e-04, 6.68758235e-04, 4.14200453e-03, 7.40573462e-03,\n",
       "        8.69397447e-02, 6.68981485e-03, 3.58327338e-03],\n",
       "       [8.51114932e-03, 1.24299228e-02, 5.90747129e-03, 4.04946893e-01,\n",
       "        2.37079617e-02, 2.37050699e-03, 7.17734024e-02, 1.16032302e-01,\n",
       "        2.30301009e-03, 1.28313815e-02, 1.87561065e-02, 5.82989380e-02,\n",
       "        6.04277886e-02, 6.38899580e-02, 1.37813240e-01],\n",
       "       [8.11662823e-02, 8.91807675e-03, 1.89130139e-02, 1.03267424e-01,\n",
       "        3.32475938e-02, 1.14035010e-02, 7.86585957e-02, 2.42697552e-01,\n",
       "        2.68882117e-03, 4.94523160e-02, 7.47502893e-02, 1.72805294e-01,\n",
       "        2.09686961e-02, 4.29034382e-02, 5.81591241e-02],\n",
       "       [1.73129572e-03, 9.35047807e-04, 3.97303002e-03, 9.59121063e-03,\n",
       "        4.85072332e-03, 3.55504034e-03, 2.11842707e-03, 2.44163834e-02,\n",
       "        2.63841561e-04, 6.91883592e-03, 6.48661077e-01, 2.49474362e-01,\n",
       "        3.24607939e-02, 1.29809161e-03, 9.75184888e-03],\n",
       "       [5.54513140e-03, 5.10049192e-03, 9.73778719e-04, 8.19896936e-01,\n",
       "        4.67869407e-03, 6.42614730e-04, 9.86388512e-03, 2.89958045e-02,\n",
       "        1.06224290e-03, 3.88705870e-03, 1.78637970e-02, 2.95932479e-02,\n",
       "        4.65021655e-02, 1.21462140e-02, 1.32479258e-02],\n",
       "       [1.90710323e-03, 3.77499172e-03, 2.90134805e-03, 3.23948324e-01,\n",
       "        3.76733113e-03, 6.23609172e-04, 2.59038247e-03, 3.25371400e-02,\n",
       "        3.63820174e-04, 2.52746046e-03, 8.11186582e-02, 5.04091680e-02,\n",
       "        4.78783190e-01, 4.99688927e-03, 9.75065399e-03],\n",
       "       [5.21014398e-03, 1.16614467e-02, 2.31916318e-03, 6.29645169e-01,\n",
       "        1.44276135e-02, 1.63610664e-03, 5.77029809e-02, 4.85586673e-02,\n",
       "        2.73395702e-03, 7.90810026e-03, 1.42358989e-02, 4.16799411e-02,\n",
       "        4.41949591e-02, 3.91513258e-02, 7.89345652e-02],\n",
       "       [3.90053052e-03, 5.37293847e-04, 2.75317933e-02, 1.12788685e-01,\n",
       "        3.57115537e-01, 1.21494438e-02, 1.12678269e-02, 1.04401626e-01,\n",
       "        6.11806972e-05, 4.25946852e-03, 1.91670693e-02, 6.09944165e-02,\n",
       "        1.22006491e-01, 7.68315932e-03, 1.56135455e-01],\n",
       "       [1.38921186e-01, 3.06229629e-02, 6.33939030e-03, 1.08973145e-01,\n",
       "        3.66927944e-02, 1.04826028e-02, 2.77120233e-01, 8.53262395e-02,\n",
       "        1.24286097e-02, 4.69470061e-02, 1.41240284e-02, 4.41848412e-02,\n",
       "        1.23703806e-02, 1.02710195e-01, 7.27564022e-02],\n",
       "       [2.33043381e-03, 2.39038165e-03, 4.74766828e-04, 9.04116273e-01,\n",
       "        1.61561184e-03, 1.32936388e-04, 1.90158642e-03, 1.29743926e-02,\n",
       "        2.56398780e-04, 1.08061126e-03, 9.24443919e-03, 1.20392349e-02,\n",
       "        4.03245613e-02, 6.63444260e-03, 4.48384089e-03],\n",
       "       [4.11978271e-03, 1.65383760e-02, 2.41986723e-04, 9.14182067e-01,\n",
       "        8.58573825e-04, 1.76681322e-04, 2.50459835e-03, 1.02518667e-02,\n",
       "        1.27718190e-03, 1.13983732e-03, 3.50588700e-03, 4.92661493e-03,\n",
       "        1.61621608e-02, 1.79382060e-02, 6.17621001e-03],\n",
       "       [7.04833493e-03, 6.77848607e-03, 9.41598322e-04, 7.79444516e-01,\n",
       "        6.53379038e-03, 1.25123421e-03, 1.70899052e-02, 2.72323992e-02,\n",
       "        2.18427554e-03, 6.80840062e-03, 2.80246064e-02, 4.13669571e-02,\n",
       "        4.98989336e-02, 1.43883703e-02, 1.10082049e-02],\n",
       "       [3.64249456e-03, 1.83779728e-02, 4.31139283e-02, 1.46891046e-02,\n",
       "        3.66654508e-02, 2.76632104e-02, 2.40881070e-02, 3.74382026e-02,\n",
       "        2.92937625e-02, 2.88417786e-01, 7.43615068e-03, 1.78067833e-01,\n",
       "        1.81998238e-02, 1.35021895e-01, 1.37884304e-01],\n",
       "       [4.44689183e-04, 1.91898737e-03, 3.04919784e-03, 8.57675448e-02,\n",
       "        1.02149649e-02, 7.57533358e-04, 1.07168462e-02, 6.30812049e-02,\n",
       "        3.84278363e-04, 3.11186817e-03, 8.34413897e-03, 5.01228608e-02,\n",
       "        1.11292996e-01, 1.66256204e-02, 6.34167254e-01],\n",
       "       [3.42647475e-03, 1.85453077e-03, 4.27071820e-04, 9.31257904e-01,\n",
       "        9.20113875e-04, 9.00417072e-05, 1.21123460e-03, 1.37696369e-02,\n",
       "        1.65292673e-04, 7.31132866e-04, 4.30173567e-03, 6.47208793e-03,\n",
       "        2.54505761e-02, 7.12919887e-03, 2.79306760e-03],\n",
       "       [5.21993674e-02, 2.61635743e-02, 2.58671492e-03, 2.87218869e-01,\n",
       "        2.34137718e-02, 9.02528130e-03, 3.01677197e-01, 6.83671236e-02,\n",
       "        1.06583769e-02, 2.76046675e-02, 1.56985912e-02, 5.56218103e-02,\n",
       "        2.08506472e-02, 5.35434708e-02, 4.53705415e-02],\n",
       "       [1.88093316e-02, 1.32323802e-02, 3.70586775e-02, 6.92388266e-02,\n",
       "        5.21020666e-02, 3.83681767e-02, 8.24407861e-02, 8.36361349e-02,\n",
       "        6.37267344e-03, 1.08267069e-01, 5.11950478e-02, 2.41034776e-01,\n",
       "        2.57675666e-02, 5.65605350e-02, 1.15915932e-01]], dtype=float32)"
      ]
     },
     "execution_count": 33,
     "metadata": {},
     "output_type": "execute_result"
    }
   ],
   "source": [
    "inference(cfg, papers, model_path)"
   ]
  },
  {
   "cell_type": "code",
   "execution_count": 34,
   "id": "bedc6a40",
   "metadata": {
    "ExecuteTime": {
     "end_time": "2021-06-05T11:48:06.975763Z",
     "start_time": "2021-06-05T11:48:06.961154Z"
    }
   },
   "outputs": [],
   "source": [
    "preds = _"
   ]
  },
  {
   "cell_type": "code",
   "execution_count": 35,
   "id": "63e2f821",
   "metadata": {
    "ExecuteTime": {
     "end_time": "2021-06-05T11:48:07.007762Z",
     "start_time": "2021-06-05T11:48:06.979763Z"
    }
   },
   "outputs": [
    {
     "data": {
      "text/plain": [
       "([['computer-vision', 'robots', 'reasoning'],\n",
       "  ['time-series', 'reasoning', 'computer-vision'],\n",
       "  ['computer-vision', 'robots', 'playing-games'],\n",
       "  ['computer-vision', 'robots', 'miscellaneous'],\n",
       "  ['computer-vision', 'time-series', 'miscellaneous'],\n",
       "  ['miscellaneous', 'reasoning', 'computer-vision'],\n",
       "  ['playing-games', 'reasoning', 'robots'],\n",
       "  ['computer-vision', 'robots', 'reasoning'],\n",
       "  ['robots', 'computer-vision', 'playing-games'],\n",
       "  ['computer-vision', 'time-series', 'medical'],\n",
       "  ['graphs', 'time-series', 'robots'],\n",
       "  ['medical', 'adversarial', 'computer-vision'],\n",
       "  ['computer-vision', 'robots', 'miscellaneous'],\n",
       "  ['computer-vision', 'speech', 'audio'],\n",
       "  ['computer-vision', 'robots', 'reasoning'],\n",
       "  ['natural-language-processing', 'reasoning', 'time-series'],\n",
       "  ['time-series', 'robots', 'computer-vision'],\n",
       "  ['computer-vision', 'robots', 'miscellaneous'],\n",
       "  ['medical', 'computer-vision', 'miscellaneous'],\n",
       "  ['reasoning', 'time-series', 'natural-language-processing']],\n",
       " [[0.7654831409454346, 0.05475156381726265, 0.03949040547013283],\n",
       "  [0.8534020781517029, 0.033864427357912064, 0.02742829918861389],\n",
       "  [0.42481130361557007, 0.2458016723394394, 0.10802766680717468],\n",
       "  [0.8746170997619629, 0.0869397446513176, 0.010796829126775265],\n",
       "  [0.404946893453598, 0.1378132402896881, 0.11603230237960815],\n",
       "  [0.2426975518465042, 0.1728052943944931, 0.10326742380857468],\n",
       "  [0.6486610770225525, 0.24947436153888702, 0.03246079385280609],\n",
       "  [0.819896936416626, 0.046502165496349335, 0.029593247920274734],\n",
       "  [0.47878319025039673, 0.32394832372665405, 0.08111865818500519],\n",
       "  [0.6296451687812805, 0.07893456518650055, 0.05770298093557358],\n",
       "  [0.3571155369281769, 0.1561354547739029, 0.12200649082660675],\n",
       "  [0.2771202325820923, 0.13892118632793427, 0.10897314548492432],\n",
       "  [0.9041162729263306, 0.040324561297893524, 0.012974392622709274],\n",
       "  [0.9141820669174194, 0.01793820597231388, 0.016538375988602638],\n",
       "  [0.7794445157051086, 0.04989893361926079, 0.04136695712804794],\n",
       "  [0.288417786359787, 0.17806783318519592, 0.13788430392742157],\n",
       "  [0.6341672539710999, 0.1112929955124855, 0.08576754480600357],\n",
       "  [0.9312579035758972, 0.025450576096773148, 0.013769636861979961],\n",
       "  [0.3016771972179413, 0.2872188687324524, 0.0683671236038208],\n",
       "  [0.24103477597236633, 0.1159159317612648, 0.10826706886291504]])"
      ]
     },
     "execution_count": 35,
     "metadata": {},
     "output_type": "execute_result"
    }
   ],
   "source": [
    "revert2class(preds, cfg)"
   ]
  },
  {
   "cell_type": "code",
   "execution_count": null,
   "id": "e6584622",
   "metadata": {},
   "outputs": [],
   "source": []
  }
 ],
 "metadata": {
  "kernelspec": {
   "display_name": "Python 3",
   "language": "python",
   "name": "python3"
  },
  "language_info": {
   "codemirror_mode": {
    "name": "ipython",
    "version": 3
   },
   "file_extension": ".py",
   "mimetype": "text/x-python",
   "name": "python",
   "nbconvert_exporter": "python",
   "pygments_lexer": "ipython3",
   "version": "3.9.4"
  },
  "toc": {
   "base_numbering": 1,
   "nav_menu": {},
   "number_sections": true,
   "sideBar": true,
   "skip_h1_title": false,
   "title_cell": "Table of Contents",
   "title_sidebar": "Contents",
   "toc_cell": false,
   "toc_position": {},
   "toc_section_display": true,
   "toc_window_display": false
  }
 },
 "nbformat": 4,
 "nbformat_minor": 5
}
