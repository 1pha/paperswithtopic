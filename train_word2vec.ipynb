{
 "cells": [
  {
   "cell_type": "markdown",
   "id": "9ddecef3",
   "metadata": {},
   "source": [
    "# Train"
   ]
  },
  {
   "cell_type": "code",
   "execution_count": 1,
   "id": "37623820",
   "metadata": {
    "ExecuteTime": {
     "end_time": "2021-07-02T07:15:07.569026Z",
     "start_time": "2021-07-02T07:15:04.063504Z"
    }
   },
   "outputs": [],
   "source": [
    "import wandb\n",
    "from paperswithtopic.config import load_config\n",
    "from paperswithtopic.run import run"
   ]
  },
  {
   "cell_type": "code",
   "execution_count": 2,
   "id": "c73a92ef",
   "metadata": {
    "ExecuteTime": {
     "end_time": "2021-07-01T05:05:10.767873Z",
     "start_time": "2021-07-01T05:05:10.736873Z"
    }
   },
   "outputs": [],
   "source": [
    "cfg = load_config()\n",
    "cfg.use_saved = False\n",
    "cfg.pre_embed = 'word2vec'\n",
    "cfg.embed_dim = 512\n",
    "cfg.hidden_dim = 512\n",
    "cfg.use_bert_embed = False\n",
    "\n",
    "cfg.model_name = 'albert'"
   ]
  },
  {
   "cell_type": "code",
   "execution_count": 3,
   "id": "0435010b",
   "metadata": {
    "ExecuteTime": {
     "end_time": "2021-07-01T05:05:18.522725Z",
     "start_time": "2021-07-01T05:05:10.769874Z"
    }
   },
   "outputs": [
    {
     "name": "stderr",
     "output_type": "stream",
     "text": [
      "wandb: Currently logged in as: 1pha (use `wandb login --relogin` to force relogin)\n",
      "wandb: wandb version 0.10.33 is available!  To upgrade, please run:\n",
      "wandb:  $ pip install wandb --upgrade\n"
     ]
    },
    {
     "data": {
      "text/html": [
       "\n",
       "                Tracking run with wandb version 0.10.32<br/>\n",
       "                Syncing run <strong style=\"color:#cdcd00\">embeddim_512_albert_Test</strong> to <a href=\"https://wandb.ai\" target=\"_blank\">Weights & Biases</a> <a href=\"https://docs.wandb.com/integrations/jupyter.html\" target=\"_blank\">(Documentation)</a>.<br/>\n",
       "                Project page: <a href=\"https://wandb.ai/1pha/paperswithtopic\" target=\"_blank\">https://wandb.ai/1pha/paperswithtopic</a><br/>\n",
       "                Run page: <a href=\"https://wandb.ai/1pha/paperswithtopic/runs/1dzywygn\" target=\"_blank\">https://wandb.ai/1pha/paperswithtopic/runs/1dzywygn</a><br/>\n",
       "                Run data is saved locally in <code>G:\\My Drive\\projects\\paperswithcode_nlp\\wandb\\run-20210701_140511-1dzywygn</code><br/><br/>\n",
       "            "
      ],
      "text/plain": [
       "<IPython.core.display.HTML object>"
      ]
     },
     "metadata": {},
     "output_type": "display_data"
    },
    {
     "data": {
      "text/html": [
       "<h1>Run(1dzywygn)</h1><iframe src=\"https://wandb.ai/1pha/paperswithtopic/runs/1dzywygn\" style=\"border:none;width:100%;height:400px\"></iframe>"
      ],
      "text/plain": [
       "<wandb.sdk.wandb_run.Run at 0x19a291237c0>"
      ]
     },
     "execution_count": 3,
     "metadata": {},
     "output_type": "execute_result"
    }
   ],
   "source": [
    "wandb.login()\n",
    "wandb.init(project='paperswithtopic', name='embeddim_512_albert_Test', tags=['word2vec-512'])"
   ]
  },
  {
   "cell_type": "code",
   "execution_count": null,
   "id": "467e4860",
   "metadata": {
    "ExecuteTime": {
     "end_time": "2021-07-01T05:40:39.081250Z",
     "start_time": "2021-07-01T05:05:18.524728Z"
    }
   },
   "outputs": [],
   "source": [
    "run(cfg)"
   ]
  },
  {
   "cell_type": "markdown",
   "id": "d6a463ab",
   "metadata": {},
   "source": [
    "# Hyperparameter grid search with wandb.sweep"
   ]
  },
  {
   "cell_type": "code",
   "execution_count": 6,
   "id": "1f544a5f",
   "metadata": {
    "ExecuteTime": {
     "end_time": "2021-07-01T11:11:51.428388Z",
     "start_time": "2021-07-01T11:11:50.908319Z"
    }
   },
   "outputs": [
    {
     "name": "stdout",
     "output_type": "stream",
     "text": [
      "Create sweep with ID: gcoriitu\n",
      "Sweep URL: https://wandb.ai/1pha/paperswithtopic/sweeps/gcoriitu\n"
     ]
    }
   ],
   "source": [
    "sweep_config = {\n",
    "    'name': 'word2vec-rnn',\n",
    "    'method': 'grid',\n",
    "    'metric': {\n",
    "        'name': 'valid_auc',\n",
    "        'goal': 'maximize',\n",
    "    },\n",
    "    'parameters': {\n",
    "        'model_name': {\n",
    "            'values': [\n",
    "                'rnn',\n",
    "                'lstm\n",
    "                'gru',\n",
    "\n",
    "                'bert',\n",
    "                'albert',\n",
    "                'electra,\n",
    "\n",
    "                'bertclassification',\n",
    "                'albertclassification',\n",
    "                'electraclassification',\n",
    "            ]\n",
    "        },\n",
    "        'embed_dim': {\n",
    "            'values': [256, 512]\n",
    "        }\n",
    "    }\n",
    "}\n",
    "\n",
    "sweep_id = wandb.sweep(sweep_config, project='paperswithtopic')"
   ]
  },
  {
   "cell_type": "code",
   "execution_count": 7,
   "id": "400851c2",
   "metadata": {
    "ExecuteTime": {
     "end_time": "2021-07-01T11:11:52.857330Z",
     "start_time": "2021-07-01T11:11:52.834243Z"
    }
   },
   "outputs": [],
   "source": [
    "from IPython.display import clear_output\n",
    "def run_sweep():\n",
    "    \n",
    "    with wandb.init(tags=['word2vec-rnn']):\n",
    "        \n",
    "        cfg = load_config()\n",
    "        \n",
    "        _cfg = wandb.config\n",
    "        __cfg = dict(); __cfg.update(_cfg); cfg.update(__cfg)\n",
    "        \n",
    "        cfg.use_saved = False\n",
    "        cfg.pre_embed = 'word2vec'\n",
    "        cfg.hidden_dim = cfg.embed_dim\n",
    "        cfg.use_bert_embed = False\n",
    "        \n",
    "        name = f'SWEEP_MD{cfg.model_name}_NL{cfg.n_layers}_EM{cfg.embed_dim}'\n",
    "        \n",
    "        wandb.run.name = name\n",
    "        wandb.config.update(cfg)\n",
    "        \n",
    "        run(cfg)\n",
    "        \n",
    "        clear_output()"
   ]
  },
  {
   "cell_type": "code",
   "execution_count": 8,
   "id": "0ca10843",
   "metadata": {
    "ExecuteTime": {
     "end_time": "2021-07-01T13:55:13.432421Z",
     "start_time": "2021-07-01T11:11:53.145357Z"
    },
    "scrolled": true
   },
   "outputs": [
    {
     "name": "stderr",
     "output_type": "stream",
     "text": [
      "wandb: Sweep Agent: Waiting for job.\n",
      "wandb: Sweep Agent: Exiting.\n"
     ]
    }
   ],
   "source": [
    "wandb.agent(sweep_id, function=run_sweep)"
   ]
  },
  {
   "cell_type": "code",
   "execution_count": null,
   "id": "7a24bab0",
   "metadata": {},
   "outputs": [],
   "source": [
    "sweep_config = {\n",
    "    'name': 'fasttext- ',\n",
    "    'method': 'grid',\n",
    "    'metric': {\n",
    "        'name': 'valid_auc',\n",
    "        'goal': 'maximize',\n",
    "    },\n",
    "    'parameters': {\n",
    "        'embed_dim': {\n",
    "            'values': [\n",
    "                256, 512\n",
    "            ]\n",
    "        },\n",
    "        \n",
    "    }\n",
    "}\n",
    "\n",
    "sweep_id = wandb.sweep(sweep_config, project='paperswithtopic')"
   ]
  },
  {
   "cell_type": "code",
   "execution_count": null,
   "id": "8a00aeae",
   "metadata": {},
   "outputs": [],
   "source": [
    "from IPython.display import clear_output\n",
    "def run_sweep():\n",
    "    \n",
    "    with wandb.init(tags=['fasttext-512']):\n",
    "        \n",
    "        cfg = load_config()\n",
    "        \n",
    "        _cfg = wandb.config\n",
    "        __cfg = dict(); __cfg.update(_cfg); cfg.update(__cfg)\n",
    "        \n",
    "        cfg.use_saved = False\n",
    "        cfg.pre_embed = 'fasttext'\n",
    "        cfg.embed_dim = 512\n",
    "        cfg.hidden_dim = 512\n",
    "        cfg.use_bert_embed = False\n",
    "        \n",
    "        name = f'SWEEP_PRE{cfg.model_name}'\n",
    "        \n",
    "        wandb.run.name = name\n",
    "        wandb.config.update(cfg)\n",
    "        \n",
    "        run(cfg)\n",
    "        \n",
    "        clear_output()"
   ]
  },
  {
   "cell_type": "code",
   "execution_count": null,
   "id": "679f90fe",
   "metadata": {},
   "outputs": [],
   "source": [
    "wandb.agent(sweep_id, function=run_sweep)"
   ]
  },
  {
   "cell_type": "code",
   "execution_count": 2,
   "id": "c36cfb9c",
   "metadata": {
    "ExecuteTime": {
     "end_time": "2021-07-02T07:15:11.644243Z",
     "start_time": "2021-07-02T07:15:10.752236Z"
    }
   },
   "outputs": [
    {
     "name": "stdout",
     "output_type": "stream",
     "text": [
      "Create sweep with ID: rrdpg0x3\n",
      "Sweep URL: https://wandb.ai/1pha/paperswithtopic/sweeps/rrdpg0x3\n"
     ]
    }
   ],
   "source": [
    "sweep_config = {\n",
    "    'name': 'word2vec-256',\n",
    "    'method': 'grid',\n",
    "    'metric': {\n",
    "        'name': 'valid_auc',\n",
    "        'goal': 'maximize',\n",
    "    },\n",
    "    'parameters': {\n",
    "        'model_name': {\n",
    "            'values': [\n",
    "#                 'rnn',\n",
    "#                 'lstm',\n",
    "#                 'gru',\n",
    "\n",
    "#                 'bert',\n",
    "                'albert',\n",
    "#                 'electra',\n",
    "\n",
    "#                 'bertclassification',\n",
    "                'albertclassification',\n",
    "                'electraclassification',\n",
    "            ]\n",
    "        },\n",
    "        \n",
    "    }\n",
    "}\n",
    "\n",
    "sweep_id = wandb.sweep(sweep_config, project='paperswithtopic')"
   ]
  },
  {
   "cell_type": "code",
   "execution_count": 3,
   "id": "59806394",
   "metadata": {
    "ExecuteTime": {
     "end_time": "2021-07-02T07:15:11.659753Z",
     "start_time": "2021-07-02T07:15:11.646217Z"
    }
   },
   "outputs": [],
   "source": [
    "def run_sweep():\n",
    "    \n",
    "    with wandb.init(tags=['word2vec-256']):\n",
    "        \n",
    "        cfg = load_config()\n",
    "        \n",
    "        _cfg = wandb.config\n",
    "        __cfg = dict(); __cfg.update(_cfg); cfg.update(__cfg)\n",
    "        \n",
    "        cfg.use_saved = False\n",
    "        cfg.pre_embed = 'word2vec'\n",
    "        cfg.embed_dim = 256\n",
    "        cfg.hidden_dim = 256\n",
    "        cfg.use_bert_embed = False\n",
    "        \n",
    "        name = f'SWEEP_PRE{cfg.model_name}'\n",
    "        \n",
    "        wandb.run.name = name\n",
    "        wandb.config.update(cfg)\n",
    "        \n",
    "        run(cfg)\n",
    "        \n",
    "        clear_output()"
   ]
  },
  {
   "cell_type": "code",
   "execution_count": 4,
   "id": "2a178f51",
   "metadata": {
    "ExecuteTime": {
     "end_time": "2021-07-02T11:11:36.909249Z",
     "start_time": "2021-07-02T07:15:11.661739Z"
    }
   },
   "outputs": [
    {
     "name": "stderr",
     "output_type": "stream",
     "text": [
      "wandb: Agent Starting Run: tiz0emz7 with config:\n",
      "wandb: \tmodel_name: albert\n",
      "wandb: Currently logged in as: 1pha (use `wandb login --relogin` to force relogin)\n",
      "wandb: wandb version 0.10.33 is available!  To upgrade, please run:\n",
      "wandb:  $ pip install wandb --upgrade\n"
     ]
    },
    {
     "data": {
      "text/html": [
       "\n",
       "                Tracking run with wandb version 0.10.32<br/>\n",
       "                Syncing run <strong style=\"color:#cdcd00\">wild-sweep-1</strong> to <a href=\"https://wandb.ai\" target=\"_blank\">Weights & Biases</a> <a href=\"https://docs.wandb.com/integrations/jupyter.html\" target=\"_blank\">(Documentation)</a>.<br/>\n",
       "                Project page: <a href=\"https://wandb.ai/1pha/paperswithtopic\" target=\"_blank\">https://wandb.ai/1pha/paperswithtopic</a><br/>\n",
       "                Sweep page: <a href=\"https://wandb.ai/1pha/paperswithtopic/sweeps/rrdpg0x3\" target=\"_blank\">https://wandb.ai/1pha/paperswithtopic/sweeps/rrdpg0x3</a><br/>\n",
       "Run page: <a href=\"https://wandb.ai/1pha/paperswithtopic/runs/tiz0emz7\" target=\"_blank\">https://wandb.ai/1pha/paperswithtopic/runs/tiz0emz7</a><br/>\n",
       "                Run data is saved locally in <code>G:\\My Drive\\projects\\paperswithcode_nlp\\wandb\\run-20210702_161512-tiz0emz7</code><br/><br/>\n",
       "            "
      ],
      "text/plain": [
       "<IPython.core.display.HTML object>"
      ]
     },
     "metadata": {},
     "output_type": "display_data"
    },
    {
     "name": "stderr",
     "output_type": "stream",
     "text": [
      "wandb: WARNING Config item 'model_name' was locked by 'sweep' (ignored update).\n"
     ]
    },
    {
     "name": "stdout",
     "output_type": "stream",
     "text": [
      "Preprocess from zero-base.\n",
      "[load_data] 0.2 sec \n",
      "There are 49980 papers.\n",
      "[retrieve_raw_papers] 0.0 sec \n",
      "[remove_unknown] 0.3 sec \n",
      "[build_idx2word] 20.2 sec \n",
      "Use word2vec as embedding\n",
      "[train_embed] 2.1 sec \n",
      "[embed_gensim] 11.7 sec \n",
      "[pp_pipeline] 34.6 sec \n",
      "NUM TRAIN 44982 | NUM VALID 4998\n",
      "Use cuda:0 as a device.\n",
      "Load Albert as model.\n",
      "Epoch 1 / 100, BEST AUC 0.000\n",
      "[train] 143.0 sec [valid] 5.3 sec \n",
      "TRAIN:: AUC 0.562 | LOSS 0.210\n",
      "VALID:: AUC 0.616 | LOSS 0.195\n",
      "saving model ...\n",
      "Epoch 2 / 100, BEST AUC 0.616\n",
      "[train] 143.0 sec [valid] 5.4 sec \n",
      "TRAIN:: AUC 0.631 | LOSS 0.192\n",
      "VALID:: AUC 0.628 | LOSS 0.188\n",
      "saving model ...\n",
      "Epoch 3 / 100, BEST AUC 0.628\n",
      "[train] 145.7 sec [valid] 5.4 sec \n",
      "TRAIN:: AUC 0.631 | LOSS 0.191\n",
      "VALID:: AUC 0.624 | LOSS 0.190\n",
      "saving model ...\n",
      "Epoch 4 / 100, BEST AUC 0.628\n",
      "[train] 143.3 sec [valid] 5.4 sec \n",
      "TRAIN:: AUC 0.639 | LOSS 0.191\n",
      "VALID:: AUC 0.645 | LOSS 0.187\n",
      "saving model ...\n",
      "Epoch 5 / 100, BEST AUC 0.645\n",
      "[train] 155.6 sec [valid] 5.9 sec \n",
      "TRAIN:: AUC 0.638 | LOSS 0.190\n",
      "VALID:: AUC 0.635 | LOSS 0.186\n",
      "saving model ...\n",
      "Epoch 6 / 100, BEST AUC 0.645\n",
      "[train] 149.7 sec [valid] 5.6 sec \n",
      "TRAIN:: AUC 0.650 | LOSS 0.188\n",
      "VALID:: AUC 0.663 | LOSS 0.184\n",
      "saving model ...\n",
      "Epoch 7 / 100, BEST AUC 0.663\n",
      "[train] 148.8 sec [valid] 5.6 sec \n",
      "TRAIN:: AUC 0.656 | LOSS 0.188\n",
      "VALID:: AUC 0.660 | LOSS 0.185\n",
      "saving model ...\n",
      "Epoch 8 / 100, BEST AUC 0.663\n",
      "[train] 151.0 sec [valid] 5.7 sec \n",
      "TRAIN:: AUC 0.665 | LOSS 0.187\n",
      "VALID:: AUC 0.672 | LOSS 0.183\n",
      "saving model ...\n",
      "Epoch 9 / 100, BEST AUC 0.672\n",
      "[train] 149.9 sec [valid] 5.6 sec \n",
      "TRAIN:: AUC 0.658 | LOSS 0.187\n",
      "VALID:: AUC 0.657 | LOSS 0.185\n",
      "saving model ...\n",
      "Epoch 10 / 100, BEST AUC 0.672\n",
      "[train] 152.0 sec [valid] 5.5 sec \n",
      "TRAIN:: AUC 0.661 | LOSS 0.186\n",
      "VALID:: AUC 0.645 | LOSS 0.186\n",
      "saving model ...\n",
      "Epoch 11 / 100, BEST AUC 0.672\n",
      "[train] 149.3 sec [valid] 5.7 sec \n",
      "TRAIN:: AUC 0.657 | LOSS 0.188\n",
      "VALID:: AUC 0.646 | LOSS 0.186\n",
      "saving model ...\n",
      "Epoch 12 / 100, BEST AUC 0.672\n",
      "[train] 148.0 sec [valid] 5.4 sec \n",
      "TRAIN:: AUC 0.652 | LOSS 0.185\n",
      "VALID:: AUC 0.677 | LOSS 0.168\n",
      "saving model ...\n",
      "Epoch 13 / 100, BEST AUC 0.677\n",
      "[train] 150.3 sec [valid] 5.7 sec \n",
      "TRAIN:: AUC 0.693 | LOSS 0.170\n",
      "VALID:: AUC 0.698 | LOSS 0.165\n",
      "saving model ...\n",
      "Epoch 14 / 100, BEST AUC 0.698\n",
      "[train] 149.1 sec [valid] 5.8 sec \n",
      "TRAIN:: AUC 0.710 | LOSS 0.167\n",
      "VALID:: AUC 0.719 | LOSS 0.164\n",
      "saving model ...\n",
      "Epoch 15 / 100, BEST AUC 0.719\n",
      "[train] 148.5 sec [valid] 5.5 sec \n",
      "TRAIN:: AUC 0.708 | LOSS 0.167\n",
      "VALID:: AUC 0.714 | LOSS 0.163\n",
      "saving model ...\n",
      "Epoch 16 / 100, BEST AUC 0.719\n",
      "[train] 148.7 sec [valid] 5.4 sec \n",
      "TRAIN:: AUC 0.715 | LOSS 0.166\n",
      "VALID:: AUC 0.725 | LOSS 0.162\n",
      "saving model ...\n",
      "Epoch 17 / 100, BEST AUC 0.725\n",
      "[train] 147.2 sec [valid] 5.5 sec \n",
      "TRAIN:: AUC 0.721 | LOSS 0.165\n",
      "VALID:: AUC 0.719 | LOSS 0.164\n",
      "saving model ...\n",
      "Epoch 18 / 100, BEST AUC 0.725\n",
      "[train] 146.4 sec [valid] 5.5 sec \n",
      "TRAIN:: AUC 0.692 | LOSS 0.171\n",
      "VALID:: AUC 0.691 | LOSS 0.169\n",
      "saving model ...\n",
      "Epoch 19 / 100, BEST AUC 0.725\n",
      "[train] 150.7 sec [valid] 5.6 sec \n",
      "TRAIN:: AUC 0.698 | LOSS 0.171\n",
      "VALID:: AUC 0.713 | LOSS 0.167\n",
      "saving model ...\n",
      "Epoch 20 / 100, BEST AUC 0.725\n",
      "[train] 148.3 sec [valid] 5.6 sec \n",
      "TRAIN:: AUC 0.703 | LOSS 0.170\n",
      "VALID:: AUC 0.718 | LOSS 0.165\n",
      "saving model ...\n",
      "Epoch 21 / 100, BEST AUC 0.725\n",
      "[train] 148.4 sec [valid] 5.6 sec \n",
      "TRAIN:: AUC 0.710 | LOSS 0.170\n",
      "VALID:: AUC 0.710 | LOSS 0.166\n",
      "saving model ...\n",
      "Epoch 22 / 100, BEST AUC 0.725\n",
      "[train] 148.1 sec [valid] 5.6 sec \n",
      "TRAIN:: AUC 0.707 | LOSS 0.170\n",
      "VALID:: AUC 0.709 | LOSS 0.169\n",
      "saving model ...\n",
      "Epoch 23 / 100, BEST AUC 0.725\n",
      "[train] 148.3 sec [valid] 5.6 sec \n",
      "TRAIN:: AUC 0.680 | LOSS 0.175\n",
      "VALID:: AUC 0.693 | LOSS 0.173\n",
      "saving model ...\n",
      "Epoch 24 / 100, BEST AUC 0.725\n",
      "[train] 148.2 sec [valid] 5.5 sec \n",
      "TRAIN:: AUC 0.681 | LOSS 0.176\n",
      "VALID:: AUC 0.675 | LOSS 0.175\n",
      "saving model ...\n",
      "Epoch 25 / 100, BEST AUC 0.725\n",
      "[train] 148.3 sec [valid] 5.6 sec \n",
      "TRAIN:: AUC 0.670 | LOSS 0.177\n",
      "VALID:: AUC 0.705 | LOSS 0.170\n",
      "saving model ...\n",
      "Epoch 26 / 100, BEST AUC 0.725\n",
      "[train] 148.4 sec [valid] 5.6 sec \n",
      "TRAIN:: AUC 0.688 | LOSS 0.174\n",
      "VALID:: AUC 0.690 | LOSS 0.173\n",
      "saving model ...\n"
     ]
    },
    {
     "name": "stderr",
     "output_type": "stream",
     "text": [
      "wandb: WARNING Config item 'model_name' was locked by 'sweep' (ignored update).\n"
     ]
    },
    {
     "name": "stdout",
     "output_type": "stream",
     "text": [
      "EarlyStopping counter: 10 out of 10\n"
     ]
    },
    {
     "data": {
      "text/html": [
       "<br/>Waiting for W&B process to finish, PID 5880<br/>Program ended successfully."
      ],
      "text/plain": [
       "<IPython.core.display.HTML object>"
      ]
     },
     "metadata": {},
     "output_type": "display_data"
    },
    {
     "data": {
      "application/vnd.jupyter.widget-view+json": {
       "model_id": "",
       "version_major": 2,
       "version_minor": 0
      },
      "text/plain": [
       "VBox(children=(Label(value=' 0.00MB of 0.00MB uploaded (0.00MB deduped)\\r'), FloatProgress(value=1.0, max=1.0)…"
      ]
     },
     "metadata": {},
     "output_type": "display_data"
    },
    {
     "data": {
      "text/html": [
       "Find user logs for this run at: <code>G:\\My Drive\\projects\\paperswithcode_nlp\\wandb\\run-20210702_161512-tiz0emz7\\logs\\debug.log</code>"
      ],
      "text/plain": [
       "<IPython.core.display.HTML object>"
      ]
     },
     "metadata": {},
     "output_type": "display_data"
    },
    {
     "data": {
      "text/html": [
       "Find internal logs for this run at: <code>G:\\My Drive\\projects\\paperswithcode_nlp\\wandb\\run-20210702_161512-tiz0emz7\\logs\\debug-internal.log</code>"
      ],
      "text/plain": [
       "<IPython.core.display.HTML object>"
      ]
     },
     "metadata": {},
     "output_type": "display_data"
    },
    {
     "data": {
      "text/html": [
       "<h3>Run summary:</h3><br/><style>\n",
       "    table.wandb td:nth-child(1) { padding: 0 10px; text-align: right }\n",
       "    </style><table class=\"wandb\">\n",
       "<tr><td>train_auc</td><td>0.68781</td></tr><tr><td>valid_auc</td><td>0.69024</td></tr><tr><td>train_loss</td><td>0.17444</td></tr><tr><td>valid_loss</td><td>0.17252</td></tr><tr><td>_runtime</td><td>4062</td></tr><tr><td>_timestamp</td><td>1625214174</td></tr><tr><td>_step</td><td>25</td></tr></table>"
      ],
      "text/plain": [
       "<IPython.core.display.HTML object>"
      ]
     },
     "metadata": {},
     "output_type": "display_data"
    },
    {
     "data": {
      "text/html": [
       "<h3>Run history:</h3><br/><style>\n",
       "    table.wandb td:nth-child(1) { padding: 0 10px; text-align: right }\n",
       "    </style><table class=\"wandb\">\n",
       "<tr><td>train_auc</td><td>▁▄▄▄▄▅▅▅▅▅▅▅▇█▇██▇▇▇▇▇▆▆▆▇</td></tr><tr><td>valid_auc</td><td>▁▂▁▃▂▄▄▅▄▃▃▅▆█▇██▆▇█▇▇▆▅▇▆</td></tr><tr><td>train_loss</td><td>█▅▅▅▅▅▅▄▅▄▅▄▂▁▁▁▁▂▂▂▂▂▃▃▃▂</td></tr><tr><td>valid_loss</td><td>█▇▇▆▆▆▆▆▆▆▆▂▂▁▁▁▂▂▂▂▂▃▃▄▃▃</td></tr><tr><td>_runtime</td><td>▁▁▂▂▂▂▃▃▃▄▄▄▄▅▅▅▅▆▆▆▇▇▇▇██</td></tr><tr><td>_timestamp</td><td>▁▁▂▂▂▂▃▃▃▄▄▄▄▅▅▅▅▆▆▆▇▇▇▇██</td></tr><tr><td>_step</td><td>▁▁▂▂▂▂▃▃▃▄▄▄▄▅▅▅▅▆▆▆▇▇▇▇██</td></tr></table><br/>"
      ],
      "text/plain": [
       "<IPython.core.display.HTML object>"
      ]
     },
     "metadata": {},
     "output_type": "display_data"
    },
    {
     "data": {
      "text/html": [
       "Synced 6 W&B file(s), 0 media file(s), 0 artifact file(s) and 0 other file(s)"
      ],
      "text/plain": [
       "<IPython.core.display.HTML object>"
      ]
     },
     "metadata": {},
     "output_type": "display_data"
    },
    {
     "data": {
      "text/html": [
       "\n",
       "                    <br/>Synced <strong style=\"color:#cdcd00\">wild-sweep-1</strong>: <a href=\"https://wandb.ai/1pha/paperswithtopic/runs/tiz0emz7\" target=\"_blank\">https://wandb.ai/1pha/paperswithtopic/runs/tiz0emz7</a><br/>\n",
       "                "
      ],
      "text/plain": [
       "<IPython.core.display.HTML object>"
      ]
     },
     "metadata": {},
     "output_type": "display_data"
    },
    {
     "name": "stderr",
     "output_type": "stream",
     "text": [
      "Run tiz0emz7 errored: NameError(\"name 'clear_output' is not defined\")\n",
      "wandb: ERROR Run tiz0emz7 errored: NameError(\"name 'clear_output' is not defined\")\n",
      "wandb: Agent Starting Run: xp3aiok7 with config:\n",
      "wandb: \tmodel_name: albertclassification\n",
      "wandb: wandb version 0.10.33 is available!  To upgrade, please run:\n",
      "wandb:  $ pip install wandb --upgrade\n"
     ]
    },
    {
     "data": {
      "text/html": [
       "\n",
       "                Tracking run with wandb version 0.10.32<br/>\n",
       "                Syncing run <strong style=\"color:#cdcd00\">dry-sweep-2</strong> to <a href=\"https://wandb.ai\" target=\"_blank\">Weights & Biases</a> <a href=\"https://docs.wandb.com/integrations/jupyter.html\" target=\"_blank\">(Documentation)</a>.<br/>\n",
       "                Project page: <a href=\"https://wandb.ai/1pha/paperswithtopic\" target=\"_blank\">https://wandb.ai/1pha/paperswithtopic</a><br/>\n",
       "                Sweep page: <a href=\"https://wandb.ai/1pha/paperswithtopic/sweeps/rrdpg0x3\" target=\"_blank\">https://wandb.ai/1pha/paperswithtopic/sweeps/rrdpg0x3</a><br/>\n",
       "Run page: <a href=\"https://wandb.ai/1pha/paperswithtopic/runs/xp3aiok7\" target=\"_blank\">https://wandb.ai/1pha/paperswithtopic/runs/xp3aiok7</a><br/>\n",
       "                Run data is saved locally in <code>G:\\My Drive\\projects\\paperswithcode_nlp\\wandb\\run-20210702_172259-xp3aiok7</code><br/><br/>\n",
       "            "
      ],
      "text/plain": [
       "<IPython.core.display.HTML object>"
      ]
     },
     "metadata": {},
     "output_type": "display_data"
    },
    {
     "name": "stderr",
     "output_type": "stream",
     "text": [
      "wandb: WARNING Config item 'model_name' was locked by 'sweep' (ignored update).\n"
     ]
    },
    {
     "name": "stdout",
     "output_type": "stream",
     "text": [
      "Preprocess from zero-base.\n",
      "[load_data] 0.2 sec \n",
      "There are 49980 papers.\n",
      "[retrieve_raw_papers] 0.0 sec \n",
      "[remove_unknown] 0.3 sec \n",
      "[build_idx2word] 23.1 sec \n",
      "Use word2vec as embedding\n",
      "[train_embed] 2.3 sec \n",
      "[embed_gensim] 12.7 sec \n",
      "[pp_pipeline] 38.7 sec \n",
      "NUM TRAIN 44982 | NUM VALID 4998\n",
      "Use cuda:0 as a device.\n",
      "Load Albertclassification as model.\n",
      "Epoch 1 / 100, BEST AUC 0.000\n",
      "[train] 154.4 sec [valid] 6.3 sec \n",
      "TRAIN:: AUC 0.763 | LOSS 0.169\n",
      "VALID:: AUC 0.835 | LOSS 0.149\n",
      "saving model ...\n",
      "Epoch 2 / 100, BEST AUC 0.835\n",
      "[train] 152.2 sec [valid] 6.1 sec \n",
      "TRAIN:: AUC 0.836 | LOSS 0.148\n",
      "VALID:: AUC 0.857 | LOSS 0.141\n",
      "saving model ...\n",
      "Epoch 3 / 100, BEST AUC 0.857\n",
      "[train] 150.7 sec [valid] 6.1 sec \n",
      "TRAIN:: AUC 0.854 | LOSS 0.142\n",
      "VALID:: AUC 0.868 | LOSS 0.136\n",
      "saving model ...\n",
      "Epoch 4 / 100, BEST AUC 0.868\n",
      "[train] 150.4 sec [valid] 6.1 sec \n",
      "TRAIN:: AUC 0.855 | LOSS 0.141\n",
      "VALID:: AUC 0.863 | LOSS 0.136\n",
      "saving model ...\n",
      "Epoch 5 / 100, BEST AUC 0.868\n",
      "[train] 149.9 sec [valid] 5.9 sec \n",
      "TRAIN:: AUC 0.862 | LOSS 0.139\n",
      "VALID:: AUC 0.870 | LOSS 0.135\n",
      "saving model ...\n",
      "Epoch 6 / 100, BEST AUC 0.870\n",
      "[train] 149.5 sec [valid] 6.1 sec \n",
      "TRAIN:: AUC 0.864 | LOSS 0.137\n",
      "VALID:: AUC 0.875 | LOSS 0.133\n",
      "saving model ...\n",
      "Epoch 7 / 100, BEST AUC 0.875\n",
      "[train] 154.2 sec [valid] 6.1 sec \n",
      "TRAIN:: AUC 0.868 | LOSS 0.136\n",
      "VALID:: AUC 0.874 | LOSS 0.132\n",
      "saving model ...\n",
      "Epoch 8 / 100, BEST AUC 0.875\n",
      "[train] 153.7 sec [valid] 6.0 sec \n",
      "TRAIN:: AUC 0.872 | LOSS 0.134\n",
      "VALID:: AUC 0.880 | LOSS 0.133\n",
      "saving model ...\n",
      "Epoch 9 / 100, BEST AUC 0.880\n",
      "[train] 153.0 sec [valid] 5.8 sec \n",
      "TRAIN:: AUC 0.876 | LOSS 0.133\n",
      "VALID:: AUC 0.887 | LOSS 0.127\n",
      "saving model ...\n",
      "Epoch 10 / 100, BEST AUC 0.887\n",
      "[train] 149.3 sec [valid] 6.0 sec \n",
      "TRAIN:: AUC 0.877 | LOSS 0.132\n",
      "VALID:: AUC 0.885 | LOSS 0.128\n",
      "saving model ...\n",
      "Epoch 11 / 100, BEST AUC 0.887\n",
      "[train] 150.4 sec [valid] 5.8 sec \n",
      "TRAIN:: AUC 0.880 | LOSS 0.130\n",
      "VALID:: AUC 0.883 | LOSS 0.129\n",
      "saving model ...\n",
      "Epoch 12 / 100, BEST AUC 0.887\n",
      "[train] 150.2 sec [valid] 5.8 sec \n",
      "TRAIN:: AUC 0.882 | LOSS 0.130\n",
      "VALID:: AUC 0.887 | LOSS 0.126\n",
      "saving model ...\n",
      "Epoch 13 / 100, BEST AUC 0.887\n",
      "[train] 149.6 sec [valid] 5.8 sec \n",
      "TRAIN:: AUC 0.883 | LOSS 0.129\n",
      "VALID:: AUC 0.884 | LOSS 0.127\n",
      "saving model ...\n",
      "Epoch 14 / 100, BEST AUC 0.887\n",
      "[train] 148.4 sec [valid] 5.9 sec \n",
      "TRAIN:: AUC 0.883 | LOSS 0.129\n",
      "VALID:: AUC 0.886 | LOSS 0.127\n",
      "saving model ...\n",
      "Epoch 15 / 100, BEST AUC 0.887\n",
      "[train] 148.7 sec [valid] 5.7 sec \n",
      "TRAIN:: AUC 0.882 | LOSS 0.130\n",
      "VALID:: AUC 0.891 | LOSS 0.125\n",
      "saving model ...\n",
      "Epoch 16 / 100, BEST AUC 0.891\n",
      "[train] 148.0 sec [valid] 5.6 sec \n",
      "TRAIN:: AUC 0.882 | LOSS 0.129\n",
      "VALID:: AUC 0.891 | LOSS 0.125\n",
      "saving model ...\n",
      "Epoch 17 / 100, BEST AUC 0.891\n",
      "[train] 149.0 sec [valid] 5.5 sec \n",
      "TRAIN:: AUC 0.884 | LOSS 0.129\n",
      "VALID:: AUC 0.886 | LOSS 0.127\n",
      "saving model ...\n",
      "Epoch 18 / 100, BEST AUC 0.891\n",
      "[train] 150.0 sec [valid] 5.7 sec \n",
      "TRAIN:: AUC 0.882 | LOSS 0.130\n",
      "VALID:: AUC 0.889 | LOSS 0.126\n",
      "saving model ...\n",
      "Epoch 19 / 100, BEST AUC 0.891\n",
      "[train] 148.9 sec [valid] 5.6 sec \n",
      "TRAIN:: AUC 0.887 | LOSS 0.128\n",
      "VALID:: AUC 0.887 | LOSS 0.127\n",
      "saving model ...\n",
      "Epoch 20 / 100, BEST AUC 0.891\n",
      "[train] 147.8 sec [valid] 5.5 sec \n",
      "TRAIN:: AUC 0.886 | LOSS 0.128\n",
      "VALID:: AUC 0.886 | LOSS 0.126\n",
      "saving model ...\n",
      "Epoch 21 / 100, BEST AUC 0.891\n",
      "[train] 148.5 sec [valid] 5.5 sec \n",
      "TRAIN:: AUC 0.888 | LOSS 0.127\n",
      "VALID:: AUC 0.892 | LOSS 0.124\n",
      "saving model ...\n",
      "Epoch 22 / 100, BEST AUC 0.892\n",
      "[train] 149.2 sec [valid] 5.7 sec \n",
      "TRAIN:: AUC 0.892 | LOSS 0.125\n",
      "VALID:: AUC 0.894 | LOSS 0.123\n",
      "saving model ...\n",
      "Epoch 23 / 100, BEST AUC 0.894\n",
      "[train] 147.7 sec [valid] 5.5 sec \n",
      "TRAIN:: AUC 0.890 | LOSS 0.126\n",
      "VALID:: AUC 0.893 | LOSS 0.124\n",
      "saving model ...\n",
      "Epoch 24 / 100, BEST AUC 0.894\n",
      "[train] 148.2 sec [valid] 5.6 sec \n",
      "TRAIN:: AUC 0.888 | LOSS 0.127\n",
      "VALID:: AUC 0.895 | LOSS 0.124\n",
      "saving model ...\n",
      "Epoch 25 / 100, BEST AUC 0.895\n",
      "[train] 147.5 sec [valid] 5.6 sec \n",
      "TRAIN:: AUC 0.893 | LOSS 0.126\n",
      "VALID:: AUC 0.896 | LOSS 0.122\n",
      "saving model ...\n",
      "Epoch 26 / 100, BEST AUC 0.896\n",
      "[train] 146.2 sec [valid] 5.6 sec \n",
      "TRAIN:: AUC 0.892 | LOSS 0.125\n",
      "VALID:: AUC 0.893 | LOSS 0.125\n",
      "saving model ...\n",
      "Epoch 27 / 100, BEST AUC 0.896\n",
      "[train] 146.9 sec [valid] 5.6 sec \n",
      "TRAIN:: AUC 0.894 | LOSS 0.125\n",
      "VALID:: AUC 0.886 | LOSS 0.127\n",
      "saving model ...\n",
      "Epoch 28 / 100, BEST AUC 0.896\n",
      "[train] 147.4 sec [valid] 5.5 sec \n",
      "TRAIN:: AUC 0.888 | LOSS 0.128\n",
      "VALID:: AUC 0.891 | LOSS 0.125\n",
      "saving model ...\n",
      "Epoch 29 / 100, BEST AUC 0.896\n",
      "[train] 147.8 sec [valid] 5.5 sec \n",
      "TRAIN:: AUC 0.893 | LOSS 0.125\n",
      "VALID:: AUC 0.895 | LOSS 0.122\n",
      "saving model ...\n",
      "Epoch 30 / 100, BEST AUC 0.896\n",
      "[train] 150.4 sec [valid] 5.8 sec \n",
      "TRAIN:: AUC 0.897 | LOSS 0.124\n",
      "VALID:: AUC 0.897 | LOSS 0.123\n",
      "saving model ...\n",
      "Epoch 31 / 100, BEST AUC 0.897\n",
      "[train] 148.6 sec [valid] 5.6 sec \n",
      "TRAIN:: AUC 0.899 | LOSS 0.122\n",
      "VALID:: AUC 0.898 | LOSS 0.122\n",
      "saving model ...\n",
      "Epoch 32 / 100, BEST AUC 0.898\n",
      "[train] 151.5 sec [valid] 5.6 sec \n",
      "TRAIN:: AUC 0.901 | LOSS 0.122\n",
      "VALID:: AUC 0.900 | LOSS 0.121\n",
      "saving model ...\n",
      "Epoch 33 / 100, BEST AUC 0.900\n",
      "[train] 155.1 sec [valid] 5.5 sec \n",
      "TRAIN:: AUC 0.902 | LOSS 0.121\n",
      "VALID:: AUC 0.897 | LOSS 0.121\n",
      "saving model ...\n",
      "Epoch 34 / 100, BEST AUC 0.900\n",
      "[train] 164.9 sec [valid] 5.6 sec \n",
      "TRAIN:: AUC 0.902 | LOSS 0.121\n",
      "VALID:: AUC 0.897 | LOSS 0.121\n",
      "saving model ...\n",
      "Epoch 35 / 100, BEST AUC 0.900\n",
      "[train] 149.1 sec [valid] 5.5 sec \n",
      "TRAIN:: AUC 0.903 | LOSS 0.120\n",
      "VALID:: AUC 0.899 | LOSS 0.121\n",
      "saving model ...\n",
      "Epoch 36 / 100, BEST AUC 0.900\n",
      "[train] 148.3 sec [valid] 5.5 sec \n",
      "TRAIN:: AUC 0.898 | LOSS 0.123\n",
      "VALID:: AUC 0.902 | LOSS 0.119\n",
      "saving model ...\n",
      "Epoch 37 / 100, BEST AUC 0.902\n",
      "[train] 149.1 sec [valid] 5.4 sec \n",
      "TRAIN:: AUC 0.904 | LOSS 0.120\n",
      "VALID:: AUC 0.897 | LOSS 0.122\n",
      "saving model ...\n",
      "Epoch 38 / 100, BEST AUC 0.902\n",
      "[train] 148.5 sec [valid] 5.5 sec \n",
      "TRAIN:: AUC 0.903 | LOSS 0.121\n",
      "VALID:: AUC 0.896 | LOSS 0.122\n",
      "saving model ...\n",
      "Epoch 39 / 100, BEST AUC 0.902\n",
      "[train] 148.3 sec [valid] 5.6 sec \n",
      "TRAIN:: AUC 0.907 | LOSS 0.119\n",
      "VALID:: AUC 0.900 | LOSS 0.121\n",
      "saving model ...\n",
      "Epoch 40 / 100, BEST AUC 0.902\n",
      "[train] 146.8 sec [valid] 5.4 sec \n",
      "TRAIN:: AUC 0.907 | LOSS 0.119\n",
      "VALID:: AUC 0.901 | LOSS 0.121\n",
      "saving model ...\n",
      "Epoch 41 / 100, BEST AUC 0.902\n",
      "[train] 147.0 sec [valid] 5.6 sec \n",
      "TRAIN:: AUC 0.908 | LOSS 0.118\n",
      "VALID:: AUC 0.902 | LOSS 0.120\n",
      "saving model ...\n",
      "Epoch 42 / 100, BEST AUC 0.902\n",
      "[train] 150.8 sec [valid] 5.5 sec \n",
      "TRAIN:: AUC 0.909 | LOSS 0.118\n",
      "VALID:: AUC 0.900 | LOSS 0.120\n",
      "saving model ...\n",
      "Epoch 43 / 100, BEST AUC 0.902\n",
      "[train] 156.0 sec [valid] 5.9 sec \n",
      "TRAIN:: AUC 0.913 | LOSS 0.116\n",
      "VALID:: AUC 0.901 | LOSS 0.119\n",
      "saving model ...\n",
      "Epoch 44 / 100, BEST AUC 0.902\n",
      "[train] 161.7 sec [valid] 5.5 sec \n",
      "TRAIN:: AUC 0.914 | LOSS 0.116\n",
      "VALID:: AUC 0.902 | LOSS 0.118\n",
      "saving model ...\n",
      "Epoch 45 / 100, BEST AUC 0.902\n",
      "[train] 150.3 sec [valid] 6.1 sec \n",
      "TRAIN:: AUC 0.916 | LOSS 0.115\n",
      "VALID:: AUC 0.903 | LOSS 0.120\n",
      "saving model ...\n",
      "Epoch 46 / 100, BEST AUC 0.903\n",
      "[train] 149.7 sec [valid] 5.4 sec \n",
      "TRAIN:: AUC 0.913 | LOSS 0.117\n",
      "VALID:: AUC 0.898 | LOSS 0.120\n",
      "saving model ...\n",
      "Epoch 47 / 100, BEST AUC 0.903\n",
      "[train] 148.8 sec [valid] 5.6 sec \n",
      "TRAIN:: AUC 0.915 | LOSS 0.116\n",
      "VALID:: AUC 0.900 | LOSS 0.118\n",
      "saving model ...\n",
      "Epoch 48 / 100, BEST AUC 0.903\n",
      "[train] 148.6 sec [valid] 5.5 sec \n",
      "TRAIN:: AUC 0.914 | LOSS 0.116\n",
      "VALID:: AUC 0.895 | LOSS 0.123\n",
      "saving model ...\n",
      "Epoch 49 / 100, BEST AUC 0.903\n",
      "[train] 149.4 sec [valid] 6.2 sec \n",
      "TRAIN:: AUC 0.917 | LOSS 0.115\n",
      "VALID:: AUC 0.899 | LOSS 0.121\n",
      "saving model ...\n",
      "Epoch 50 / 100, BEST AUC 0.903\n",
      "[train] 155.7 sec [valid] 5.6 sec \n",
      "TRAIN:: AUC 0.918 | LOSS 0.114\n",
      "VALID:: AUC 0.898 | LOSS 0.120\n",
      "saving model ...\n",
      "Epoch 51 / 100, BEST AUC 0.903\n",
      "[train] 149.7 sec [valid] 5.7 sec \n",
      "TRAIN:: AUC 0.918 | LOSS 0.114\n",
      "VALID:: AUC 0.896 | LOSS 0.122\n",
      "saving model ...\n",
      "Epoch 52 / 100, BEST AUC 0.903\n",
      "[train] 150.0 sec [valid] 5.6 sec \n",
      "TRAIN:: AUC 0.921 | LOSS 0.113\n",
      "VALID:: AUC 0.896 | LOSS 0.122\n",
      "saving model ...\n",
      "Epoch 53 / 100, BEST AUC 0.903\n",
      "[train] 148.3 sec [valid] 5.6 sec \n",
      "TRAIN:: AUC 0.921 | LOSS 0.113\n",
      "VALID:: AUC 0.897 | LOSS 0.121\n",
      "saving model ...\n",
      "Epoch 54 / 100, BEST AUC 0.903\n",
      "[train] 149.1 sec [valid] 5.5 sec \n",
      "TRAIN:: AUC 0.924 | LOSS 0.112\n",
      "VALID:: AUC 0.897 | LOSS 0.121\n",
      "saving model ...\n",
      "Epoch 55 / 100, BEST AUC 0.903\n"
     ]
    },
    {
     "name": "stdout",
     "output_type": "stream",
     "text": [
      "[train] 151.9 sec [valid] 5.6 sec \n",
      "TRAIN:: AUC 0.925 | LOSS 0.111\n",
      "VALID:: AUC 0.899 | LOSS 0.122\n",
      "saving model ...\n"
     ]
    },
    {
     "name": "stderr",
     "output_type": "stream",
     "text": [
      "wandb: WARNING Config item 'model_name' was locked by 'sweep' (ignored update).\n"
     ]
    },
    {
     "name": "stdout",
     "output_type": "stream",
     "text": [
      "EarlyStopping counter: 10 out of 10\n"
     ]
    },
    {
     "data": {
      "text/html": [
       "<br/>Waiting for W&B process to finish, PID 19760<br/>Program ended successfully."
      ],
      "text/plain": [
       "<IPython.core.display.HTML object>"
      ]
     },
     "metadata": {},
     "output_type": "display_data"
    },
    {
     "data": {
      "application/vnd.jupyter.widget-view+json": {
       "model_id": "",
       "version_major": 2,
       "version_minor": 0
      },
      "text/plain": [
       "VBox(children=(Label(value=' 0.00MB of 0.00MB uploaded (0.00MB deduped)\\r'), FloatProgress(value=1.0, max=1.0)…"
      ]
     },
     "metadata": {},
     "output_type": "display_data"
    },
    {
     "data": {
      "text/html": [
       "Find user logs for this run at: <code>G:\\My Drive\\projects\\paperswithcode_nlp\\wandb\\run-20210702_172259-xp3aiok7\\logs\\debug.log</code>"
      ],
      "text/plain": [
       "<IPython.core.display.HTML object>"
      ]
     },
     "metadata": {},
     "output_type": "display_data"
    },
    {
     "data": {
      "text/html": [
       "Find internal logs for this run at: <code>G:\\My Drive\\projects\\paperswithcode_nlp\\wandb\\run-20210702_172259-xp3aiok7\\logs\\debug-internal.log</code>"
      ],
      "text/plain": [
       "<IPython.core.display.HTML object>"
      ]
     },
     "metadata": {},
     "output_type": "display_data"
    },
    {
     "data": {
      "text/html": [
       "<h3>Run summary:</h3><br/><style>\n",
       "    table.wandb td:nth-child(1) { padding: 0 10px; text-align: right }\n",
       "    </style><table class=\"wandb\">\n",
       "<tr><td>train_auc</td><td>0.92508</td></tr><tr><td>valid_auc</td><td>0.8987</td></tr><tr><td>train_loss</td><td>0.11085</td></tr><tr><td>valid_loss</td><td>0.1219</td></tr><tr><td>_runtime</td><td>8654</td></tr><tr><td>_timestamp</td><td>1625222834</td></tr><tr><td>_step</td><td>54</td></tr></table>"
      ],
      "text/plain": [
       "<IPython.core.display.HTML object>"
      ]
     },
     "metadata": {},
     "output_type": "display_data"
    },
    {
     "data": {
      "text/html": [
       "<h3>Run history:</h3><br/><style>\n",
       "    table.wandb td:nth-child(1) { padding: 0 10px; text-align: right }\n",
       "    </style><table class=\"wandb\">\n",
       "<tr><td>train_auc</td><td>▁▄▅▅▅▆▆▆▆▆▆▆▆▆▆▆▆▆▇▇▆▇▇▇▇▇▇▇▇▇▇▇█▇██████</td></tr><tr><td>valid_auc</td><td>▁▃▄▅▅▅▆▆▆▆▆▇▆▆▆▇▇▇▇▆▇▇██▇█▇▇█████▇▇█▇▇▇█</td></tr><tr><td>train_loss</td><td>█▅▅▄▄▄▄▄▃▃▃▃▃▃▃▃▃▃▃▃▃▃▂▂▂▂▂▂▂▂▂▂▁▂▂▂▁▁▁▁</td></tr><tr><td>valid_loss</td><td>█▆▅▅▄▄▃▃▂▃▃▂▃▃▃▂▂▂▂▃▂▂▂▁▁▁▂▂▁▁▁▁▁▁▂▁▁▂▁▂</td></tr><tr><td>_runtime</td><td>▁▁▁▂▂▂▂▂▂▃▃▃▃▃▃▄▄▄▄▄▄▅▅▅▅▅▆▆▆▆▆▆▇▇▇▇▇███</td></tr><tr><td>_timestamp</td><td>▁▁▁▂▂▂▂▂▂▃▃▃▃▃▃▄▄▄▄▄▄▅▅▅▅▅▆▆▆▆▆▆▇▇▇▇▇███</td></tr><tr><td>_step</td><td>▁▁▁▂▂▂▂▂▂▃▃▃▃▃▃▄▄▄▄▄▅▅▅▅▅▅▆▆▆▆▆▆▇▇▇▇▇███</td></tr></table><br/>"
      ],
      "text/plain": [
       "<IPython.core.display.HTML object>"
      ]
     },
     "metadata": {},
     "output_type": "display_data"
    },
    {
     "data": {
      "text/html": [
       "Synced 6 W&B file(s), 0 media file(s), 0 artifact file(s) and 0 other file(s)"
      ],
      "text/plain": [
       "<IPython.core.display.HTML object>"
      ]
     },
     "metadata": {},
     "output_type": "display_data"
    },
    {
     "data": {
      "text/html": [
       "\n",
       "                    <br/>Synced <strong style=\"color:#cdcd00\">dry-sweep-2</strong>: <a href=\"https://wandb.ai/1pha/paperswithtopic/runs/xp3aiok7\" target=\"_blank\">https://wandb.ai/1pha/paperswithtopic/runs/xp3aiok7</a><br/>\n",
       "                "
      ],
      "text/plain": [
       "<IPython.core.display.HTML object>"
      ]
     },
     "metadata": {},
     "output_type": "display_data"
    },
    {
     "name": "stderr",
     "output_type": "stream",
     "text": [
      "Run xp3aiok7 errored: NameError(\"name 'clear_output' is not defined\")\n",
      "wandb: ERROR Run xp3aiok7 errored: NameError(\"name 'clear_output' is not defined\")\n",
      "wandb: Agent Starting Run: tcff6f5i with config:\n",
      "wandb: \tmodel_name: electraclassification\n",
      "wandb: wandb version 0.10.33 is available!  To upgrade, please run:\n",
      "wandb:  $ pip install wandb --upgrade\n"
     ]
    },
    {
     "data": {
      "text/html": [
       "\n",
       "                Tracking run with wandb version 0.10.32<br/>\n",
       "                Syncing run <strong style=\"color:#cdcd00\">autumn-sweep-3</strong> to <a href=\"https://wandb.ai\" target=\"_blank\">Weights & Biases</a> <a href=\"https://docs.wandb.com/integrations/jupyter.html\" target=\"_blank\">(Documentation)</a>.<br/>\n",
       "                Project page: <a href=\"https://wandb.ai/1pha/paperswithtopic\" target=\"_blank\">https://wandb.ai/1pha/paperswithtopic</a><br/>\n",
       "                Sweep page: <a href=\"https://wandb.ai/1pha/paperswithtopic/sweeps/rrdpg0x3\" target=\"_blank\">https://wandb.ai/1pha/paperswithtopic/sweeps/rrdpg0x3</a><br/>\n",
       "Run page: <a href=\"https://wandb.ai/1pha/paperswithtopic/runs/tcff6f5i\" target=\"_blank\">https://wandb.ai/1pha/paperswithtopic/runs/tcff6f5i</a><br/>\n",
       "                Run data is saved locally in <code>G:\\My Drive\\projects\\paperswithcode_nlp\\wandb\\run-20210702_194718-tcff6f5i</code><br/><br/>\n",
       "            "
      ],
      "text/plain": [
       "<IPython.core.display.HTML object>"
      ]
     },
     "metadata": {},
     "output_type": "display_data"
    },
    {
     "name": "stderr",
     "output_type": "stream",
     "text": [
      "wandb: WARNING Config item 'model_name' was locked by 'sweep' (ignored update).\n"
     ]
    },
    {
     "name": "stdout",
     "output_type": "stream",
     "text": [
      "Preprocess from zero-base.\n",
      "[load_data] 0.2 sec \n",
      "There are 49980 papers.\n",
      "[retrieve_raw_papers] 0.0 sec \n",
      "[remove_unknown] 0.3 sec \n",
      "[build_idx2word] 21.2 sec \n",
      "Use word2vec as embedding\n",
      "[train_embed] 2.4 sec \n",
      "[embed_gensim] 14.0 sec \n",
      "[pp_pipeline] 38.2 sec \n",
      "NUM TRAIN 44982 | NUM VALID 4998\n",
      "Use cuda:0 as a device.\n",
      "Load Electraclassification as model.\n",
      "Epoch 1 / 100, BEST AUC 0.000\n",
      "[train] 46.8 sec [valid] 3.8 sec \n",
      "TRAIN:: AUC 0.789 | LOSS 0.162\n",
      "VALID:: AUC 0.864 | LOSS 0.141\n",
      "saving model ...\n",
      "Epoch 2 / 100, BEST AUC 0.864\n",
      "[train] 48.1 sec [valid] 3.8 sec \n",
      "TRAIN:: AUC 0.854 | LOSS 0.142\n",
      "VALID:: AUC 0.877 | LOSS 0.132\n",
      "saving model ...\n",
      "Epoch 3 / 100, BEST AUC 0.877\n",
      "[train] 46.0 sec [valid] 3.9 sec \n",
      "TRAIN:: AUC 0.868 | LOSS 0.137\n",
      "VALID:: AUC 0.886 | LOSS 0.128\n",
      "saving model ...\n",
      "Epoch 4 / 100, BEST AUC 0.886\n",
      "[train] 46.0 sec [valid] 3.9 sec \n",
      "TRAIN:: AUC 0.874 | LOSS 0.134\n",
      "VALID:: AUC 0.891 | LOSS 0.126\n",
      "saving model ...\n",
      "Epoch 5 / 100, BEST AUC 0.891\n",
      "[train] 42.0 sec [valid] 3.3 sec \n",
      "TRAIN:: AUC 0.882 | LOSS 0.131\n",
      "VALID:: AUC 0.895 | LOSS 0.123\n",
      "saving model ...\n",
      "Epoch 6 / 100, BEST AUC 0.895\n",
      "[train] 41.1 sec [valid] 3.5 sec \n",
      "TRAIN:: AUC 0.887 | LOSS 0.129\n",
      "VALID:: AUC 0.896 | LOSS 0.124\n",
      "saving model ...\n",
      "Epoch 7 / 100, BEST AUC 0.896\n",
      "[train] 45.8 sec [valid] 3.7 sec \n",
      "TRAIN:: AUC 0.891 | LOSS 0.127\n",
      "VALID:: AUC 0.902 | LOSS 0.121\n",
      "saving model ...\n",
      "Epoch 8 / 100, BEST AUC 0.902\n",
      "[train] 42.2 sec [valid] 3.6 sec \n",
      "TRAIN:: AUC 0.895 | LOSS 0.126\n",
      "VALID:: AUC 0.901 | LOSS 0.119\n",
      "saving model ...\n",
      "Epoch 9 / 100, BEST AUC 0.902\n",
      "[train] 39.6 sec [valid] 3.1 sec \n",
      "TRAIN:: AUC 0.896 | LOSS 0.125\n",
      "VALID:: AUC 0.904 | LOSS 0.119\n",
      "saving model ...\n",
      "Epoch 10 / 100, BEST AUC 0.904\n",
      "[train] 39.2 sec [valid] 2.9 sec \n",
      "TRAIN:: AUC 0.900 | LOSS 0.123\n",
      "VALID:: AUC 0.904 | LOSS 0.118\n",
      "saving model ...\n",
      "Epoch 11 / 100, BEST AUC 0.904\n",
      "[train] 38.5 sec [valid] 2.8 sec \n",
      "TRAIN:: AUC 0.901 | LOSS 0.123\n",
      "VALID:: AUC 0.903 | LOSS 0.119\n",
      "saving model ...\n",
      "Epoch 12 / 100, BEST AUC 0.904\n",
      "[train] 36.4 sec [valid] 2.7 sec \n",
      "TRAIN:: AUC 0.904 | LOSS 0.121\n",
      "VALID:: AUC 0.906 | LOSS 0.118\n",
      "saving model ...\n",
      "Epoch 13 / 100, BEST AUC 0.906\n",
      "[train] 36.1 sec [valid] 2.7 sec \n",
      "TRAIN:: AUC 0.906 | LOSS 0.121\n",
      "VALID:: AUC 0.908 | LOSS 0.118\n",
      "saving model ...\n",
      "Epoch 14 / 100, BEST AUC 0.908\n",
      "[train] 35.0 sec [valid] 2.5 sec \n",
      "TRAIN:: AUC 0.907 | LOSS 0.119\n",
      "VALID:: AUC 0.906 | LOSS 0.117\n",
      "saving model ...\n",
      "Epoch 15 / 100, BEST AUC 0.908\n",
      "[train] 34.2 sec [valid] 2.6 sec \n",
      "TRAIN:: AUC 0.910 | LOSS 0.118\n",
      "VALID:: AUC 0.906 | LOSS 0.116\n",
      "saving model ...\n",
      "Epoch 16 / 100, BEST AUC 0.908\n",
      "[train] 33.7 sec [valid] 2.5 sec \n",
      "TRAIN:: AUC 0.911 | LOSS 0.118\n",
      "VALID:: AUC 0.908 | LOSS 0.117\n",
      "saving model ...\n",
      "Epoch 17 / 100, BEST AUC 0.908\n",
      "[train] 33.2 sec [valid] 2.5 sec \n",
      "TRAIN:: AUC 0.913 | LOSS 0.117\n",
      "VALID:: AUC 0.908 | LOSS 0.116\n",
      "saving model ...\n",
      "Epoch 18 / 100, BEST AUC 0.908\n",
      "[train] 33.7 sec [valid] 2.7 sec \n",
      "TRAIN:: AUC 0.915 | LOSS 0.116\n",
      "VALID:: AUC 0.910 | LOSS 0.115\n",
      "saving model ...\n",
      "Epoch 19 / 100, BEST AUC 0.910\n",
      "[train] 34.3 sec [valid] 2.6 sec \n",
      "TRAIN:: AUC 0.916 | LOSS 0.116\n",
      "VALID:: AUC 0.911 | LOSS 0.115\n",
      "saving model ...\n",
      "Epoch 20 / 100, BEST AUC 0.911\n",
      "[train] 33.5 sec [valid] 2.5 sec \n",
      "TRAIN:: AUC 0.916 | LOSS 0.115\n",
      "VALID:: AUC 0.908 | LOSS 0.116\n",
      "saving model ...\n",
      "Epoch 21 / 100, BEST AUC 0.911\n",
      "[train] 33.3 sec [valid] 2.5 sec \n",
      "TRAIN:: AUC 0.918 | LOSS 0.115\n",
      "VALID:: AUC 0.913 | LOSS 0.114\n",
      "saving model ...\n",
      "Epoch 22 / 100, BEST AUC 0.913\n",
      "[train] 34.0 sec [valid] 2.4 sec \n",
      "TRAIN:: AUC 0.920 | LOSS 0.114\n",
      "VALID:: AUC 0.911 | LOSS 0.115\n",
      "saving model ...\n",
      "Epoch 23 / 100, BEST AUC 0.913\n",
      "[train] 33.0 sec [valid] 2.5 sec \n",
      "TRAIN:: AUC 0.921 | LOSS 0.113\n",
      "VALID:: AUC 0.911 | LOSS 0.115\n",
      "saving model ...\n",
      "Epoch 24 / 100, BEST AUC 0.913\n",
      "[train] 33.1 sec [valid] 2.5 sec \n",
      "TRAIN:: AUC 0.922 | LOSS 0.113\n",
      "VALID:: AUC 0.909 | LOSS 0.115\n",
      "saving model ...\n",
      "Epoch 25 / 100, BEST AUC 0.913\n",
      "[train] 33.1 sec [valid] 2.6 sec \n",
      "TRAIN:: AUC 0.923 | LOSS 0.112\n",
      "VALID:: AUC 0.913 | LOSS 0.114\n",
      "saving model ...\n",
      "Epoch 26 / 100, BEST AUC 0.913\n",
      "[train] 33.3 sec [valid] 2.4 sec \n",
      "TRAIN:: AUC 0.923 | LOSS 0.112\n",
      "VALID:: AUC 0.911 | LOSS 0.114\n",
      "saving model ...\n",
      "Epoch 27 / 100, BEST AUC 0.913\n",
      "[train] 32.9 sec [valid] 2.4 sec \n",
      "TRAIN:: AUC 0.926 | LOSS 0.111\n",
      "VALID:: AUC 0.909 | LOSS 0.116\n",
      "saving model ...\n",
      "Epoch 28 / 100, BEST AUC 0.913\n",
      "[train] 33.2 sec [valid] 2.4 sec \n",
      "TRAIN:: AUC 0.926 | LOSS 0.111\n",
      "VALID:: AUC 0.909 | LOSS 0.115\n",
      "saving model ...\n",
      "Epoch 29 / 100, BEST AUC 0.913\n",
      "[train] 33.4 sec [valid] 2.5 sec \n",
      "TRAIN:: AUC 0.929 | LOSS 0.109\n",
      "VALID:: AUC 0.910 | LOSS 0.115\n",
      "saving model ...\n",
      "Epoch 30 / 100, BEST AUC 0.913\n",
      "[train] 32.8 sec [valid] 2.6 sec \n",
      "TRAIN:: AUC 0.928 | LOSS 0.109\n",
      "VALID:: AUC 0.911 | LOSS 0.114\n",
      "saving model ...\n",
      "Epoch 31 / 100, BEST AUC 0.913\n",
      "[train] 32.9 sec [valid] 2.4 sec \n",
      "TRAIN:: AUC 0.930 | LOSS 0.109\n",
      "VALID:: AUC 0.909 | LOSS 0.114\n",
      "saving model ...\n",
      "Epoch 32 / 100, BEST AUC 0.913\n",
      "[train] 33.4 sec [valid] 2.4 sec \n",
      "TRAIN:: AUC 0.932 | LOSS 0.107\n",
      "VALID:: AUC 0.911 | LOSS 0.115\n",
      "saving model ...\n",
      "Epoch 33 / 100, BEST AUC 0.913\n",
      "[train] 33.1 sec [valid] 2.5 sec \n",
      "TRAIN:: AUC 0.933 | LOSS 0.107\n",
      "VALID:: AUC 0.907 | LOSS 0.114\n",
      "saving model ...\n",
      "Epoch 34 / 100, BEST AUC 0.913\n",
      "[train] 34.9 sec [valid] 2.7 sec \n",
      "TRAIN:: AUC 0.933 | LOSS 0.107\n",
      "VALID:: AUC 0.908 | LOSS 0.116\n",
      "saving model ...\n",
      "Epoch 35 / 100, BEST AUC 0.913\n",
      "[train] 33.6 sec "
     ]
    },
    {
     "name": "stderr",
     "output_type": "stream",
     "text": [
      "wandb: WARNING Config item 'model_name' was locked by 'sweep' (ignored update).\n"
     ]
    },
    {
     "name": "stdout",
     "output_type": "stream",
     "text": [
      "[valid] 2.6 sec \n",
      "TRAIN:: AUC 0.934 | LOSS 0.106\n",
      "VALID:: AUC 0.910 | LOSS 0.116\n",
      "saving model ...\n",
      "EarlyStopping counter: 10 out of 10\n"
     ]
    },
    {
     "data": {
      "text/html": [
       "<br/>Waiting for W&B process to finish, PID 19968<br/>Program ended successfully."
      ],
      "text/plain": [
       "<IPython.core.display.HTML object>"
      ]
     },
     "metadata": {},
     "output_type": "display_data"
    },
    {
     "data": {
      "application/vnd.jupyter.widget-view+json": {
       "model_id": "",
       "version_major": 2,
       "version_minor": 0
      },
      "text/plain": [
       "VBox(children=(Label(value=' 0.00MB of 0.00MB uploaded (0.00MB deduped)\\r'), FloatProgress(value=1.0, max=1.0)…"
      ]
     },
     "metadata": {},
     "output_type": "display_data"
    },
    {
     "data": {
      "text/html": [
       "Find user logs for this run at: <code>G:\\My Drive\\projects\\paperswithcode_nlp\\wandb\\run-20210702_194718-tcff6f5i\\logs\\debug.log</code>"
      ],
      "text/plain": [
       "<IPython.core.display.HTML object>"
      ]
     },
     "metadata": {},
     "output_type": "display_data"
    },
    {
     "data": {
      "text/html": [
       "Find internal logs for this run at: <code>G:\\My Drive\\projects\\paperswithcode_nlp\\wandb\\run-20210702_194718-tcff6f5i\\logs\\debug-internal.log</code>"
      ],
      "text/plain": [
       "<IPython.core.display.HTML object>"
      ]
     },
     "metadata": {},
     "output_type": "display_data"
    },
    {
     "data": {
      "text/html": [
       "<h3>Run summary:</h3><br/><style>\n",
       "    table.wandb td:nth-child(1) { padding: 0 10px; text-align: right }\n",
       "    </style><table class=\"wandb\">\n",
       "<tr><td>train_auc</td><td>0.93398</td></tr><tr><td>valid_auc</td><td>0.91016</td></tr><tr><td>train_loss</td><td>0.10619</td></tr><tr><td>valid_loss</td><td>0.11586</td></tr><tr><td>_runtime</td><td>1444</td></tr><tr><td>_timestamp</td><td>1625224283</td></tr><tr><td>_step</td><td>34</td></tr></table>"
      ],
      "text/plain": [
       "<IPython.core.display.HTML object>"
      ]
     },
     "metadata": {},
     "output_type": "display_data"
    },
    {
     "data": {
      "text/html": [
       "<h3>Run history:</h3><br/><style>\n",
       "    table.wandb td:nth-child(1) { padding: 0 10px; text-align: right }\n",
       "    </style><table class=\"wandb\">\n",
       "<tr><td>train_auc</td><td>▁▄▅▅▆▆▆▆▆▆▆▇▇▇▇▇▇▇▇▇▇▇▇▇▇▇█████████</td></tr><tr><td>valid_auc</td><td>▁▃▄▅▅▆▆▆▇▇▇▇▇▇▇▇▇██▇███▇██▇▇██▇█▇▇█</td></tr><tr><td>train_loss</td><td>█▆▅▅▄▄▄▃▃▃▃▃▃▃▃▂▂▂▂▂▂▂▂▂▂▂▂▂▁▁▁▁▁▁▁</td></tr><tr><td>valid_loss</td><td>█▆▅▄▃▄▃▂▂▂▂▂▂▂▂▂▂▁▁▁▁▁▁▁▁▁▂▁▁▁▁▁▁▂▂</td></tr><tr><td>_runtime</td><td>▁▁▂▂▂▂▃▃▃▃▃▄▄▄▄▄▅▅▅▅▅▆▆▆▆▆▆▇▇▇▇▇███</td></tr><tr><td>_timestamp</td><td>▁▁▂▂▂▂▃▃▃▃▃▄▄▄▄▄▅▅▅▅▅▆▆▆▆▆▆▇▇▇▇▇███</td></tr><tr><td>_step</td><td>▁▁▁▂▂▂▂▂▃▃▃▃▃▄▄▄▄▅▅▅▅▅▆▆▆▆▆▇▇▇▇▇███</td></tr></table><br/>"
      ],
      "text/plain": [
       "<IPython.core.display.HTML object>"
      ]
     },
     "metadata": {},
     "output_type": "display_data"
    },
    {
     "data": {
      "text/html": [
       "Synced 6 W&B file(s), 0 media file(s), 0 artifact file(s) and 0 other file(s)"
      ],
      "text/plain": [
       "<IPython.core.display.HTML object>"
      ]
     },
     "metadata": {},
     "output_type": "display_data"
    },
    {
     "data": {
      "text/html": [
       "\n",
       "                    <br/>Synced <strong style=\"color:#cdcd00\">autumn-sweep-3</strong>: <a href=\"https://wandb.ai/1pha/paperswithtopic/runs/tcff6f5i\" target=\"_blank\">https://wandb.ai/1pha/paperswithtopic/runs/tcff6f5i</a><br/>\n",
       "                "
      ],
      "text/plain": [
       "<IPython.core.display.HTML object>"
      ]
     },
     "metadata": {},
     "output_type": "display_data"
    },
    {
     "name": "stderr",
     "output_type": "stream",
     "text": [
      "Run tcff6f5i errored: NameError(\"name 'clear_output' is not defined\")\n",
      "wandb: ERROR Run tcff6f5i errored: NameError(\"name 'clear_output' is not defined\")\n",
      "wandb: Sweep Agent: Waiting for job.\n",
      "wandb: Sweep Agent: Exiting.\n"
     ]
    }
   ],
   "source": [
    "wandb.agent(sweep_id, function=run_sweep)"
   ]
  },
  {
   "cell_type": "markdown",
   "id": "e2fcf7db",
   "metadata": {},
   "source": [
    "# Manual Grid search without sweep"
   ]
  },
  {
   "cell_type": "code",
   "execution_count": 2,
   "id": "f4bbf5d1",
   "metadata": {
    "ExecuteTime": {
     "end_time": "2021-06-22T12:03:59.382384Z",
     "start_time": "2021-06-22T12:03:59.362388Z"
    }
   },
   "outputs": [],
   "source": [
    "models = [\n",
    "    'rnn',\n",
    "    'electraclassification',\n",
    "]"
   ]
  },
  {
   "cell_type": "code",
   "execution_count": 3,
   "id": "724dd783",
   "metadata": {
    "ExecuteTime": {
     "end_time": "2021-06-22T12:03:59.398383Z",
     "start_time": "2021-06-22T12:03:59.383385Z"
    }
   },
   "outputs": [],
   "source": [
    "import os\n",
    "from IPython.display import clear_output\n",
    "# os.environ[\"WANDB_API_KEY\"] = 'ba0fb28501407ce88345f540a04e9f47cfc57bda'\n",
    "# os.environ[\"WANDB_MODE\"] = \"dryrun\""
   ]
  },
  {
   "cell_type": "code",
   "execution_count": 4,
   "id": "e310cfee",
   "metadata": {
    "ExecuteTime": {
     "end_time": "2021-06-22T12:46:11.139239Z",
     "start_time": "2021-06-22T12:03:59.400385Z"
    },
    "scrolled": false
   },
   "outputs": [],
   "source": [
    "for model_name in models:\n",
    "    \n",
    "    cfg = load_config()\n",
    "\n",
    "    cfg.use_saved = False\n",
    "    cfg.pre_embed = 'word2vec'\n",
    "    cfg.use_bert_embed = False\n",
    "\n",
    "    cfg.model_name = model_name\n",
    "\n",
    "    name = f'SWEEP_MD{cfg.model_name}'\n",
    "    \n",
    "    wandb.init(project='paperswithtopic', tags=['word2vec'])\n",
    "    wandb.run.name = name    \n",
    "\n",
    "    run(cfg)\n",
    "    clear_output()"
   ]
  }
 ],
 "metadata": {
  "kernelspec": {
   "display_name": "Python 3",
   "language": "python",
   "name": "python3"
  },
  "language_info": {
   "codemirror_mode": {
    "name": "ipython",
    "version": 3
   },
   "file_extension": ".py",
   "mimetype": "text/x-python",
   "name": "python",
   "nbconvert_exporter": "python",
   "pygments_lexer": "ipython3",
   "version": "3.9.4"
  },
  "toc": {
   "base_numbering": 1,
   "nav_menu": {},
   "number_sections": false,
   "sideBar": true,
   "skip_h1_title": false,
   "title_cell": "Table of Contents",
   "title_sidebar": "Contents",
   "toc_cell": false,
   "toc_position": {
    "height": "calc(100% - 180px)",
    "left": "10px",
    "top": "150px",
    "width": "189px"
   },
   "toc_section_display": true,
   "toc_window_display": false
  }
 },
 "nbformat": 4,
 "nbformat_minor": 5
}
