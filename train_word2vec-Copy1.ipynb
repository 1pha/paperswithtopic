{
 "cells": [
  {
   "cell_type": "markdown",
   "id": "00df33af",
   "metadata": {},
   "source": [
    "# Train"
   ]
  },
  {
   "cell_type": "code",
   "execution_count": 1,
   "id": "2d579cd8",
   "metadata": {
    "ExecuteTime": {
     "end_time": "2021-07-02T11:20:15.003226Z",
     "start_time": "2021-07-02T11:20:11.500960Z"
    }
   },
   "outputs": [],
   "source": [
    "import wandb\n",
    "from paperswithtopic.config import load_config\n",
    "from paperswithtopic.run import run\n",
    "\n",
    "from IPython.display import clear_output"
   ]
  },
  {
   "cell_type": "code",
   "execution_count": 2,
   "id": "7e585f8a",
   "metadata": {
    "ExecuteTime": {
     "end_time": "2021-07-02T11:20:15.034229Z",
     "start_time": "2021-07-02T11:20:15.005229Z"
    }
   },
   "outputs": [],
   "source": [
    "cfg = load_config()\n",
    "cfg.use_saved = False\n",
    "cfg.pre_embed = 'word2vec'\n",
    "cfg.embed_dim = 512\n",
    "cfg.hidden_dim = 512\n",
    "cfg.use_bert_embed = False\n",
    "\n",
    "cfg.model_name = 'albertclassification'"
   ]
  },
  {
   "cell_type": "code",
   "execution_count": 3,
   "id": "52b0f703",
   "metadata": {
    "ExecuteTime": {
     "end_time": "2021-07-02T11:20:23.141196Z",
     "start_time": "2021-07-02T11:20:15.036229Z"
    },
    "scrolled": true
   },
   "outputs": [
    {
     "name": "stderr",
     "output_type": "stream",
     "text": [
      "wandb: Currently logged in as: 1pha (use `wandb login --relogin` to force relogin)\n",
      "wandb: wandb version 0.10.33 is available!  To upgrade, please run:\n",
      "wandb:  $ pip install wandb --upgrade\n"
     ]
    },
    {
     "data": {
      "text/html": [
       "\n",
       "                Tracking run with wandb version 0.10.32<br/>\n",
       "                Syncing run <strong style=\"color:#cdcd00\">albertclf_word2vec-512</strong> to <a href=\"https://wandb.ai\" target=\"_blank\">Weights & Biases</a> <a href=\"https://docs.wandb.com/integrations/jupyter.html\" target=\"_blank\">(Documentation)</a>.<br/>\n",
       "                Project page: <a href=\"https://wandb.ai/1pha/paperswithtopic\" target=\"_blank\">https://wandb.ai/1pha/paperswithtopic</a><br/>\n",
       "                Run page: <a href=\"https://wandb.ai/1pha/paperswithtopic/runs/jozu13wq\" target=\"_blank\">https://wandb.ai/1pha/paperswithtopic/runs/jozu13wq</a><br/>\n",
       "                Run data is saved locally in <code>G:\\My Drive\\projects\\paperswithcode_nlp\\wandb\\run-20210702_202015-jozu13wq</code><br/><br/>\n",
       "            "
      ],
      "text/plain": [
       "<IPython.core.display.HTML object>"
      ]
     },
     "metadata": {},
     "output_type": "display_data"
    },
    {
     "data": {
      "text/html": [
       "<h1>Run(jozu13wq)</h1><iframe src=\"https://wandb.ai/1pha/paperswithtopic/runs/jozu13wq\" style=\"border:none;width:100%;height:400px\"></iframe>"
      ],
      "text/plain": [
       "<wandb.sdk.wandb_run.Run at 0x265fbeada00>"
      ]
     },
     "execution_count": 3,
     "metadata": {},
     "output_type": "execute_result"
    }
   ],
   "source": [
    "wandb.login()\n",
    "wandb.init(project='paperswithtopic', name='albertclf_word2vec-512', tags=['word2vec-512'])"
   ]
  },
  {
   "cell_type": "code",
   "execution_count": null,
   "id": "ab9eb18d",
   "metadata": {
    "ExecuteTime": {
     "start_time": "2021-07-02T11:20:12.706Z"
    },
    "scrolled": true
   },
   "outputs": [
    {
     "name": "stdout",
     "output_type": "stream",
     "text": [
      "Preprocess from zero-base.\n",
      "[load_data] 0.2 sec \n",
      "There are 49980 papers.\n",
      "[retrieve_raw_papers] 0.0 sec \n",
      "[remove_unknown] 0.4 sec \n",
      "[build_idx2word] 15.7 sec \n",
      "Use word2vec as embedding\n",
      "[train_embed] 3.2 sec \n",
      "[embed_gensim] 49.5 sec \n",
      "[pp_pipeline] 69.2 sec \n",
      "NUM TRAIN 44982 | NUM VALID 4998\n",
      "Use cuda:0 as a device.\n",
      "Load Albertclassification as model.\n",
      "Epoch 1 / 100, BEST AUC 0.000\n",
      "[train] 256.9 sec [valid] 7.0 sec \n",
      "TRAIN:: AUC 0.662 | LOSS 0.187\n",
      "VALID:: AUC 0.717 | LOSS 0.179\n",
      "saving model ...\n",
      "Epoch 2 / 100, BEST AUC 0.717\n",
      "[train] 266.2 sec [valid] 6.9 sec \n",
      "TRAIN:: AUC 0.685 | LOSS 0.184\n",
      "VALID:: AUC 0.722 | LOSS 0.179\n",
      "saving model ...\n",
      "Epoch 3 / 100, BEST AUC 0.722\n",
      "[train] 245.9 sec [valid] 6.8 sec \n",
      "TRAIN:: AUC 0.713 | LOSS 0.180\n",
      "VALID:: AUC 0.725 | LOSS 0.180\n",
      "saving model ...\n",
      "Epoch 4 / 100, BEST AUC 0.725\n",
      "[train] 249.8 sec [valid] 6.7 sec \n",
      "TRAIN:: AUC 0.713 | LOSS 0.180\n",
      "VALID:: AUC 0.733 | LOSS 0.176\n",
      "saving model ...\n",
      "Epoch 5 / 100, BEST AUC 0.733\n",
      "[train] 281.0 sec [valid] 7.0 sec \n",
      "TRAIN:: AUC 0.720 | LOSS 0.178\n",
      "VALID:: AUC 0.742 | LOSS 0.174\n",
      "saving model ...\n",
      "Epoch 6 / 100, BEST AUC 0.742\n",
      "[train] 265.6 sec [valid] 6.4 sec \n",
      "TRAIN:: AUC 0.718 | LOSS 0.179\n",
      "VALID:: AUC 0.738 | LOSS 0.175\n",
      "saving model ...\n",
      "Epoch 7 / 100, BEST AUC 0.742\n",
      "[train] 245.2 sec [valid] 6.6 sec \n",
      "TRAIN:: AUC 0.718 | LOSS 0.179\n",
      "VALID:: AUC 0.723 | LOSS 0.177\n",
      "saving model ...\n",
      "Epoch 8 / 100, BEST AUC 0.742\n"
     ]
    }
   ],
   "source": [
    "run(cfg)"
   ]
  },
  {
   "cell_type": "markdown",
   "id": "ef5943c0",
   "metadata": {},
   "source": [
    "# Hyperparameter grid search with wandb.sweep"
   ]
  },
  {
   "cell_type": "code",
   "execution_count": 17,
   "id": "62161140",
   "metadata": {
    "ExecuteTime": {
     "end_time": "2021-06-30T12:51:05.723896Z",
     "start_time": "2021-06-30T12:51:04.979244Z"
    }
   },
   "outputs": [
    {
     "name": "stdout",
     "output_type": "stream",
     "text": [
      "Create sweep with ID: yxkyulzv\n",
      "Sweep URL: https://wandb.ai/1pha/paperswithtopic/sweeps/yxkyulzv\n"
     ]
    }
   ],
   "source": [
    "sweep_config = {\n",
    "    'name': 'word2vec-256',\n",
    "    'method': 'grid',\n",
    "    'metric': {\n",
    "        'name': 'valid_auc',\n",
    "        'goal': 'maximize',\n",
    "    },\n",
    "    'parameters': {\n",
    "        'model_name': {\n",
    "            'values': [\n",
    "#                 'rnn',\n",
    "#                 'lstm',\n",
    "#                 'gru',\n",
    "\n",
    "#                 'bert',\n",
    "#                 'albert',\n",
    "#                 'electra',\n",
    "\n",
    "                'bertclassification',\n",
    "                'albertclassification',\n",
    "                'electraclassification',\n",
    "            ]\n",
    "        },\n",
    "        \n",
    "    }\n",
    "}\n",
    "\n",
    "sweep_id = wandb.sweep(sweep_config, project='paperswithtopic')"
   ]
  },
  {
   "cell_type": "code",
   "execution_count": 18,
   "id": "d8f8064b",
   "metadata": {
    "ExecuteTime": {
     "end_time": "2021-06-30T12:54:00.526395Z",
     "start_time": "2021-06-30T12:54:00.506856Z"
    }
   },
   "outputs": [],
   "source": [
    "def run_sweep():\n",
    "    \n",
    "    with wandb.init(tags=['word2vec-512']):\n",
    "        \n",
    "        cfg = load_config()\n",
    "        \n",
    "        _cfg = wandb.config\n",
    "        __cfg = dict(); __cfg.update(_cfg); cfg.update(__cfg)\n",
    "        \n",
    "        cfg.use_saved = False\n",
    "        cfg.pre_embed = 'word2vec'\n",
    "        cfg.embed_dim = 512\n",
    "        cfg.hidden_dim = 512\n",
    "        cfg.use_bert_embed = False\n",
    "        \n",
    "        name = f'SWEEP_PRE{cfg.model_name}'\n",
    "        \n",
    "        wandb.run.name = name\n",
    "        wandb.config.update(cfg)\n",
    "        \n",
    "        run(cfg)\n",
    "        \n",
    "        clear_output()"
   ]
  },
  {
   "cell_type": "code",
   "execution_count": 19,
   "id": "9f28fe16",
   "metadata": {
    "ExecuteTime": {
     "end_time": "2021-06-30T15:30:50.837262Z",
     "start_time": "2021-06-30T12:54:00.666748Z"
    }
   },
   "outputs": [
    {
     "name": "stderr",
     "output_type": "stream",
     "text": [
      "\u001b[34m\u001b[1mwandb\u001b[0m: Agent Starting Run: 1qe8ajrh with config:\n",
      "\u001b[34m\u001b[1mwandb\u001b[0m: \tmodel_name: bertclassification\n",
      "\u001b[34m\u001b[1mwandb\u001b[0m: wandb version 0.10.33 is available!  To upgrade, please run:\n",
      "\u001b[34m\u001b[1mwandb\u001b[0m:  $ pip install wandb --upgrade\n"
     ]
    },
    {
     "data": {
      "text/html": [
       "\n",
       "                Tracking run with wandb version 0.10.31<br/>\n",
       "                Syncing run <strong style=\"color:#cdcd00\">dandy-sweep-1</strong> to <a href=\"https://wandb.ai\" target=\"_blank\">Weights & Biases</a> <a href=\"https://docs.wandb.com/integrations/jupyter.html\" target=\"_blank\">(Documentation)</a>.<br/>\n",
       "                Project page: <a href=\"https://wandb.ai/1pha/paperswithtopic\" target=\"_blank\">https://wandb.ai/1pha/paperswithtopic</a><br/>\n",
       "                Sweep page: <a href=\"https://wandb.ai/1pha/paperswithtopic/sweeps/yxkyulzv\" target=\"_blank\">https://wandb.ai/1pha/paperswithtopic/sweeps/yxkyulzv</a><br/>\n",
       "Run page: <a href=\"https://wandb.ai/1pha/paperswithtopic/runs/1qe8ajrh\" target=\"_blank\">https://wandb.ai/1pha/paperswithtopic/runs/1qe8ajrh</a><br/>\n",
       "                Run data is saved locally in <code>G:\\내 드라이브\\projects\\paperswithcode_nlp\\wandb\\run-20210702_152228-1qe8ajrh</code><br/><br/>\n",
       "            "
      ],
      "text/plain": [
       "<IPython.core.display.HTML object>"
      ]
     },
     "metadata": {},
     "output_type": "display_data"
    },
    {
     "name": "stderr",
     "output_type": "stream",
     "text": [
      "\u001b[34m\u001b[1mwandb\u001b[0m: \u001b[33mWARNING\u001b[0m Config item 'model_name' was locked by 'sweep' (ignored update).\n"
     ]
    },
    {
     "name": "stdout",
     "output_type": "stream",
     "text": [
      "Preprocess from zero-base.\n",
      "[load_data] 0.2 sec \n",
      "There are 49980 papers.\n",
      "[retrieve_raw_papers] 0.0 sec \n",
      "[remove_unknown] 0.3 sec \n",
      "[build_idx2word] 25.5 sec \n",
      "Use word2vec as embedding\n",
      "[train_embed] 3.0 sec \n",
      "[embed_gensim] 22.6 sec \n",
      "[pp_pipeline] 51.6 sec \n",
      "NUM TRAIN 44982 | NUM VALID 4998\n",
      "Use cuda:0 as a device.\n",
      "Load Bertclassification as model.\n",
      "Epoch 1 / 100, BEST AUC 0.000\n",
      "[train] 86.1 sec [valid] 6.6 sec \n",
      "TRAIN:: AUC 0.760 | LOSS 0.167\n",
      "VALID:: AUC 0.828 | LOSS 0.149\n",
      "saving model ...\n",
      "Epoch 2 / 100, BEST AUC 0.828\n",
      "[train] 73.8 sec [valid] 5.3 sec \n",
      "TRAIN:: AUC 0.815 | LOSS 0.154\n",
      "VALID:: AUC 0.838 | LOSS 0.147\n",
      "saving model ...\n",
      "Epoch 3 / 100, BEST AUC 0.838\n",
      "[train] 61.1 sec [valid] 5.0 sec \n",
      "TRAIN:: AUC 0.825 | LOSS 0.151\n",
      "VALID:: AUC 0.840 | LOSS 0.147\n",
      "saving model ...\n",
      "Epoch 4 / 100, BEST AUC 0.840\n",
      "[train] 61.3 sec [valid] 5.1 sec \n",
      "TRAIN:: AUC 0.832 | LOSS 0.149\n",
      "VALID:: AUC 0.855 | LOSS 0.144\n",
      "saving model ...\n",
      "Epoch 5 / 100, BEST AUC 0.855\n",
      "[train] 60.7 sec [valid] 5.0 sec \n",
      "TRAIN:: AUC 0.839 | LOSS 0.147\n",
      "VALID:: AUC 0.864 | LOSS 0.139\n",
      "saving model ...\n",
      "Epoch 6 / 100, BEST AUC 0.864\n",
      "[train] 62.8 sec [valid] 4.9 sec \n",
      "TRAIN:: AUC 0.842 | LOSS 0.146\n",
      "VALID:: AUC 0.865 | LOSS 0.138\n",
      "saving model ...\n",
      "Epoch 7 / 100, BEST AUC 0.865\n",
      "[train] 61.8 sec [valid] 5.2 sec \n",
      "TRAIN:: AUC 0.848 | LOSS 0.145\n",
      "VALID:: AUC 0.866 | LOSS 0.138\n",
      "saving model ...\n",
      "Epoch 8 / 100, BEST AUC 0.866\n",
      "[train] 60.8 sec [valid] 5.6 sec \n",
      "TRAIN:: AUC 0.847 | LOSS 0.145\n",
      "VALID:: AUC 0.862 | LOSS 0.139\n",
      "saving model ...\n",
      "Epoch 9 / 100, BEST AUC 0.866\n",
      "[train] 62.7 sec [valid] 5.1 sec \n",
      "TRAIN:: AUC 0.851 | LOSS 0.143\n",
      "VALID:: AUC 0.868 | LOSS 0.134\n",
      "saving model ...\n",
      "Epoch 10 / 100, BEST AUC 0.868\n",
      "[train] 60.2 sec [valid] 4.9 sec \n",
      "TRAIN:: AUC 0.852 | LOSS 0.142\n",
      "VALID:: AUC 0.864 | LOSS 0.135\n",
      "saving model ...\n",
      "Epoch 11 / 100, BEST AUC 0.868\n",
      "[train] 60.2 sec [valid] 4.9 sec \n",
      "TRAIN:: AUC 0.852 | LOSS 0.143\n",
      "VALID:: AUC 0.859 | LOSS 0.139\n",
      "saving model ...\n",
      "Epoch 12 / 100, BEST AUC 0.868\n",
      "[train] 60.8 sec [valid] 5.2 sec \n",
      "TRAIN:: AUC 0.849 | LOSS 0.144\n",
      "VALID:: AUC 0.863 | LOSS 0.138\n",
      "saving model ...\n",
      "Epoch 13 / 100, BEST AUC 0.868\n",
      "[train] 62.4 sec [valid] 5.0 sec \n",
      "TRAIN:: AUC 0.856 | LOSS 0.142\n",
      "VALID:: AUC 0.870 | LOSS 0.135\n",
      "saving model ...\n",
      "Epoch 14 / 100, BEST AUC 0.870\n",
      "[train] 60.6 sec [valid] 5.1 sec \n",
      "TRAIN:: AUC 0.856 | LOSS 0.141\n",
      "VALID:: AUC 0.868 | LOSS 0.135\n",
      "saving model ...\n",
      "Epoch 15 / 100, BEST AUC 0.870\n",
      "[train] 60.5 sec [valid] 5.3 sec \n",
      "TRAIN:: AUC 0.855 | LOSS 0.142\n",
      "VALID:: AUC 0.863 | LOSS 0.136\n",
      "saving model ...\n",
      "Epoch 16 / 100, BEST AUC 0.870\n",
      "[train] 61.0 sec [valid] 5.3 sec \n",
      "TRAIN:: AUC 0.858 | LOSS 0.141\n",
      "VALID:: AUC 0.869 | LOSS 0.136\n",
      "saving model ...\n",
      "Epoch 17 / 100, BEST AUC 0.870\n",
      "[train] 60.4 sec [valid] 5.1 sec \n",
      "TRAIN:: AUC 0.861 | LOSS 0.139\n",
      "VALID:: AUC 0.877 | LOSS 0.134\n",
      "saving model ...\n",
      "Epoch 18 / 100, BEST AUC 0.877\n",
      "[train] 60.2 sec [valid] 5.0 sec \n",
      "TRAIN:: AUC 0.860 | LOSS 0.139\n",
      "VALID:: AUC 0.878 | LOSS 0.133\n",
      "saving model ...\n",
      "Epoch 19 / 100, BEST AUC 0.878\n",
      "[train] 59.6 sec [valid] 5.2 sec \n",
      "TRAIN:: AUC 0.864 | LOSS 0.138\n",
      "VALID:: AUC 0.873 | LOSS 0.134\n",
      "saving model ...\n",
      "Epoch 20 / 100, BEST AUC 0.878\n",
      "[train] 59.7 sec [valid] 5.1 sec \n",
      "TRAIN:: AUC 0.864 | LOSS 0.138\n",
      "VALID:: AUC 0.877 | LOSS 0.131\n",
      "saving model ...\n",
      "Epoch 21 / 100, BEST AUC 0.878\n",
      "[train] 61.6 sec [valid] 5.5 sec \n",
      "TRAIN:: AUC 0.866 | LOSS 0.137\n",
      "VALID:: AUC 0.871 | LOSS 0.133\n",
      "saving model ...\n",
      "Epoch 22 / 100, BEST AUC 0.878\n",
      "[train] 59.5 sec [valid] 5.3 sec \n",
      "TRAIN:: AUC 0.869 | LOSS 0.137\n",
      "VALID:: AUC 0.876 | LOSS 0.131\n",
      "saving model ...\n",
      "Epoch 23 / 100, BEST AUC 0.878\n",
      "[train] 60.2 sec [valid] 5.2 sec \n",
      "TRAIN:: AUC 0.869 | LOSS 0.136\n",
      "VALID:: AUC 0.876 | LOSS 0.131\n",
      "saving model ...\n",
      "Epoch 24 / 100, BEST AUC 0.878\n",
      "[train] 61.1 sec [valid] 5.2 sec \n",
      "TRAIN:: AUC 0.868 | LOSS 0.137\n",
      "VALID:: AUC 0.880 | LOSS 0.131\n",
      "saving model ...\n",
      "Epoch 25 / 100, BEST AUC 0.880\n",
      "[train] 61.0 sec [valid] 5.0 sec \n",
      "TRAIN:: AUC 0.870 | LOSS 0.136\n",
      "VALID:: AUC 0.877 | LOSS 0.132\n",
      "saving model ...\n",
      "Epoch 26 / 100, BEST AUC 0.880\n",
      "[train] 60.5 sec [valid] 5.1 sec \n",
      "TRAIN:: AUC 0.871 | LOSS 0.136\n",
      "VALID:: AUC 0.882 | LOSS 0.132\n",
      "saving model ...\n",
      "Epoch 27 / 100, BEST AUC 0.882\n",
      "[train] 59.7 sec [valid] 5.1 sec \n",
      "TRAIN:: AUC 0.871 | LOSS 0.136\n",
      "VALID:: AUC 0.877 | LOSS 0.132\n",
      "saving model ...\n",
      "Epoch 28 / 100, BEST AUC 0.882\n",
      "[train] 59.6 sec [valid] 5.1 sec \n",
      "TRAIN:: AUC 0.874 | LOSS 0.135\n",
      "VALID:: AUC 0.882 | LOSS 0.129\n",
      "saving model ...\n",
      "Epoch 29 / 100, BEST AUC 0.882\n",
      "[train] 60.5 sec [valid] 5.1 sec \n",
      "TRAIN:: AUC 0.875 | LOSS 0.134\n",
      "VALID:: AUC 0.883 | LOSS 0.130\n",
      "saving model ...\n",
      "Epoch 30 / 100, BEST AUC 0.883\n",
      "[train] 60.8 sec [valid] 5.2 sec \n",
      "TRAIN:: AUC 0.876 | LOSS 0.134\n",
      "VALID:: AUC 0.884 | LOSS 0.129\n",
      "saving model ...\n",
      "Epoch 31 / 100, BEST AUC 0.884\n",
      "[train] 64.8 sec [valid] 5.9 sec \n",
      "TRAIN:: AUC 0.874 | LOSS 0.135\n",
      "VALID:: AUC 0.880 | LOSS 0.131\n",
      "saving model ...\n",
      "Epoch 32 / 100, BEST AUC 0.884\n",
      "[train] 68.9 sec [valid] 5.2 sec \n",
      "TRAIN:: AUC 0.877 | LOSS 0.134\n",
      "VALID:: AUC 0.883 | LOSS 0.129\n",
      "saving model ...\n",
      "Epoch 33 / 100, BEST AUC 0.884\n",
      "[train] 64.3 sec [valid] 5.2 sec \n",
      "TRAIN:: AUC 0.876 | LOSS 0.134\n",
      "VALID:: AUC 0.880 | LOSS 0.130\n",
      "saving model ...\n",
      "Epoch 34 / 100, BEST AUC 0.884\n",
      "[train] 61.9 sec [valid] 5.4 sec \n",
      "TRAIN:: AUC 0.878 | LOSS 0.133\n",
      "VALID:: AUC 0.882 | LOSS 0.129\n",
      "saving model ...\n",
      "Epoch 35 / 100, BEST AUC 0.884\n",
      "[train] 62.9 sec [valid] 5.1 sec \n",
      "TRAIN:: AUC 0.879 | LOSS 0.132\n",
      "VALID:: AUC 0.880 | LOSS 0.129\n",
      "saving model ...\n",
      "Epoch 36 / 100, BEST AUC 0.884\n",
      "[train] 63.9 sec [valid] 5.2 sec \n",
      "TRAIN:: AUC 0.882 | LOSS 0.131\n",
      "VALID:: AUC 0.883 | LOSS 0.128\n",
      "saving model ...\n",
      "Epoch 37 / 100, BEST AUC 0.884\n",
      "[train] 63.8 sec [valid] 5.3 sec \n",
      "TRAIN:: AUC 0.882 | LOSS 0.131\n",
      "VALID:: AUC 0.882 | LOSS 0.128\n",
      "saving model ...\n",
      "Epoch 38 / 100, BEST AUC 0.884\n",
      "[train] 62.8 sec [valid] 5.1 sec \n",
      "TRAIN:: AUC 0.884 | LOSS 0.131\n",
      "VALID:: AUC 0.885 | LOSS 0.129\n",
      "saving model ...\n",
      "Epoch 39 / 100, BEST AUC 0.885\n",
      "[train] 62.3 sec [valid] 5.4 sec \n",
      "TRAIN:: AUC 0.883 | LOSS 0.131\n",
      "VALID:: AUC 0.884 | LOSS 0.127\n",
      "saving model ...\n",
      "Epoch 40 / 100, BEST AUC 0.885\n",
      "[train] 63.2 sec [valid] 5.3 sec \n",
      "TRAIN:: AUC 0.886 | LOSS 0.130\n",
      "VALID:: AUC 0.883 | LOSS 0.129\n",
      "saving model ...\n",
      "Epoch 41 / 100, BEST AUC 0.885\n",
      "[train] 63.2 sec [valid] 5.1 sec \n",
      "TRAIN:: AUC 0.888 | LOSS 0.129\n",
      "VALID:: AUC 0.890 | LOSS 0.126\n",
      "saving model ...\n",
      "Epoch 42 / 100, BEST AUC 0.890\n",
      "[train] 61.6 sec [valid] 5.2 sec \n",
      "TRAIN:: AUC 0.890 | LOSS 0.128\n",
      "VALID:: AUC 0.888 | LOSS 0.128\n",
      "saving model ...\n",
      "Epoch 43 / 100, BEST AUC 0.890\n",
      "[train] 62.1 sec [valid] 5.3 sec \n",
      "TRAIN:: AUC 0.891 | LOSS 0.128\n",
      "VALID:: AUC 0.886 | LOSS 0.126\n",
      "saving model ...\n",
      "Epoch 44 / 100, BEST AUC 0.890\n",
      "[train] 63.3 sec [valid] 5.4 sec \n",
      "TRAIN:: AUC 0.891 | LOSS 0.128\n",
      "VALID:: AUC 0.887 | LOSS 0.126\n",
      "saving model ...\n",
      "Epoch 45 / 100, BEST AUC 0.890\n",
      "[train] 61.0 sec [valid] 5.1 sec \n",
      "TRAIN:: AUC 0.891 | LOSS 0.128\n",
      "VALID:: AUC 0.889 | LOSS 0.126\n",
      "saving model ...\n",
      "Epoch 46 / 100, BEST AUC 0.890\n",
      "[train] 60.0 sec [valid] 5.2 sec \n",
      "TRAIN:: AUC 0.891 | LOSS 0.128\n",
      "VALID:: AUC 0.885 | LOSS 0.127\n",
      "saving model ...\n",
      "Epoch 47 / 100, BEST AUC 0.890\n",
      "[train] 60.5 sec [valid] 5.1 sec \n",
      "TRAIN:: AUC 0.892 | LOSS 0.128\n",
      "VALID:: AUC 0.884 | LOSS 0.128\n",
      "saving model ...\n",
      "Epoch 48 / 100, BEST AUC 0.890\n",
      "[train] 60.6 sec [valid] 5.1 sec \n",
      "TRAIN:: AUC 0.893 | LOSS 0.128\n",
      "VALID:: AUC 0.885 | LOSS 0.128\n",
      "saving model ...\n",
      "Epoch 49 / 100, BEST AUC 0.890\n",
      "[train] 60.2 sec [valid] 4.9 sec \n",
      "TRAIN:: AUC 0.895 | LOSS 0.127\n",
      "VALID:: AUC 0.887 | LOSS 0.126\n",
      "saving model ...\n",
      "Epoch 50 / 100, BEST AUC 0.890\n",
      "[train] 60.8 sec [valid] 5.3 sec \n",
      "TRAIN:: AUC 0.895 | LOSS 0.127\n",
      "VALID:: AUC 0.886 | LOSS 0.128\n",
      "saving model ...\n",
      "Epoch 51 / 100, BEST AUC 0.890\n",
      "[train] 60.7 sec [valid] 5.2 sec \n",
      "TRAIN:: AUC 0.896 | LOSS 0.127\n",
      "VALID:: AUC 0.885 | LOSS 0.129\n",
      "saving model ...\n"
     ]
    },
    {
     "name": "stderr",
     "output_type": "stream",
     "text": [
      "\u001b[34m\u001b[1mwandb\u001b[0m: \u001b[33mWARNING\u001b[0m Config item 'model_name' was locked by 'sweep' (ignored update).\n"
     ]
    },
    {
     "name": "stdout",
     "output_type": "stream",
     "text": [
      "EarlyStopping counter: 10 out of 10\n"
     ]
    },
    {
     "data": {
      "text/html": [
       "<br/>Waiting for W&B process to finish, PID 7376<br/>Program ended successfully."
      ],
      "text/plain": [
       "<IPython.core.display.HTML object>"
      ]
     },
     "metadata": {},
     "output_type": "display_data"
    },
    {
     "data": {
      "application/vnd.jupyter.widget-view+json": {
       "model_id": "",
       "version_major": 2,
       "version_minor": 0
      },
      "text/plain": [
       "VBox(children=(Label(value=' 0.00MB of 0.00MB uploaded (0.00MB deduped)\\r'), FloatProgress(value=1.0, max=1.0)…"
      ]
     },
     "metadata": {},
     "output_type": "display_data"
    },
    {
     "data": {
      "text/html": [
       "Find user logs for this run at: <code>G:\\내 드라이브\\projects\\paperswithcode_nlp\\wandb\\run-20210702_152228-1qe8ajrh\\logs\\debug.log</code>"
      ],
      "text/plain": [
       "<IPython.core.display.HTML object>"
      ]
     },
     "metadata": {},
     "output_type": "display_data"
    },
    {
     "data": {
      "text/html": [
       "Find internal logs for this run at: <code>G:\\내 드라이브\\projects\\paperswithcode_nlp\\wandb\\run-20210702_152228-1qe8ajrh\\logs\\debug-internal.log</code>"
      ],
      "text/plain": [
       "<IPython.core.display.HTML object>"
      ]
     },
     "metadata": {},
     "output_type": "display_data"
    },
    {
     "data": {
      "text/html": [
       "<h3>Run summary:</h3><br/><style>\n",
       "    table.wandb td:nth-child(1) { padding: 0 10px; text-align: right }\n",
       "    </style><table class=\"wandb\">\n",
       "<tr><td>train_auc</td><td>0.89553</td></tr><tr><td>valid_auc</td><td>0.88548</td></tr><tr><td>train_loss</td><td>0.12713</td></tr><tr><td>valid_loss</td><td>0.12862</td></tr><tr><td>_runtime</td><td>3549</td></tr><tr><td>_timestamp</td><td>1625210498</td></tr><tr><td>_step</td><td>50</td></tr></table>"
      ],
      "text/plain": [
       "<IPython.core.display.HTML object>"
      ]
     },
     "metadata": {},
     "output_type": "display_data"
    },
    {
     "data": {
      "text/html": [
       "<h3>Run history:</h3><br/><style>\n",
       "    table.wandb td:nth-child(1) { padding: 0 10px; text-align: right }\n",
       "    </style><table class=\"wandb\">\n",
       "<tr><td>train_auc</td><td>▁▄▄▅▅▆▆▆▆▆▆▆▆▆▆▆▆▇▇▇▇▇▇▇▇▇▇▇▇▇▇▇████████</td></tr><tr><td>valid_auc</td><td>▁▂▂▄▅▅▅▆▅▅▆▅▆▇▇▇▆▆▇▇▇▇▇▇▇▇▇▇▇█▇▇████▇███</td></tr><tr><td>train_loss</td><td>█▆▅▅▄▄▄▄▄▄▄▄▃▃▃▃▃▃▃▃▃▃▂▂▂▂▂▂▂▂▂▁▁▁▁▁▁▁▁▁</td></tr><tr><td>valid_loss</td><td>█▇█▆▅▅▅▄▅▅▄▄▄▃▃▃▃▃▃▃▃▃▂▂▃▂▂▂▂▂▁▂▂▁▁▁▂▂▁▂</td></tr><tr><td>_runtime</td><td>▁▁▁▁▂▂▂▂▂▃▃▃▃▃▃▄▄▄▄▄▄▅▅▅▅▅▆▆▆▆▆▆▇▇▇▇▇███</td></tr><tr><td>_timestamp</td><td>▁▁▁▁▂▂▂▂▂▃▃▃▃▃▃▄▄▄▄▄▄▅▅▅▅▅▆▆▆▆▆▆▇▇▇▇▇███</td></tr><tr><td>_step</td><td>▁▁▁▁▂▂▂▂▂▃▃▃▃▃▃▄▄▄▄▄▅▅▅▅▅▅▆▆▆▆▆▆▇▇▇▇▇███</td></tr></table><br/>"
      ],
      "text/plain": [
       "<IPython.core.display.HTML object>"
      ]
     },
     "metadata": {},
     "output_type": "display_data"
    },
    {
     "data": {
      "text/html": [
       "Synced 6 W&B file(s), 0 media file(s), 0 artifact file(s) and 0 other file(s)"
      ],
      "text/plain": [
       "<IPython.core.display.HTML object>"
      ]
     },
     "metadata": {},
     "output_type": "display_data"
    },
    {
     "data": {
      "text/html": [
       "\n",
       "                    <br/>Synced <strong style=\"color:#cdcd00\">dandy-sweep-1</strong>: <a href=\"https://wandb.ai/1pha/paperswithtopic/runs/1qe8ajrh\" target=\"_blank\">https://wandb.ai/1pha/paperswithtopic/runs/1qe8ajrh</a><br/>\n",
       "                "
      ],
      "text/plain": [
       "<IPython.core.display.HTML object>"
      ]
     },
     "metadata": {},
     "output_type": "display_data"
    },
    {
     "name": "stderr",
     "output_type": "stream",
     "text": [
      "\u001b[34m\u001b[1mwandb\u001b[0m: \u001b[32m\u001b[41mERROR\u001b[0m Run 1qe8ajrh errored: NameError(\"name 'clear_output' is not defined\")\n",
      "\u001b[34m\u001b[1mwandb\u001b[0m: Agent Starting Run: 4j8l3arr with config:\n",
      "\u001b[34m\u001b[1mwandb\u001b[0m: \tmodel_name: albertclassification\n",
      "\u001b[34m\u001b[1mwandb\u001b[0m: wandb version 0.10.33 is available!  To upgrade, please run:\n",
      "\u001b[34m\u001b[1mwandb\u001b[0m:  $ pip install wandb --upgrade\n"
     ]
    },
    {
     "data": {
      "text/html": [
       "\n",
       "                Tracking run with wandb version 0.10.31<br/>\n",
       "                Syncing run <strong style=\"color:#cdcd00\">eager-sweep-2</strong> to <a href=\"https://wandb.ai\" target=\"_blank\">Weights & Biases</a> <a href=\"https://docs.wandb.com/integrations/jupyter.html\" target=\"_blank\">(Documentation)</a>.<br/>\n",
       "                Project page: <a href=\"https://wandb.ai/1pha/paperswithtopic\" target=\"_blank\">https://wandb.ai/1pha/paperswithtopic</a><br/>\n",
       "                Sweep page: <a href=\"https://wandb.ai/1pha/paperswithtopic/sweeps/yxkyulzv\" target=\"_blank\">https://wandb.ai/1pha/paperswithtopic/sweeps/yxkyulzv</a><br/>\n",
       "Run page: <a href=\"https://wandb.ai/1pha/paperswithtopic/runs/4j8l3arr\" target=\"_blank\">https://wandb.ai/1pha/paperswithtopic/runs/4j8l3arr</a><br/>\n",
       "                Run data is saved locally in <code>G:\\내 드라이브\\projects\\paperswithcode_nlp\\wandb\\run-20210702_162142-4j8l3arr</code><br/><br/>\n",
       "            "
      ],
      "text/plain": [
       "<IPython.core.display.HTML object>"
      ]
     },
     "metadata": {},
     "output_type": "display_data"
    },
    {
     "name": "stderr",
     "output_type": "stream",
     "text": [
      "\u001b[34m\u001b[1mwandb\u001b[0m: \u001b[33mWARNING\u001b[0m Config item 'model_name' was locked by 'sweep' (ignored update).\n"
     ]
    },
    {
     "name": "stdout",
     "output_type": "stream",
     "text": [
      "Preprocess from zero-base.\n",
      "[load_data] 0.2 sec \n",
      "There are 49980 papers.\n",
      "[retrieve_raw_papers] 0.0 sec \n",
      "[remove_unknown] 0.3 sec \n",
      "[build_idx2word] 25.4 sec \n",
      "Use word2vec as embedding\n",
      "[train_embed] 3.0 sec \n",
      "[embed_gensim] 22.0 sec \n",
      "[pp_pipeline] 51.0 sec \n",
      "NUM TRAIN 44982 | NUM VALID 4998\n",
      "Use cuda:0 as a device.\n",
      "Load Albertclassification as model.\n",
      "Epoch 1 / 100, BEST AUC 0.000\n"
     ]
    },
    {
     "data": {
      "text/html": [
       "<br/>Waiting for W&B process to finish, PID 14928<br/>Program failed with code 1.  Press ctrl-c to abort syncing."
      ],
      "text/plain": [
       "<IPython.core.display.HTML object>"
      ]
     },
     "metadata": {},
     "output_type": "display_data"
    },
    {
     "data": {
      "application/vnd.jupyter.widget-view+json": {
       "model_id": "",
       "version_major": 2,
       "version_minor": 0
      },
      "text/plain": [
       "VBox(children=(Label(value=' 0.00MB of 0.00MB uploaded (0.00MB deduped)\\r'), FloatProgress(value=1.0, max=1.0)…"
      ]
     },
     "metadata": {},
     "output_type": "display_data"
    },
    {
     "data": {
      "text/html": [
       "Find user logs for this run at: <code>G:\\내 드라이브\\projects\\paperswithcode_nlp\\wandb\\run-20210702_162142-4j8l3arr\\logs\\debug.log</code>"
      ],
      "text/plain": [
       "<IPython.core.display.HTML object>"
      ]
     },
     "metadata": {},
     "output_type": "display_data"
    },
    {
     "data": {
      "text/html": [
       "Find internal logs for this run at: <code>G:\\내 드라이브\\projects\\paperswithcode_nlp\\wandb\\run-20210702_162142-4j8l3arr\\logs\\debug-internal.log</code>"
      ],
      "text/plain": [
       "<IPython.core.display.HTML object>"
      ]
     },
     "metadata": {},
     "output_type": "display_data"
    },
    {
     "data": {
      "text/html": [
       "Synced 6 W&B file(s), 0 media file(s), 0 artifact file(s) and 0 other file(s)"
      ],
      "text/plain": [
       "<IPython.core.display.HTML object>"
      ]
     },
     "metadata": {},
     "output_type": "display_data"
    },
    {
     "data": {
      "text/html": [
       "\n",
       "                    <br/>Synced <strong style=\"color:#cdcd00\">eager-sweep-2</strong>: <a href=\"https://wandb.ai/1pha/paperswithtopic/runs/4j8l3arr\" target=\"_blank\">https://wandb.ai/1pha/paperswithtopic/runs/4j8l3arr</a><br/>\n",
       "                "
      ],
      "text/plain": [
       "<IPython.core.display.HTML object>"
      ]
     },
     "metadata": {},
     "output_type": "display_data"
    },
    {
     "name": "stderr",
     "output_type": "stream",
     "text": [
      "\u001b[34m\u001b[1mwandb\u001b[0m: \u001b[32m\u001b[41mERROR\u001b[0m Run 4j8l3arr errored: RuntimeError('CUDA out of memory. Tried to allocate 512.00 MiB (GPU 0; 6.00 GiB total capacity; 3.65 GiB already allocated; 234.63 MiB free; 3.83 GiB reserved in total by PyTorch)')\n",
      "\u001b[34m\u001b[1mwandb\u001b[0m: Agent Starting Run: r6gsh2fn with config:\n",
      "\u001b[34m\u001b[1mwandb\u001b[0m: \tmodel_name: electraclassification\n",
      "\u001b[34m\u001b[1mwandb\u001b[0m: wandb version 0.10.33 is available!  To upgrade, please run:\n",
      "\u001b[34m\u001b[1mwandb\u001b[0m:  $ pip install wandb --upgrade\n"
     ]
    },
    {
     "data": {
      "text/html": [
       "\n",
       "                Tracking run with wandb version 0.10.31<br/>\n",
       "                Syncing run <strong style=\"color:#cdcd00\">giddy-sweep-3</strong> to <a href=\"https://wandb.ai\" target=\"_blank\">Weights & Biases</a> <a href=\"https://docs.wandb.com/integrations/jupyter.html\" target=\"_blank\">(Documentation)</a>.<br/>\n",
       "                Project page: <a href=\"https://wandb.ai/1pha/paperswithtopic\" target=\"_blank\">https://wandb.ai/1pha/paperswithtopic</a><br/>\n",
       "                Sweep page: <a href=\"https://wandb.ai/1pha/paperswithtopic/sweeps/yxkyulzv\" target=\"_blank\">https://wandb.ai/1pha/paperswithtopic/sweeps/yxkyulzv</a><br/>\n",
       "Run page: <a href=\"https://wandb.ai/1pha/paperswithtopic/runs/r6gsh2fn\" target=\"_blank\">https://wandb.ai/1pha/paperswithtopic/runs/r6gsh2fn</a><br/>\n",
       "                Run data is saved locally in <code>G:\\내 드라이브\\projects\\paperswithcode_nlp\\wandb\\run-20210702_162317-r6gsh2fn</code><br/><br/>\n",
       "            "
      ],
      "text/plain": [
       "<IPython.core.display.HTML object>"
      ]
     },
     "metadata": {},
     "output_type": "display_data"
    },
    {
     "name": "stderr",
     "output_type": "stream",
     "text": [
      "\u001b[34m\u001b[1mwandb\u001b[0m: \u001b[33mWARNING\u001b[0m Config item 'model_name' was locked by 'sweep' (ignored update).\n"
     ]
    },
    {
     "name": "stdout",
     "output_type": "stream",
     "text": [
      "Preprocess from zero-base.\n",
      "[load_data] 0.4 sec \n",
      "There are 49980 papers.\n",
      "[retrieve_raw_papers] 0.0 sec \n",
      "[remove_unknown] 0.3 sec \n",
      "[build_idx2word] 24.8 sec \n",
      "Use word2vec as embedding\n",
      "[train_embed] 3.0 sec \n",
      "[embed_gensim] 22.0 sec \n",
      "[pp_pipeline] 50.5 sec \n",
      "NUM TRAIN 44982 | NUM VALID 4998\n",
      "Use cuda:0 as a device.\n",
      "Load Electraclassification as model.\n",
      "Epoch 1 / 100, BEST AUC 0.000\n",
      "[train] 76.4 sec [valid] 6.2 sec \n",
      "TRAIN:: AUC 0.783 | LOSS 0.163\n",
      "VALID:: AUC 0.839 | LOSS 0.149\n",
      "saving model ...\n",
      "Epoch 2 / 100, BEST AUC 0.839\n",
      "[train] 72.3 sec [valid] 5.8 sec \n",
      "TRAIN:: AUC 0.829 | LOSS 0.150\n",
      "VALID:: AUC 0.850 | LOSS 0.142\n",
      "saving model ...\n",
      "Epoch 3 / 100, BEST AUC 0.850\n",
      "[train] 68.6 sec [valid] 5.9 sec \n",
      "TRAIN:: AUC 0.840 | LOSS 0.147\n",
      "VALID:: AUC 0.857 | LOSS 0.141\n",
      "saving model ...\n",
      "Epoch 4 / 100, BEST AUC 0.857\n",
      "[train] 68.7 sec [valid] 5.8 sec \n",
      "TRAIN:: AUC 0.849 | LOSS 0.144\n",
      "VALID:: AUC 0.864 | LOSS 0.137\n",
      "saving model ...\n",
      "Epoch 5 / 100, BEST AUC 0.864\n",
      "[train] 68.9 sec [valid] 6.2 sec \n",
      "TRAIN:: AUC 0.851 | LOSS 0.143\n",
      "VALID:: AUC 0.871 | LOSS 0.136\n",
      "saving model ...\n",
      "Epoch 6 / 100, BEST AUC 0.871\n",
      "[train] 67.9 sec [valid] 5.9 sec \n",
      "TRAIN:: AUC 0.857 | LOSS 0.141\n",
      "VALID:: AUC 0.867 | LOSS 0.137\n",
      "saving model ...\n",
      "Epoch 7 / 100, BEST AUC 0.871\n",
      "[train] 69.6 sec [valid] 5.9 sec \n",
      "TRAIN:: AUC 0.858 | LOSS 0.140\n",
      "VALID:: AUC 0.873 | LOSS 0.133\n",
      "saving model ...\n",
      "Epoch 8 / 100, BEST AUC 0.873\n",
      "[train] 67.9 sec [valid] 5.7 sec \n",
      "TRAIN:: AUC 0.865 | LOSS 0.138\n",
      "VALID:: AUC 0.877 | LOSS 0.132\n",
      "saving model ...\n",
      "Epoch 9 / 100, BEST AUC 0.877\n",
      "[train] 69.2 sec [valid] 5.7 sec \n",
      "TRAIN:: AUC 0.866 | LOSS 0.138\n",
      "VALID:: AUC 0.873 | LOSS 0.133\n",
      "saving model ...\n",
      "Epoch 10 / 100, BEST AUC 0.877\n",
      "[train] 66.9 sec [valid] 5.9 sec \n",
      "TRAIN:: AUC 0.863 | LOSS 0.139\n",
      "VALID:: AUC 0.878 | LOSS 0.132\n",
      "saving model ...\n",
      "Epoch 11 / 100, BEST AUC 0.878\n",
      "[train] 67.4 sec [valid] 5.7 sec \n",
      "TRAIN:: AUC 0.867 | LOSS 0.137\n",
      "VALID:: AUC 0.878 | LOSS 0.130\n",
      "saving model ...\n",
      "Epoch 12 / 100, BEST AUC 0.878\n",
      "[train] 65.1 sec [valid] 5.2 sec \n",
      "TRAIN:: AUC 0.870 | LOSS 0.136\n",
      "VALID:: AUC 0.882 | LOSS 0.129\n",
      "saving model ...\n",
      "Epoch 13 / 100, BEST AUC 0.882\n",
      "[train] 62.6 sec [valid] 5.1 sec \n",
      "TRAIN:: AUC 0.867 | LOSS 0.137\n",
      "VALID:: AUC 0.874 | LOSS 0.131\n",
      "saving model ...\n",
      "Epoch 14 / 100, BEST AUC 0.882\n",
      "[train] 61.4 sec [valid] 5.1 sec \n",
      "TRAIN:: AUC 0.865 | LOSS 0.138\n",
      "VALID:: AUC 0.879 | LOSS 0.132\n",
      "saving model ...\n",
      "Epoch 15 / 100, BEST AUC 0.882\n",
      "[train] 59.8 sec [valid] 4.9 sec \n",
      "TRAIN:: AUC 0.868 | LOSS 0.137\n",
      "VALID:: AUC 0.876 | LOSS 0.132\n",
      "saving model ...\n",
      "Epoch 16 / 100, BEST AUC 0.882\n",
      "[train] 60.0 sec [valid] 4.9 sec \n",
      "TRAIN:: AUC 0.869 | LOSS 0.136\n",
      "VALID:: AUC 0.873 | LOSS 0.134\n",
      "saving model ...\n",
      "Epoch 17 / 100, BEST AUC 0.882\n",
      "[train] 58.7 sec [valid] 4.8 sec \n",
      "TRAIN:: AUC 0.873 | LOSS 0.135\n",
      "VALID:: AUC 0.881 | LOSS 0.129\n",
      "saving model ...\n",
      "Epoch 18 / 100, BEST AUC 0.882\n",
      "[train] 57.8 sec [valid] 4.8 sec \n",
      "TRAIN:: AUC 0.873 | LOSS 0.135\n",
      "VALID:: AUC 0.878 | LOSS 0.130\n",
      "saving model ...\n",
      "Epoch 19 / 100, BEST AUC 0.882\n",
      "[train] 57.4 sec [valid] 4.6 sec \n",
      "TRAIN:: AUC 0.873 | LOSS 0.135\n",
      "VALID:: AUC 0.881 | LOSS 0.129\n",
      "saving model ...\n",
      "Epoch 20 / 100, BEST AUC 0.882\n",
      "[train] 58.0 sec [valid] 4.8 sec \n",
      "TRAIN:: AUC 0.873 | LOSS 0.135\n",
      "VALID:: AUC 0.882 | LOSS 0.129\n",
      "saving model ...\n",
      "Epoch 21 / 100, BEST AUC 0.882\n",
      "[train] 57.6 sec [valid] 4.7 sec \n",
      "TRAIN:: AUC 0.874 | LOSS 0.135\n",
      "VALID:: AUC 0.878 | LOSS 0.130\n",
      "saving model ...\n",
      "Epoch 22 / 100, BEST AUC 0.882\n",
      "[train] 58.5 sec [valid] 4.7 sec \n",
      "TRAIN:: AUC 0.871 | LOSS 0.136\n",
      "VALID:: AUC 0.863 | LOSS 0.137\n",
      "saving model ...\n"
     ]
    },
    {
     "name": "stderr",
     "output_type": "stream",
     "text": [
      "\u001b[34m\u001b[1mwandb\u001b[0m: \u001b[33mWARNING\u001b[0m Config item 'model_name' was locked by 'sweep' (ignored update).\n"
     ]
    },
    {
     "name": "stdout",
     "output_type": "stream",
     "text": [
      "EarlyStopping counter: 10 out of 10\n"
     ]
    },
    {
     "data": {
      "text/html": [
       "<br/>Waiting for W&B process to finish, PID 15176<br/>Program ended successfully."
      ],
      "text/plain": [
       "<IPython.core.display.HTML object>"
      ]
     },
     "metadata": {},
     "output_type": "display_data"
    },
    {
     "data": {
      "application/vnd.jupyter.widget-view+json": {
       "model_id": "",
       "version_major": 2,
       "version_minor": 0
      },
      "text/plain": [
       "VBox(children=(Label(value=' 0.00MB of 0.00MB uploaded (0.00MB deduped)\\r'), FloatProgress(value=1.0, max=1.0)…"
      ]
     },
     "metadata": {},
     "output_type": "display_data"
    },
    {
     "data": {
      "text/html": [
       "Find user logs for this run at: <code>G:\\내 드라이브\\projects\\paperswithcode_nlp\\wandb\\run-20210702_162317-r6gsh2fn\\logs\\debug.log</code>"
      ],
      "text/plain": [
       "<IPython.core.display.HTML object>"
      ]
     },
     "metadata": {},
     "output_type": "display_data"
    },
    {
     "data": {
      "text/html": [
       "Find internal logs for this run at: <code>G:\\내 드라이브\\projects\\paperswithcode_nlp\\wandb\\run-20210702_162317-r6gsh2fn\\logs\\debug-internal.log</code>"
      ],
      "text/plain": [
       "<IPython.core.display.HTML object>"
      ]
     },
     "metadata": {},
     "output_type": "display_data"
    },
    {
     "data": {
      "text/html": [
       "<h3>Run summary:</h3><br/><style>\n",
       "    table.wandb td:nth-child(1) { padding: 0 10px; text-align: right }\n",
       "    </style><table class=\"wandb\">\n",
       "<tr><td>train_auc</td><td>0.87145</td></tr><tr><td>valid_auc</td><td>0.86326</td></tr><tr><td>train_loss</td><td>0.13612</td></tr><tr><td>valid_loss</td><td>0.13712</td></tr><tr><td>_runtime</td><td>1632</td></tr><tr><td>_timestamp</td><td>1625212229</td></tr><tr><td>_step</td><td>21</td></tr></table>"
      ],
      "text/plain": [
       "<IPython.core.display.HTML object>"
      ]
     },
     "metadata": {},
     "output_type": "display_data"
    },
    {
     "data": {
      "text/html": [
       "<h3>Run history:</h3><br/><style>\n",
       "    table.wandb td:nth-child(1) { padding: 0 10px; text-align: right }\n",
       "    </style><table class=\"wandb\">\n",
       "<tr><td>train_auc</td><td>▁▅▅▆▆▇▇▇▇▇▇██▇████████</td></tr><tr><td>valid_auc</td><td>▁▃▄▅▆▅▇▇▆▇▇█▇▇▇▆█▇██▇▅</td></tr><tr><td>train_loss</td><td>█▅▄▃▃▃▂▂▂▂▂▁▂▂▂▁▁▁▁▁▁▁</td></tr><tr><td>valid_loss</td><td>█▆▅▄▄▄▃▂▂▂▂▁▂▂▂▃▁▁▁▁▁▄</td></tr><tr><td>_runtime</td><td>▁▁▂▂▂▃▃▄▄▄▅▅▅▆▆▆▆▇▇▇██</td></tr><tr><td>_timestamp</td><td>▁▁▂▂▂▃▃▄▄▄▅▅▅▆▆▆▆▇▇▇██</td></tr><tr><td>_step</td><td>▁▁▂▂▂▃▃▃▄▄▄▅▅▅▆▆▆▇▇▇██</td></tr></table><br/>"
      ],
      "text/plain": [
       "<IPython.core.display.HTML object>"
      ]
     },
     "metadata": {},
     "output_type": "display_data"
    },
    {
     "data": {
      "text/html": [
       "Synced 6 W&B file(s), 0 media file(s), 0 artifact file(s) and 0 other file(s)"
      ],
      "text/plain": [
       "<IPython.core.display.HTML object>"
      ]
     },
     "metadata": {},
     "output_type": "display_data"
    },
    {
     "data": {
      "text/html": [
       "\n",
       "                    <br/>Synced <strong style=\"color:#cdcd00\">giddy-sweep-3</strong>: <a href=\"https://wandb.ai/1pha/paperswithtopic/runs/r6gsh2fn\" target=\"_blank\">https://wandb.ai/1pha/paperswithtopic/runs/r6gsh2fn</a><br/>\n",
       "                "
      ],
      "text/plain": [
       "<IPython.core.display.HTML object>"
      ]
     },
     "metadata": {},
     "output_type": "display_data"
    },
    {
     "name": "stderr",
     "output_type": "stream",
     "text": [
      "\u001b[34m\u001b[1mwandb\u001b[0m: \u001b[32m\u001b[41mERROR\u001b[0m Run r6gsh2fn errored: NameError(\"name 'clear_output' is not defined\")\n",
      "\u001b[34m\u001b[1mwandb\u001b[0m: Sweep Agent: Waiting for job.\n",
      "\u001b[34m\u001b[1mwandb\u001b[0m: Sweep Agent: Exiting.\n"
     ]
    }
   ],
   "source": [
    "wandb.agent(sweep_id, function=run_sweep)"
   ]
  },
  {
   "cell_type": "code",
   "execution_count": null,
   "id": "7ba7c2fe",
   "metadata": {
    "ExecuteTime": {
     "start_time": "2021-07-02T11:34:59.432Z"
    }
   },
   "outputs": [],
   "source": [
    "sweep_config = {\n",
    "    'name': 'rnn-tfm',\n",
    "    'method': 'grid',\n",
    "    'metric': {\n",
    "        'name': 'valid_auc',\n",
    "        'goal': 'maximize',\n",
    "    },\n",
    "    'parameters': {\n",
    "        'model_name': {\n",
    "            'values': [\n",
    "                'rnn','lstm', 'gru'\n",
    "            ]\n",
    "        },\n",
    "        'pre_embed':{\n",
    "            'values': [False, 'word2vec', 'fasttext']\n",
    "        }\n",
    "            \n",
    "        \n",
    "    }\n",
    "}\n",
    "\n",
    "sweep_id = wandb.sweep(sweep_config, project='paperswithtopic')"
   ]
  },
  {
   "cell_type": "code",
   "execution_count": null,
   "id": "abfc1622",
   "metadata": {
    "ExecuteTime": {
     "start_time": "2021-07-02T11:34:59.656Z"
    }
   },
   "outputs": [],
   "source": [
    "from IPython.display import clear_output\n",
    "def run_sweep():\n",
    "    \n",
    "    with wandb.init(tags=['rnn-tfm']):\n",
    "        \n",
    "        cfg = load_config()\n",
    "        \n",
    "        _cfg = wandb.config\n",
    "        __cfg = dict(); __cfg.update(_cfg); cfg.update(__cfg)\n",
    "        \n",
    "        cfg.use_saved = False\n",
    "        cfg.pre_embed = 'fasttext'\n",
    "        cfg.embed_dim = 512\n",
    "        cfg.use_bert_embed = False\n",
    "        cfg.n_layers = 2\n",
    "        \n",
    "        name = f'SWEEP_MD{cfg.model_name}_EMB{cfg.pre_embed}'\n",
    "        \n",
    "        wandb.run.name = name\n",
    "        wandb.config.update(cfg)\n",
    "        \n",
    "        run(cfg)\n",
    "        \n",
    "        clear_output()"
   ]
  },
  {
   "cell_type": "code",
   "execution_count": null,
   "id": "5c4b19a2",
   "metadata": {
    "ExecuteTime": {
     "start_time": "2021-07-02T11:34:59.863Z"
    }
   },
   "outputs": [],
   "source": [
    "wandb.agent(sweep_id, function=run_sweep)"
   ]
  },
  {
   "cell_type": "markdown",
   "id": "6a5a21bc",
   "metadata": {},
   "source": [
    "# Manual Grid search without sweep"
   ]
  },
  {
   "cell_type": "code",
   "execution_count": 2,
   "id": "0dd54263",
   "metadata": {
    "ExecuteTime": {
     "end_time": "2021-06-22T12:03:59.382384Z",
     "start_time": "2021-06-22T12:03:59.362388Z"
    }
   },
   "outputs": [],
   "source": [
    "models = [\n",
    "    'rnn',\n",
    "    'electraclassification',\n",
    "]"
   ]
  },
  {
   "cell_type": "code",
   "execution_count": 3,
   "id": "3a45faaf",
   "metadata": {
    "ExecuteTime": {
     "end_time": "2021-06-22T12:03:59.398383Z",
     "start_time": "2021-06-22T12:03:59.383385Z"
    }
   },
   "outputs": [],
   "source": [
    "import os\n",
    "from IPython.display import clear_output\n",
    "# os.environ[\"WANDB_API_KEY\"] = 'ba0fb28501407ce88345f540a04e9f47cfc57bda'\n",
    "# os.environ[\"WANDB_MODE\"] = \"dryrun\""
   ]
  },
  {
   "cell_type": "code",
   "execution_count": 4,
   "id": "a301b9cc",
   "metadata": {
    "ExecuteTime": {
     "end_time": "2021-06-22T12:46:11.139239Z",
     "start_time": "2021-06-22T12:03:59.400385Z"
    },
    "scrolled": false
   },
   "outputs": [],
   "source": [
    "for model_name in models:\n",
    "    \n",
    "    cfg = load_config()\n",
    "\n",
    "    cfg.use_saved = False\n",
    "    cfg.pre_embed = 'word2vec'\n",
    "    cfg.use_bert_embed = False\n",
    "\n",
    "    cfg.model_name = model_name\n",
    "\n",
    "    name = f'SWEEP_MD{cfg.model_name}'\n",
    "    \n",
    "    wandb.init(project='paperswithtopic', tags=['word2vec'])\n",
    "    wandb.run.name = name    \n",
    "\n",
    "    run(cfg)\n",
    "    clear_output()"
   ]
  }
 ],
 "metadata": {
  "kernelspec": {
   "display_name": "Python 3",
   "language": "python",
   "name": "python3"
  },
  "language_info": {
   "codemirror_mode": {
    "name": "ipython",
    "version": 3
   },
   "file_extension": ".py",
   "mimetype": "text/x-python",
   "name": "python",
   "nbconvert_exporter": "python",
   "pygments_lexer": "ipython3",
   "version": "3.9.4"
  },
  "toc": {
   "base_numbering": 1,
   "nav_menu": {},
   "number_sections": false,
   "sideBar": true,
   "skip_h1_title": false,
   "title_cell": "Table of Contents",
   "title_sidebar": "Contents",
   "toc_cell": false,
   "toc_position": {
    "height": "calc(100% - 180px)",
    "left": "10px",
    "top": "150px",
    "width": "189px"
   },
   "toc_section_display": true,
   "toc_window_display": false
  }
 },
 "nbformat": 4,
 "nbformat_minor": 5
}
